{
 "cells": [
  {
   "cell_type": "markdown",
   "metadata": {},
   "source": [
    "## Project Challenge: Exploratory and predictive analytics upon the comprehensive IMDb data of movies released between 1980-2020\n",
    "\n",
    "### **_by Hanlu He (s183909), Mia Hang Knudsen (s183998), Jiafei Xia (s213084), Atefeh Hemmati Golsefidi (s216676)_**\n",
    "---\n",
    "## _Report_\n",
    "---\n",
    "## Table of Contents\n",
    "- [Part 1: <u>Introduction</u>](#intro)\n",
    "- [Part 2: <u>Data analysis and visualisation</u>](#datavis)\n",
    "    - [2.1: <u>Load and present basic information of the dataset</u>](#load)\n",
    "    - [2.2: <u>Dicussion of profiler output</u>](#profiler) \n",
    "- [Part 3: <u>Prediction challenge</u>](#prediction)\n",
    "    - [3.1: <u>The expected revenue (gross)</u>](#gross)\n",
    "    - [3.2: <u>IMDb score (score)</u>](#score) \n",
    "- [Part 4: <u>Exploratory component</u>](#explore)\n",
    "    - [4.1: <u>How did major economic crisis affect the production and financial revenue of US movies during 1980 to 2020 ?</u>](#q1)\n",
    "    - [4.2: <u>Q2</u>](#q2)\n",
    "- [Part 5: <u>Conclusion</u>](#conc)"
   ]
  },
  {
   "cell_type": "code",
   "execution_count": 1,
   "metadata": {},
   "outputs": [],
   "source": [
    "#data analysis libraries \n",
    "import numpy as np\n",
    "import pandas as pd\n",
    "pd.options.mode.chained_assignment = None\n",
    "\n",
    "from pandas_profiling import ProfileReport\n",
    "\n",
    "#visualization libraries\n",
    "import matplotlib.pyplot as plt\n",
    "import seaborn as sns\n",
    "plt.rcParams['figure.figsize'] = (18, 8)\n",
    "sns.set_theme()\n",
    "from ipywidgets import interact\n",
    "\n",
    "from bs4 import BeautifulSoup\n",
    "from IPython.core.display import display, HTML\n",
    "import requests\n",
    "# Webscraping \n",
    "import sklearn\n",
    "from sklearn.model_selection import train_test_split, KFold, cross_val_score\n",
    "from sklearn.linear_model import LinearRegression, Ridge, Lasso, LassoCV, Ridge, RidgeCV\n",
    "from sklearn.preprocessing import StandardScaler, PolynomialFeatures\n",
    "from sklearn.metrics import r2_score, mean_squared_error\n",
    "from sklearn.preprocessing import StandardScaler\n",
    "import scipy.stats as stats\n",
    "\n",
    "import tensorflow as tf\n",
    "from tensorflow import keras\n",
    "\n",
    "import os\n",
    "import tempfile\n",
    "\n",
    "import matplotlib as mpl\n",
    "\n",
    "\n",
    "%matplotlib inline"
   ]
  },
  {
   "cell_type": "markdown",
   "metadata": {},
   "source": [
    "---\n",
    "<a id='intro'></a>\n",
    "## Part 1: _<u>Introduction</u>_"
   ]
  },
  {
   "cell_type": "markdown",
   "metadata": {},
   "source": [
    "When talking about movie productions in the West, US always come up as the center having one of the largest revenue in the motion picture industry. The movies produced in the US has since last century gained wide range of dedicated audience around the world and US customers are also great contributors to many movies' international box office successes, especially with the power of Hollywood. With successful movies comes movie stars, directors, writers, and because of them one attracts more audience to walk into the cinemas and buy more movie tickets. Movie ratings also became an important metric people use to make decisions of whether to watch a movie or not, which in term are often directly linked to the movie's box office success. In this project we aim to predict the successes of movies released in the US from 1980 to 2020 in terms of their expected revenue and IMDb score, as well as exploring into the impact of major economic crisis on financial revenue of motion picture industry in US and how the structure of movie stars network potentially correlates to success of movies.\n",
    "\n",
    "We will be working with dataset obtained through kaggle called [Comprehensive IMDb Data](https://www.kaggle.com/austinwolff/comprehensive-imdb-data) as a starting point. The dataset contains movies released in the USA between 1980-2020 that has available box office data. The dataset was created with the intention of what features/variables contribute most to the movie's box office success. It is note that the original structure of the dataset is not as \"comprehensive\" as it claims by the title, therefore we have reconstructed the dataset into a new format that will be more efficient to use for the purpose of our investigation. The main goal of restructuring the dataset is to have unique movies as observations/rows and provide more effective overview of various attributes describing each movie. The detailed cleaning and data augmentation process can be seen in the appendix. Below is the features table that are included in the preprocessed dataset. \n",
    "\n",
    "| Feature        | Description                                                                         | Type                 |\n",
    "|----------------|-------------------------------------------------------------------------------------|----------------------|\n",
    "| title_year     | Combination of title of the movie and the year the movie was released               | Discrete -> nominal  |\n",
    "| title          | Title of the movie                                                                  | Discrete -> nominal  |\n",
    "| rating         | MPAA (Motion Picture Association of America film rating) of the movie               | Discrete -> nominal  |\n",
    "| region         | Region of release of the movie                                                      | Discrete -> nominal  |\n",
    "| released       | Release date of the movie                                                           | Discrete -> interval |\n",
    "| year           | Year of the movie release                                                           | Discrete -> interval |\n",
    "| month          | Month of the movie release                                                          | Discrete -> ordinal  |\n",
    "| day            | Day of the movie release                                                            | Discrete -> interval |\n",
    "| score          | IMDb score of the movie                                                             | Continuous -> ratio  |\n",
    "| director       | List of directors of the movie                                                      | Discrete -> nominal  |\n",
    "| writer         | List of writers of the movie                                                        | Discrete -> nominal  |\n",
    "| star           | List of stars (main actor/actress) of the movie                                     | Discrete -> nominal  |\n",
    "| country        | List of country of the production of the movie                                      | Discrete -> nominal  |\n",
    "| budget         | Budget of the movie in $1mm                                                         | Continuous -> ratio  |\n",
    "| gross          | Gross of the movie in $1mm                                                          | Continuous -> ratio  |\n",
    "| company        | Production company of the movie                                                     | Discrete -> nominal  |\n",
    "| runtime        | Runtime of the movie in minutes                                                     | Continuous -> ratio  |\n",
    "| primaryName    | List of name of people who worked on the movie                                      | Discrete -> nominal  |\n",
    "| category       | Dictionary of type of credit/role the persons in primaryNames had for the movie     | Discrete -> nominal  |\n",
    "| nconst         | Dictionary of person ID in IMDb's relational database for names in primaryNames     | Discrete -> nominal  |\n",
    "| knownForTitles | Dictionary of primaryNames mapped to the list of movie title IDs they are known for | Discrete -> nominal  |\n",
    "| Profit         | Profit of the movie (Gross-Budget) in $1mm                                          | Continuous -> ratio  |\n",
    "| released_2     | Release year and month of the movie                                                 | Discrete -> interval |\n",
    "| continent      | Continent of where the movie is produced                                            | Discrete -> nominal  |\n",
    "| duration       | Duration of the movie defined as (Long, Short)                                      | Discrete -> ordinal  |"
   ]
  },
  {
   "cell_type": "markdown",
   "metadata": {},
   "source": [
    "---\n",
    "<a id='datavis'></a>\n",
    "## Part 2: _<u>Data analysis and visualisation</u>_"
   ]
  },
  {
   "cell_type": "markdown",
   "metadata": {},
   "source": []
  },
  {
   "cell_type": "markdown",
   "metadata": {},
   "source": [
    "---\n",
    "<a id='prediction'></a>\n",
    "## Part 3: _<u>Prediction challenge</u>_"
   ]
  },
  {
   "cell_type": "markdown",
   "metadata": {},
   "source": [
    "<a id='gross'></a>\n",
    "### 3.1: _<u>The expected revenue (gross)</u>_"
   ]
  },
  {
   "cell_type": "markdown",
   "metadata": {},
   "source": [
    "<a id='score'></a>\n",
    "### 3.2: _<u>IMDb score (score)</u>_"
   ]
  },
  {
   "cell_type": "code",
   "execution_count": null,
   "metadata": {},
   "outputs": [],
   "source": [
    "df, df_movies = preprocess('Comprehensive IMDb Data.csv')\n",
    "df_movies.to_csv('df_movies.csv', index = False)"
   ]
  },
  {
   "cell_type": "code",
   "execution_count": 20,
   "metadata": {},
   "outputs": [],
   "source": [
    "from pandas.tseries.holiday import USFederalHolidayCalendar as calendar\n",
    "from sklearn.utils import shuffle\n",
    "train = pd.read_csv('df_movies.csv') #Load the dataframe to save time \n",
    "train['released'] = pd.to_datetime(train['released'],format='%Y-%m-%d')\n",
    "cal = calendar()\n",
    "holidays = cal.holidays(start=train.released.min(), end=train.released.max())\n",
    "train['Holiday'] = train['released'].isin(holidays).astype(int)"
   ]
  },
  {
   "cell_type": "code",
   "execution_count": 21,
   "metadata": {},
   "outputs": [],
   "source": [
    "# Devide the socre into three category: low, medium, and high\n",
    "low =np.percentile(train['score'], 10)\n",
    "high = np.percentile(train['score'], 90)\n",
    "train.loc[train['score'] <= low,'score'] = 1 \n",
    "train.loc[(train['score'] > low) & (train['score'] < high),'score']  = 2\n",
    "train.loc[train['score'] >= high, 'score']  = 3\n",
    "train['score'] = train['score'].astype(int)\n",
    "\n",
    "train = shuffle(train)"
   ]
  },
  {
   "cell_type": "markdown",
   "metadata": {},
   "source": [
    "#### SKlearn"
   ]
  },
  {
   "cell_type": "code",
   "execution_count": 664,
   "metadata": {},
   "outputs": [
    {
     "name": "stderr",
     "output_type": "stream",
     "text": [
      "C:\\Users\\hanlu\\anaconda3\\lib\\site-packages\\ipykernel_launcher.py:6: FutureWarning: Dropping of nuisance columns in DataFrame reductions (with 'numeric_only=None') is deprecated; in a future version this will raise TypeError.  Select only valid columns before calling the reduction.\n",
      "  \n",
      "C:\\Users\\hanlu\\anaconda3\\lib\\site-packages\\ipykernel_launcher.py:7: FutureWarning: Dropping of nuisance columns in DataFrame reductions (with 'numeric_only=None') is deprecated; in a future version this will raise TypeError.  Select only valid columns before calling the reduction.\n",
      "  import sys\n"
     ]
    },
    {
     "ename": "TypeError",
     "evalue": "'float' object is not iterable",
     "output_type": "error",
     "traceback": [
      "\u001b[1;31m---------------------------------------------------------------------------\u001b[0m",
      "\u001b[1;31mTypeError\u001b[0m                                 Traceback (most recent call last)",
      "\u001b[1;32m<ipython-input-664-9ad456a489a7>\u001b[0m in \u001b[0;36m<module>\u001b[1;34m\u001b[0m\n\u001b[0;32m     15\u001b[0m \u001b[0mfeature_onehot\u001b[0m \u001b[1;33m=\u001b[0m \u001b[1;33m[\u001b[0m\u001b[1;34m'director'\u001b[0m\u001b[1;33m,\u001b[0m\u001b[1;34m'writer'\u001b[0m\u001b[1;33m,\u001b[0m\u001b[1;34m'star'\u001b[0m\u001b[1;33m,\u001b[0m\u001b[1;34m'company'\u001b[0m\u001b[1;33m,\u001b[0m\u001b[1;34m'rating'\u001b[0m\u001b[1;33m,\u001b[0m\u001b[1;34m'genre'\u001b[0m\u001b[1;33m,\u001b[0m\u001b[1;34m'month'\u001b[0m\u001b[1;33m,\u001b[0m\u001b[1;34m'country'\u001b[0m\u001b[1;33m,\u001b[0m\u001b[1;34m'duration'\u001b[0m\u001b[1;33m,\u001b[0m\u001b[1;34m'continent'\u001b[0m\u001b[1;33m]\u001b[0m\u001b[1;33m\u001b[0m\u001b[1;33m\u001b[0m\u001b[0m\n\u001b[0;32m     16\u001b[0m \u001b[1;33m\u001b[0m\u001b[0m\n\u001b[1;32m---> 17\u001b[1;33m \u001b[0mbinary_features\u001b[0m\u001b[1;33m(\u001b[0m\u001b[0mtrain\u001b[0m \u001b[1;33m=\u001b[0m \u001b[0mx_train\u001b[0m\u001b[1;33m,\u001b[0m \u001b[0mtest\u001b[0m \u001b[1;33m=\u001b[0m \u001b[0mx_test\u001b[0m\u001b[1;33m,\u001b[0m \u001b[0mfeatures\u001b[0m \u001b[1;33m=\u001b[0m \u001b[0mfeature_onehot\u001b[0m\u001b[1;33m,\u001b[0m \u001b[0mN\u001b[0m \u001b[1;33m=\u001b[0m \u001b[1;36m15\u001b[0m\u001b[1;33m)\u001b[0m\u001b[1;33m\u001b[0m\u001b[1;33m\u001b[0m\u001b[0m\n\u001b[0m",
      "\u001b[1;32m<ipython-input-660-c5817d017cd7>\u001b[0m in \u001b[0;36mbinary_features\u001b[1;34m(features, N, train, test)\u001b[0m\n\u001b[0;32m      7\u001b[0m         \u001b[0mlist_change\u001b[0m \u001b[1;33m=\u001b[0m \u001b[1;33m[\u001b[0m\u001b[1;34m'primaryName'\u001b[0m\u001b[1;33m,\u001b[0m \u001b[1;34m'actor'\u001b[0m\u001b[1;33m,\u001b[0m \u001b[1;34m'other_cat'\u001b[0m\u001b[1;33m,\u001b[0m \u001b[1;34m'director'\u001b[0m\u001b[1;33m,\u001b[0m \u001b[1;34m'writer'\u001b[0m\u001b[1;33m]\u001b[0m\u001b[1;33m\u001b[0m\u001b[1;33m\u001b[0m\u001b[0m\n\u001b[0;32m      8\u001b[0m         \u001b[1;32mif\u001b[0m \u001b[0mfeature\u001b[0m \u001b[1;32min\u001b[0m \u001b[0mlist_change\u001b[0m\u001b[1;33m:\u001b[0m\u001b[1;33m\u001b[0m\u001b[1;33m\u001b[0m\u001b[0m\n\u001b[1;32m----> 9\u001b[1;33m             \u001b[0mtrain\u001b[0m\u001b[1;33m[\u001b[0m\u001b[0mfeature\u001b[0m\u001b[1;33m]\u001b[0m\u001b[1;33m=\u001b[0m \u001b[0mtrain\u001b[0m\u001b[1;33m[\u001b[0m\u001b[0mfeature\u001b[0m\u001b[1;33m]\u001b[0m\u001b[1;33m.\u001b[0m\u001b[0mapply\u001b[0m\u001b[1;33m(\u001b[0m\u001b[1;32mlambda\u001b[0m \u001b[0mx\u001b[0m\u001b[1;33m:\u001b[0m\u001b[1;33m[\u001b[0m\u001b[0mg\u001b[0m \u001b[1;32mfor\u001b[0m \u001b[0mg\u001b[0m \u001b[1;32min\u001b[0m \u001b[0mx\u001b[0m\u001b[1;33m]\u001b[0m\u001b[1;33m)\u001b[0m\u001b[1;33m\u001b[0m\u001b[1;33m\u001b[0m\u001b[0m\n\u001b[0m\u001b[0;32m     10\u001b[0m             \u001b[0mtrain\u001b[0m\u001b[1;33m[\u001b[0m\u001b[0mfeature\u001b[0m\u001b[1;33m]\u001b[0m\u001b[1;33m=\u001b[0m \u001b[0mtrain\u001b[0m\u001b[1;33m[\u001b[0m\u001b[0mfeature\u001b[0m\u001b[1;33m]\u001b[0m\u001b[1;33m.\u001b[0m\u001b[0mapply\u001b[0m\u001b[1;33m(\u001b[0m\u001b[1;32mlambda\u001b[0m \u001b[0mx\u001b[0m\u001b[1;33m:\u001b[0m\u001b[1;33m[\u001b[0m\u001b[0mg\u001b[0m \u001b[1;32mfor\u001b[0m \u001b[0mg\u001b[0m \u001b[1;32min\u001b[0m \u001b[0mx\u001b[0m\u001b[1;33m]\u001b[0m\u001b[1;33m)\u001b[0m\u001b[1;33m\u001b[0m\u001b[1;33m\u001b[0m\u001b[0m\n\u001b[0;32m     11\u001b[0m         \u001b[1;32melse\u001b[0m\u001b[1;33m:\u001b[0m\u001b[1;33m\u001b[0m\u001b[1;33m\u001b[0m\u001b[0m\n",
      "\u001b[1;32m~\\anaconda3\\lib\\site-packages\\pandas\\core\\series.py\u001b[0m in \u001b[0;36mapply\u001b[1;34m(self, func, convert_dtype, args, **kwargs)\u001b[0m\n\u001b[0;32m   4355\u001b[0m         \u001b[0mdtype\u001b[0m\u001b[1;33m:\u001b[0m \u001b[0mfloat64\u001b[0m\u001b[1;33m\u001b[0m\u001b[1;33m\u001b[0m\u001b[0m\n\u001b[0;32m   4356\u001b[0m         \"\"\"\n\u001b[1;32m-> 4357\u001b[1;33m         \u001b[1;32mreturn\u001b[0m \u001b[0mSeriesApply\u001b[0m\u001b[1;33m(\u001b[0m\u001b[0mself\u001b[0m\u001b[1;33m,\u001b[0m \u001b[0mfunc\u001b[0m\u001b[1;33m,\u001b[0m \u001b[0mconvert_dtype\u001b[0m\u001b[1;33m,\u001b[0m \u001b[0margs\u001b[0m\u001b[1;33m,\u001b[0m \u001b[0mkwargs\u001b[0m\u001b[1;33m)\u001b[0m\u001b[1;33m.\u001b[0m\u001b[0mapply\u001b[0m\u001b[1;33m(\u001b[0m\u001b[1;33m)\u001b[0m\u001b[1;33m\u001b[0m\u001b[1;33m\u001b[0m\u001b[0m\n\u001b[0m\u001b[0;32m   4358\u001b[0m \u001b[1;33m\u001b[0m\u001b[0m\n\u001b[0;32m   4359\u001b[0m     def _reduce(\n",
      "\u001b[1;32m~\\anaconda3\\lib\\site-packages\\pandas\\core\\apply.py\u001b[0m in \u001b[0;36mapply\u001b[1;34m(self)\u001b[0m\n\u001b[0;32m   1041\u001b[0m             \u001b[1;32mreturn\u001b[0m \u001b[0mself\u001b[0m\u001b[1;33m.\u001b[0m\u001b[0mapply_str\u001b[0m\u001b[1;33m(\u001b[0m\u001b[1;33m)\u001b[0m\u001b[1;33m\u001b[0m\u001b[1;33m\u001b[0m\u001b[0m\n\u001b[0;32m   1042\u001b[0m \u001b[1;33m\u001b[0m\u001b[0m\n\u001b[1;32m-> 1043\u001b[1;33m         \u001b[1;32mreturn\u001b[0m \u001b[0mself\u001b[0m\u001b[1;33m.\u001b[0m\u001b[0mapply_standard\u001b[0m\u001b[1;33m(\u001b[0m\u001b[1;33m)\u001b[0m\u001b[1;33m\u001b[0m\u001b[1;33m\u001b[0m\u001b[0m\n\u001b[0m\u001b[0;32m   1044\u001b[0m \u001b[1;33m\u001b[0m\u001b[0m\n\u001b[0;32m   1045\u001b[0m     \u001b[1;32mdef\u001b[0m \u001b[0magg\u001b[0m\u001b[1;33m(\u001b[0m\u001b[0mself\u001b[0m\u001b[1;33m)\u001b[0m\u001b[1;33m:\u001b[0m\u001b[1;33m\u001b[0m\u001b[1;33m\u001b[0m\u001b[0m\n",
      "\u001b[1;32m~\\anaconda3\\lib\\site-packages\\pandas\\core\\apply.py\u001b[0m in \u001b[0;36mapply_standard\u001b[1;34m(self)\u001b[0m\n\u001b[0;32m   1100\u001b[0m                     \u001b[0mvalues\u001b[0m\u001b[1;33m,\u001b[0m\u001b[1;33m\u001b[0m\u001b[1;33m\u001b[0m\u001b[0m\n\u001b[0;32m   1101\u001b[0m                     \u001b[0mf\u001b[0m\u001b[1;33m,\u001b[0m  \u001b[1;31m# type: ignore[arg-type]\u001b[0m\u001b[1;33m\u001b[0m\u001b[1;33m\u001b[0m\u001b[0m\n\u001b[1;32m-> 1102\u001b[1;33m                     \u001b[0mconvert\u001b[0m\u001b[1;33m=\u001b[0m\u001b[0mself\u001b[0m\u001b[1;33m.\u001b[0m\u001b[0mconvert_dtype\u001b[0m\u001b[1;33m,\u001b[0m\u001b[1;33m\u001b[0m\u001b[1;33m\u001b[0m\u001b[0m\n\u001b[0m\u001b[0;32m   1103\u001b[0m                 )\n\u001b[0;32m   1104\u001b[0m \u001b[1;33m\u001b[0m\u001b[0m\n",
      "\u001b[1;32m~\\anaconda3\\lib\\site-packages\\pandas\\_libs\\lib.pyx\u001b[0m in \u001b[0;36mpandas._libs.lib.map_infer\u001b[1;34m()\u001b[0m\n",
      "\u001b[1;32m<ipython-input-660-c5817d017cd7>\u001b[0m in \u001b[0;36m<lambda>\u001b[1;34m(x)\u001b[0m\n\u001b[0;32m      7\u001b[0m         \u001b[0mlist_change\u001b[0m \u001b[1;33m=\u001b[0m \u001b[1;33m[\u001b[0m\u001b[1;34m'primaryName'\u001b[0m\u001b[1;33m,\u001b[0m \u001b[1;34m'actor'\u001b[0m\u001b[1;33m,\u001b[0m \u001b[1;34m'other_cat'\u001b[0m\u001b[1;33m,\u001b[0m \u001b[1;34m'director'\u001b[0m\u001b[1;33m,\u001b[0m \u001b[1;34m'writer'\u001b[0m\u001b[1;33m]\u001b[0m\u001b[1;33m\u001b[0m\u001b[1;33m\u001b[0m\u001b[0m\n\u001b[0;32m      8\u001b[0m         \u001b[1;32mif\u001b[0m \u001b[0mfeature\u001b[0m \u001b[1;32min\u001b[0m \u001b[0mlist_change\u001b[0m\u001b[1;33m:\u001b[0m\u001b[1;33m\u001b[0m\u001b[1;33m\u001b[0m\u001b[0m\n\u001b[1;32m----> 9\u001b[1;33m             \u001b[0mtrain\u001b[0m\u001b[1;33m[\u001b[0m\u001b[0mfeature\u001b[0m\u001b[1;33m]\u001b[0m\u001b[1;33m=\u001b[0m \u001b[0mtrain\u001b[0m\u001b[1;33m[\u001b[0m\u001b[0mfeature\u001b[0m\u001b[1;33m]\u001b[0m\u001b[1;33m.\u001b[0m\u001b[0mapply\u001b[0m\u001b[1;33m(\u001b[0m\u001b[1;32mlambda\u001b[0m \u001b[0mx\u001b[0m\u001b[1;33m:\u001b[0m\u001b[1;33m[\u001b[0m\u001b[0mg\u001b[0m \u001b[1;32mfor\u001b[0m \u001b[0mg\u001b[0m \u001b[1;32min\u001b[0m \u001b[0mx\u001b[0m\u001b[1;33m]\u001b[0m\u001b[1;33m)\u001b[0m\u001b[1;33m\u001b[0m\u001b[1;33m\u001b[0m\u001b[0m\n\u001b[0m\u001b[0;32m     10\u001b[0m             \u001b[0mtrain\u001b[0m\u001b[1;33m[\u001b[0m\u001b[0mfeature\u001b[0m\u001b[1;33m]\u001b[0m\u001b[1;33m=\u001b[0m \u001b[0mtrain\u001b[0m\u001b[1;33m[\u001b[0m\u001b[0mfeature\u001b[0m\u001b[1;33m]\u001b[0m\u001b[1;33m.\u001b[0m\u001b[0mapply\u001b[0m\u001b[1;33m(\u001b[0m\u001b[1;32mlambda\u001b[0m \u001b[0mx\u001b[0m\u001b[1;33m:\u001b[0m\u001b[1;33m[\u001b[0m\u001b[0mg\u001b[0m \u001b[1;32mfor\u001b[0m \u001b[0mg\u001b[0m \u001b[1;32min\u001b[0m \u001b[0mx\u001b[0m\u001b[1;33m]\u001b[0m\u001b[1;33m)\u001b[0m\u001b[1;33m\u001b[0m\u001b[1;33m\u001b[0m\u001b[0m\n\u001b[0;32m     11\u001b[0m         \u001b[1;32melse\u001b[0m\u001b[1;33m:\u001b[0m\u001b[1;33m\u001b[0m\u001b[1;33m\u001b[0m\u001b[0m\n",
      "\u001b[1;31mTypeError\u001b[0m: 'float' object is not iterable"
     ]
    }
   ],
   "source": [
    "from sklearn.utils import shuffle\n",
    "\n",
    "X = shuffle(train)\n",
    "\n",
    "## define features to use \n",
    "target = X['score']\n",
    "\n",
    "unwanted = ['title_year','titleId','title','primaryName','category','region',\n",
    "'released','released_2','day','score','nconst','knownForTitles','year']\n",
    "\n",
    "features = X[X.columns[~X.columns.isin(unwanted)]]\n",
    "\n",
    "x_train, x_test, y_train, y_test = split_stand(features, target)\n",
    "\n",
    "feature_onehot = ['director','writer','star','company','rating','genre','month','country','duration','continent']\n",
    "\n",
    "binary_features(train = x_train, test = x_test, features = feature_onehot, N = 15)"
   ]
  },
  {
   "cell_type": "code",
   "execution_count": 21,
   "metadata": {},
   "outputs": [
    {
     "data": {
      "image/png": "[encoded data removed]",
      "text/plain": [
       "<Figure size 864x432 with 1 Axes>"
      ]
     },
     "metadata": {
      "needs_background": "light"
     },
     "output_type": "display_data"
    }
   ],
   "source": [
    "## PCA\n",
    "from sklearn import decomposition\n",
    "pca=decomposition.PCA()\n",
    "pca.fit(x_train)\n",
    "\n",
    "plt.rcParams[\"figure.figsize\"] = (12,6)\n",
    "\n",
    "fig, ax = plt.subplots()\n",
    "y = np.cumsum(pca.explained_variance_ratio_)\n",
    "plt.ylim(0.0,1.1)\n",
    "plt.plot(range(len(y)), y, marker='o', linestyle='--', color='b')\n",
    "\n",
    "plt.xlabel('Number of Components')\n",
    "plt.ylabel('Cumulative variance (%)')\n",
    "plt.title('The number of components needed to explain variance')\n",
    "\n",
    "plt.axhline(y=0.75, color='r', linestyle='-')\n",
    "plt.text(0.5, 0.90, '75% cut-off threshold', color = 'red', fontsize=16)\n",
    "\n",
    "ax.grid(axis='x')\n",
    "plt.show()"
   ]
  },
  {
   "cell_type": "code",
   "execution_count": 22,
   "metadata": {},
   "outputs": [
    {
     "data": {
      "text/plain": [
       "7"
      ]
     },
     "execution_count": 22,
     "metadata": {},
     "output_type": "execute_result"
    }
   ],
   "source": [
    "np.where(y >= 0.75)[0][0]"
   ]
  },
  {
   "cell_type": "code",
   "execution_count": 23,
   "metadata": {},
   "outputs": [],
   "source": [
    "from sklearn.decomposition import PCA as sklearnPCA\n",
    "\n",
    "sklearn_pca = sklearnPCA(n_components=8)\n",
    "x_train_trans = sklearn_pca.fit_transform(x_train)\n",
    "x_test_trans = sklearn_pca.fit_transform(x_test)"
   ]
  },
  {
   "cell_type": "code",
   "execution_count": 24,
   "metadata": {},
   "outputs": [
    {
     "data": {
      "text/html": [
       "<div>\n",
       "<style scoped>\n",
       "    .dataframe tbody tr th:only-of-type {\n",
       "        vertical-align: middle;\n",
       "    }\n",
       "\n",
       "    .dataframe tbody tr th {\n",
       "        vertical-align: top;\n",
       "    }\n",
       "\n",
       "    .dataframe thead th {\n",
       "        text-align: right;\n",
       "    }\n",
       "</style>\n",
       "<table border=\"1\" class=\"dataframe\">\n",
       "  <thead>\n",
       "    <tr style=\"text-align: right;\">\n",
       "      <th></th>\n",
       "      <th>4</th>\n",
       "      <th>3</th>\n",
       "      <th>2</th>\n",
       "      <th>0</th>\n",
       "      <th>5</th>\n",
       "      <th>1</th>\n",
       "      <th>6</th>\n",
       "    </tr>\n",
       "  </thead>\n",
       "  <tbody>\n",
       "    <tr>\n",
       "      <th>Model</th>\n",
       "      <td>Naive Bayes</td>\n",
       "      <td>Random Forest</td>\n",
       "      <td>Logistic Regression</td>\n",
       "      <td>Support Vector Machines</td>\n",
       "      <td>Perceptron</td>\n",
       "      <td>KNN</td>\n",
       "      <td>Decision Tree</td>\n",
       "    </tr>\n",
       "    <tr>\n",
       "      <th>f1_score</th>\n",
       "      <td>0.715167</td>\n",
       "      <td>0.700157</td>\n",
       "      <td>0.698201</td>\n",
       "      <td>0.697405</td>\n",
       "      <td>0.682786</td>\n",
       "      <td>0.668526</td>\n",
       "      <td>0.652328</td>\n",
       "    </tr>\n",
       "  </tbody>\n",
       "</table>\n",
       "</div>"
      ],
      "text/plain": [
       "                    4              3                    2  \\\n",
       "Model     Naive Bayes  Random Forest  Logistic Regression   \n",
       "f1_score     0.715167       0.700157             0.698201   \n",
       "\n",
       "                                0           5         1              6  \n",
       "Model     Support Vector Machines  Perceptron       KNN  Decision Tree  \n",
       "f1_score                 0.697405    0.682786  0.668526       0.652328  "
      ]
     },
     "execution_count": 24,
     "metadata": {},
     "output_type": "execute_result"
    }
   ],
   "source": [
    "df_eval, model = optimal_model(x_train_trans, y_train, x_test_trans, y_test)\n",
    "df_eval"
   ]
  },
  {
   "cell_type": "code",
   "execution_count": 25,
   "metadata": {},
   "outputs": [
    {
     "name": "stdout",
     "output_type": "stream",
     "text": [
      "Confusion matrix:\n",
      "[[ 19 124   0]\n",
      " [ 25 939  64]\n",
      " [  2 116  37]]\n",
      "              precision    recall  f1-score   support\n",
      "\n",
      "         low       0.41      0.13      0.20       143\n",
      "      medium       0.80      0.91      0.85      1028\n",
      "        high       0.37      0.24      0.29       155\n",
      "\n",
      "    accuracy                           0.75      1326\n",
      "   macro avg       0.53      0.43      0.45      1326\n",
      "weighted avg       0.70      0.75      0.72      1326\n",
      "\n",
      "The average f1-score is 0.711 for 100 runs.\n"
     ]
    }
   ],
   "source": [
    "model_reflection(model, x_test_trans, y_test, features, target)"
   ]
  },
  {
   "cell_type": "markdown",
   "metadata": {},
   "source": [
    "#### ANN"
   ]
  },
  {
   "cell_type": "code",
   "execution_count": 22,
   "metadata": {},
   "outputs": [],
   "source": [
    "from sklearn.utils import shuffle\n",
    "from keras.models import Sequential\n",
    "from keras.layers import Dense\n",
    "from keras.wrappers.scikit_learn import KerasClassifier\n",
    "from keras.utils import np_utils\n",
    "from sklearn.model_selection import cross_val_score\n",
    "from sklearn.model_selection import KFold\n",
    "from sklearn.preprocessing import LabelEncoder\n",
    "from sklearn.pipeline import Pipeline\n",
    "from keras.layers import Dense, Dropout\n",
    "from tensorflow.keras.utils import to_categorical\n",
    "colors = plt.rcParams['axes.prop_cycle'].by_key()['color']\n"
   ]
  },
  {
   "cell_type": "markdown",
   "metadata": {},
   "source": [
    "#### Examine class label imbalance"
   ]
  },
  {
   "cell_type": "code",
   "execution_count": 23,
   "metadata": {},
   "outputs": [
    {
     "name": "stdout",
     "output_type": "stream",
     "text": [
      "Examples:\n",
      "    Total: 5304\n",
      "    low: 565 (10.65% of total)\n",
      "  medium: 4090 (77.11% of total)\n",
      " high: 649 (12.24% of total)\n",
      "\n"
     ]
    }
   ],
   "source": [
    "_, low, medium, high = np.bincount(train['score'])\n",
    "total =low + medium + high\n",
    "print('Examples:\\n    Total: {}\\n    low: {} ({:.2f}% of total)\\n  medium: {} ({:.2f}% of total)\\n high: {} ({:.2f}% of total)\\n'.format(\n",
    "    total, low, 100 * low / total, medium, 100 * medium / total, high, 100 * high / total))"
   ]
  },
  {
   "cell_type": "markdown",
   "metadata": {},
   "source": [
    "#### Clean, split and normalize the data"
   ]
  },
  {
   "cell_type": "code",
   "execution_count": 24,
   "metadata": {},
   "outputs": [
    {
     "name": "stdout",
     "output_type": "stream",
     "text": [
      "Training labels shape: (2983, 3)\n",
      "Validation labels shape: (995, 3)\n",
      "Test labels shape: (1326, 3)\n",
      "Training features shape: (2983, 123)\n",
      "Validation features shape: (995, 123)\n",
      "Test features shape: (1326, 123)\n"
     ]
    }
   ],
   "source": [
    "## define features to use \n",
    "unwanted = ['title_year','titleId','title','primaryName','category','region',\n",
    "'released','released_2','day','score','nconst','knownForTitles','year']\n",
    "\n",
    "# Finding and one hot encode the features with the top 15 most common\n",
    "X= train[train.columns[~train.columns.isin(unwanted)]]\n",
    "## define target variable \n",
    "Y = train.score.values\n",
    "\n",
    "# Use a utility from sklearn to split and shuffle your dataset.\n",
    "X_train, X_test, y_train, y_test = train_test_split(X, Y, test_size=0.25,random_state=11)\n",
    "X_train, X_val, y_train, y_val  = train_test_split(X_train, y_train, test_size=0.25,random_state=11)\n",
    "\n",
    "\n",
    "feature_onehot = ['director','writer','star','company','rating','genre','month','country','duration','continent']\n",
    "X_train, X_test, X_val =  binary_features_val(train = X_train, test = X_test, val = X_val, features = feature_onehot, N = 15)\n",
    "\n",
    "\n",
    "# Create categorical labels\n",
    "\n",
    "train_labels = to_categorical(y_train)[:,1:]\n",
    "test_labels = to_categorical(y_test)[:,1:]\n",
    "val_labels = to_categorical(y_val)[:,1:]\n",
    "\n",
    "## Standarization \n",
    "x_mean = X_train.iloc[:,0:4].mean()\n",
    "x_std = X_train.iloc[:,0:4].std()\n",
    "\n",
    "X_train.iloc[:,0:4] = (X_train.iloc[:,0:4] - x_mean) / x_std\n",
    "X_test.iloc[:,0:4] = (X_test.iloc[:,0:4] - x_mean) / x_std\n",
    "X_val.iloc[:,0:4] = (X_val.iloc[:,0:4] - x_mean) / x_std\n",
    "\n",
    "print('Training labels shape:', train_labels.shape)\n",
    "print('Validation labels shape:', val_labels.shape)\n",
    "print('Test labels shape:', test_labels.shape)\n",
    "\n",
    "print('Training features shape:', X_train.shape)\n",
    "print('Validation features shape:', X_val.shape)\n",
    "print('Test features shape:', X_test.shape)"
   ]
  },
  {
   "cell_type": "markdown",
   "metadata": {},
   "source": [
    "#### Define model and metrics "
   ]
  },
  {
   "cell_type": "code",
   "execution_count": 25,
   "metadata": {},
   "outputs": [],
   "source": [
    "METRICS = [\n",
    "      keras.metrics.TruePositives(name='tp'),\n",
    "      keras.metrics.FalsePositives(name='fp'),\n",
    "      keras.metrics.TrueNegatives(name='tn'),\n",
    "      keras.metrics.FalseNegatives(name='fn'), \n",
    "      keras.metrics.CategoricalAccuracy(name='accuracy'),\n",
    "      keras.metrics.Precision(name='precision'),\n",
    "      keras.metrics.Recall(name='recall'),\n",
    "      keras.metrics.AUC(name='auc'),\n",
    "      keras.metrics.AUC(name='prc', curve='PR'), # precision-recall curve\n",
    "]\n",
    "\n",
    "def make_model(metrics=METRICS, output_bias=None):\n",
    "  if output_bias is not None:\n",
    "    output_bias = tf.keras.initializers.Constant(output_bias)\n",
    "  model = keras.Sequential([\n",
    "      keras.layers.Dense(\n",
    "          64, activation='relu',\n",
    "          input_shape=(X_train.shape[-1],)),\n",
    "      keras.layers.Dropout(0.5),\n",
    "      keras.layers.Dense(8,activation='relu'),\n",
    "      keras.layers.Dropout(0.5),\n",
    "      keras.layers.Dense(3, activation='softmax',\n",
    "                         bias_initializer=output_bias),\n",
    "  ])\n",
    "\n",
    "  model.compile(\n",
    "      optimizer=keras.optimizers.Adam(learning_rate=1e-4),\n",
    "      loss=keras.losses.CategoricalCrossentropy(),\n",
    "      metrics=metrics)\n",
    "\n",
    "  return model"
   ]
  },
  {
   "cell_type": "code",
   "execution_count": 26,
   "metadata": {},
   "outputs": [],
   "source": [
    "EPOCHS = 100\n",
    "BATCH_SIZE = 50\n",
    "\n",
    "early_stopping = tf.keras.callbacks.EarlyStopping(\n",
    "    monitor='val_prc',\n",
    "    verbose=1,\n",
    "    patience=10,\n",
    "    mode='max',\n",
    "    restore_best_weights=True)"
   ]
  },
  {
   "cell_type": "code",
   "execution_count": 28,
   "metadata": {},
   "outputs": [],
   "source": [
    "model = make_model()\n",
    "initial_weights = os.path.join(tempfile.mkdtemp(), 'initial_weights')\n",
    "model.save_weights(initial_weights)"
   ]
  },
  {
   "cell_type": "markdown",
   "metadata": {},
   "source": [
    "#### Train the model"
   ]
  },
  {
   "cell_type": "code",
   "execution_count": 29,
   "metadata": {},
   "outputs": [
    {
     "name": "stdout",
     "output_type": "stream",
     "text": [
      "Epoch 1/100\n",
      "60/60 [==============================] - 2s 11ms/step - loss: 1.1491 - tp: 246.0000 - fp: 601.0000 - tn: 5365.0000 - fn: 2737.0000 - accuracy: 0.2491 - precision: 0.2904 - recall: 0.0825 - auc: 0.5310 - prc: 0.3367 - val_loss: 1.0499 - val_tp: 11.0000 - val_fp: 15.0000 - val_tn: 1975.0000 - val_fn: 984.0000 - val_accuracy: 0.2653 - val_precision: 0.4231 - val_recall: 0.0111 - val_auc: 0.5797 - val_prc: 0.3508\n",
      "Epoch 2/100\n",
      "60/60 [==============================] - 0s 2ms/step - loss: 1.0392 - tp: 282.0000 - fp: 332.0000 - tn: 5634.0000 - fn: 2701.0000 - accuracy: 0.3004 - precision: 0.4593 - recall: 0.0945 - auc: 0.6187 - prc: 0.4137 - val_loss: 0.9751 - val_tp: 32.0000 - val_fp: 12.0000 - val_tn: 1978.0000 - val_fn: 963.0000 - val_accuracy: 0.4955 - val_precision: 0.7273 - val_recall: 0.0322 - val_auc: 0.7311 - val_prc: 0.5420\n",
      "Epoch 3/100\n",
      "60/60 [==============================] - 0s 2ms/step - loss: 0.9816 - tp: 479.0000 - fp: 296.0000 - tn: 5670.0000 - fn: 2504.0000 - accuracy: 0.3845 - precision: 0.6181 - recall: 0.1606 - auc: 0.6898 - prc: 0.5080 - val_loss: 0.8996 - val_tp: 180.0000 - val_fp: 54.0000 - val_tn: 1936.0000 - val_fn: 815.0000 - val_accuracy: 0.7045 - val_precision: 0.7692 - val_recall: 0.1809 - val_auc: 0.8369 - val_prc: 0.7052\n",
      "Epoch 4/100\n",
      "60/60 [==============================] - 0s 2ms/step - loss: 0.9334 - tp: 700.0000 - fp: 267.0000 - tn: 5699.0000 - fn: 2283.0000 - accuracy: 0.4536 - precision: 0.7239 - recall: 0.2347 - auc: 0.7379 - prc: 0.5788 - val_loss: 0.8286 - val_tp: 464.0000 - val_fp: 110.0000 - val_tn: 1880.0000 - val_fn: 531.0000 - val_accuracy: 0.7588 - val_precision: 0.8084 - val_recall: 0.4663 - val_auc: 0.8521 - val_prc: 0.7286\n",
      "Epoch 5/100\n",
      "60/60 [==============================] - 0s 2ms/step - loss: 0.9133 - tp: 888.0000 - fp: 322.0000 - tn: 5644.0000 - fn: 2095.0000 - accuracy: 0.5196 - precision: 0.7339 - recall: 0.2977 - auc: 0.7645 - prc: 0.6065 - val_loss: 0.7816 - val_tp: 623.0000 - val_fp: 155.0000 - val_tn: 1835.0000 - val_fn: 372.0000 - val_accuracy: 0.7799 - val_precision: 0.8008 - val_recall: 0.6261 - val_auc: 0.8550 - val_prc: 0.7317\n",
      "Epoch 6/100\n",
      "60/60 [==============================] - 0s 2ms/step - loss: 0.8817 - tp: 1046.0000 - fp: 334.0000 - tn: 5632.0000 - fn: 1937.0000 - accuracy: 0.5662 - precision: 0.7580 - recall: 0.3507 - auc: 0.7856 - prc: 0.6434 - val_loss: 0.7557 - val_tp: 680.0000 - val_fp: 177.0000 - val_tn: 1813.0000 - val_fn: 315.0000 - val_accuracy: 0.7809 - val_precision: 0.7935 - val_recall: 0.6834 - val_auc: 0.8569 - val_prc: 0.7342\n",
      "Epoch 7/100\n",
      "60/60 [==============================] - 0s 2ms/step - loss: 0.8687 - tp: 1098.0000 - fp: 355.0000 - tn: 5611.0000 - fn: 1885.0000 - accuracy: 0.5944 - precision: 0.7557 - recall: 0.3681 - auc: 0.7953 - prc: 0.6587 - val_loss: 0.7382 - val_tp: 713.0000 - val_fp: 184.0000 - val_tn: 1806.0000 - val_fn: 282.0000 - val_accuracy: 0.7849 - val_precision: 0.7949 - val_recall: 0.7166 - val_auc: 0.8582 - val_prc: 0.7351\n",
      "Epoch 8/100\n",
      "60/60 [==============================] - 0s 2ms/step - loss: 0.8597 - tp: 1177.0000 - fp: 357.0000 - tn: 5609.0000 - fn: 1806.0000 - accuracy: 0.6158 - precision: 0.7673 - recall: 0.3946 - auc: 0.8015 - prc: 0.6632 - val_loss: 0.7261 - val_tp: 730.0000 - val_fp: 189.0000 - val_tn: 1801.0000 - val_fn: 265.0000 - val_accuracy: 0.7849 - val_precision: 0.7943 - val_recall: 0.7337 - val_auc: 0.8604 - val_prc: 0.7371\n",
      "Epoch 9/100\n",
      "60/60 [==============================] - 0s 2ms/step - loss: 0.8391 - tp: 1293.0000 - fp: 387.0000 - tn: 5579.0000 - fn: 1690.0000 - accuracy: 0.6390 - precision: 0.7696 - recall: 0.4335 - auc: 0.8155 - prc: 0.6861 - val_loss: 0.7136 - val_tp: 742.0000 - val_fp: 192.0000 - val_tn: 1798.0000 - val_fn: 253.0000 - val_accuracy: 0.7839 - val_precision: 0.7944 - val_recall: 0.7457 - val_auc: 0.8626 - val_prc: 0.7391\n",
      "Epoch 10/100\n",
      "60/60 [==============================] - 0s 2ms/step - loss: 0.8429 - tp: 1384.0000 - fp: 417.0000 - tn: 5549.0000 - fn: 1599.0000 - accuracy: 0.6876 - precision: 0.7685 - recall: 0.4640 - auc: 0.8184 - prc: 0.6836 - val_loss: 0.7066 - val_tp: 746.0000 - val_fp: 195.0000 - val_tn: 1795.0000 - val_fn: 249.0000 - val_accuracy: 0.7829 - val_precision: 0.7928 - val_recall: 0.7497 - val_auc: 0.8640 - val_prc: 0.7404\n",
      "Epoch 11/100\n",
      "60/60 [==============================] - 0s 2ms/step - loss: 0.8465 - tp: 1362.0000 - fp: 406.0000 - tn: 5560.0000 - fn: 1621.0000 - accuracy: 0.7492 - precision: 0.7704 - recall: 0.4566 - auc: 0.8164 - prc: 0.6847 - val_loss: 0.7055 - val_tp: 746.0000 - val_fp: 195.0000 - val_tn: 1795.0000 - val_fn: 249.0000 - val_accuracy: 0.7829 - val_precision: 0.7928 - val_recall: 0.7497 - val_auc: 0.8656 - val_prc: 0.7414\n",
      "Epoch 12/100\n",
      "60/60 [==============================] - 0s 2ms/step - loss: 0.8272 - tp: 1433.0000 - fp: 454.0000 - tn: 5512.0000 - fn: 1550.0000 - accuracy: 0.7489 - precision: 0.7594 - recall: 0.4804 - auc: 0.8285 - prc: 0.6990 - val_loss: 0.6997 - val_tp: 751.0000 - val_fp: 195.0000 - val_tn: 1795.0000 - val_fn: 244.0000 - val_accuracy: 0.7829 - val_precision: 0.7939 - val_recall: 0.7548 - val_auc: 0.8659 - val_prc: 0.7415\n",
      "Epoch 13/100\n",
      "60/60 [==============================] - 0s 2ms/step - loss: 0.8242 - tp: 1488.0000 - fp: 462.0000 - tn: 5504.0000 - fn: 1495.0000 - accuracy: 0.7496 - precision: 0.7631 - recall: 0.4988 - auc: 0.8302 - prc: 0.7021 - val_loss: 0.6969 - val_tp: 751.0000 - val_fp: 195.0000 - val_tn: 1795.0000 - val_fn: 244.0000 - val_accuracy: 0.7829 - val_precision: 0.7939 - val_recall: 0.7548 - val_auc: 0.8662 - val_prc: 0.7413\n",
      "Epoch 14/100\n",
      "60/60 [==============================] - 0s 2ms/step - loss: 0.8198 - tp: 1526.0000 - fp: 447.0000 - tn: 5519.0000 - fn: 1457.0000 - accuracy: 0.7549 - precision: 0.7734 - recall: 0.5116 - auc: 0.8322 - prc: 0.7030 - val_loss: 0.6927 - val_tp: 753.0000 - val_fp: 196.0000 - val_tn: 1794.0000 - val_fn: 242.0000 - val_accuracy: 0.7829 - val_precision: 0.7935 - val_recall: 0.7568 - val_auc: 0.8671 - val_prc: 0.7417\n",
      "Epoch 15/100\n",
      "60/60 [==============================] - 0s 2ms/step - loss: 0.8146 - tp: 1567.0000 - fp: 472.0000 - tn: 5494.0000 - fn: 1416.0000 - accuracy: 0.7546 - precision: 0.7685 - recall: 0.5253 - auc: 0.8337 - prc: 0.7058 - val_loss: 0.6908 - val_tp: 755.0000 - val_fp: 196.0000 - val_tn: 1794.0000 - val_fn: 240.0000 - val_accuracy: 0.7829 - val_precision: 0.7939 - val_recall: 0.7588 - val_auc: 0.8674 - val_prc: 0.7417\n",
      "Epoch 16/100\n",
      "60/60 [==============================] - 0s 2ms/step - loss: 0.8222 - tp: 1555.0000 - fp: 485.0000 - tn: 5481.0000 - fn: 1428.0000 - accuracy: 0.7570 - precision: 0.7623 - recall: 0.5213 - auc: 0.8287 - prc: 0.7010 - val_loss: 0.6902 - val_tp: 754.0000 - val_fp: 196.0000 - val_tn: 1794.0000 - val_fn: 241.0000 - val_accuracy: 0.7829 - val_precision: 0.7937 - val_recall: 0.7578 - val_auc: 0.8678 - val_prc: 0.7411\n",
      "Epoch 17/100\n",
      "60/60 [==============================] - 0s 2ms/step - loss: 0.7996 - tp: 1609.0000 - fp: 480.0000 - tn: 5486.0000 - fn: 1374.0000 - accuracy: 0.7536 - precision: 0.7702 - recall: 0.5394 - auc: 0.8371 - prc: 0.7120 - val_loss: 0.6858 - val_tp: 757.0000 - val_fp: 199.0000 - val_tn: 1791.0000 - val_fn: 238.0000 - val_accuracy: 0.7829 - val_precision: 0.7918 - val_recall: 0.7608 - val_auc: 0.8682 - val_prc: 0.7417\n",
      "Epoch 18/100\n",
      "60/60 [==============================] - 0s 2ms/step - loss: 0.8010 - tp: 1616.0000 - fp: 495.0000 - tn: 5471.0000 - fn: 1367.0000 - accuracy: 0.7613 - precision: 0.7655 - recall: 0.5417 - auc: 0.8358 - prc: 0.7110 - val_loss: 0.6855 - val_tp: 757.0000 - val_fp: 199.0000 - val_tn: 1791.0000 - val_fn: 238.0000 - val_accuracy: 0.7829 - val_precision: 0.7918 - val_recall: 0.7608 - val_auc: 0.8684 - val_prc: 0.7413\n",
      "Epoch 19/100\n",
      "60/60 [==============================] - 0s 2ms/step - loss: 0.7819 - tp: 1698.0000 - fp: 499.0000 - tn: 5467.0000 - fn: 1285.0000 - accuracy: 0.7613 - precision: 0.7729 - recall: 0.5692 - auc: 0.8438 - prc: 0.7237 - val_loss: 0.6799 - val_tp: 760.0000 - val_fp: 200.0000 - val_tn: 1790.0000 - val_fn: 235.0000 - val_accuracy: 0.7829 - val_precision: 0.7917 - val_recall: 0.7638 - val_auc: 0.8685 - val_prc: 0.7409\n",
      "Epoch 20/100\n",
      "60/60 [==============================] - 0s 2ms/step - loss: 0.8096 - tp: 1722.0000 - fp: 548.0000 - tn: 5418.0000 - fn: 1261.0000 - accuracy: 0.7583 - precision: 0.7586 - recall: 0.5773 - auc: 0.8302 - prc: 0.7001 - val_loss: 0.6813 - val_tp: 760.0000 - val_fp: 201.0000 - val_tn: 1789.0000 - val_fn: 235.0000 - val_accuracy: 0.7829 - val_precision: 0.7908 - val_recall: 0.7638 - val_auc: 0.8689 - val_prc: 0.7411\n",
      "Epoch 21/100\n",
      "60/60 [==============================] - 0s 2ms/step - loss: 0.7941 - tp: 1736.0000 - fp: 514.0000 - tn: 5452.0000 - fn: 1247.0000 - accuracy: 0.7606 - precision: 0.7716 - recall: 0.5820 - auc: 0.8364 - prc: 0.7093 - val_loss: 0.6823 - val_tp: 763.0000 - val_fp: 200.0000 - val_tn: 1790.0000 - val_fn: 232.0000 - val_accuracy: 0.7829 - val_precision: 0.7923 - val_recall: 0.7668 - val_auc: 0.8693 - val_prc: 0.7420\n",
      "Epoch 22/100\n",
      "60/60 [==============================] - 0s 2ms/step - loss: 0.7863 - tp: 1745.0000 - fp: 530.0000 - tn: 5436.0000 - fn: 1238.0000 - accuracy: 0.7590 - precision: 0.7670 - recall: 0.5850 - auc: 0.8375 - prc: 0.7146 - val_loss: 0.6783 - val_tp: 768.0000 - val_fp: 205.0000 - val_tn: 1785.0000 - val_fn: 227.0000 - val_accuracy: 0.7829 - val_precision: 0.7893 - val_recall: 0.7719 - val_auc: 0.8700 - val_prc: 0.7425\n",
      "Epoch 23/100\n",
      "60/60 [==============================] - 0s 2ms/step - loss: 0.7920 - tp: 1749.0000 - fp: 527.0000 - tn: 5439.0000 - fn: 1234.0000 - accuracy: 0.7603 - precision: 0.7685 - recall: 0.5863 - auc: 0.8340 - prc: 0.7109 - val_loss: 0.6762 - val_tp: 772.0000 - val_fp: 207.0000 - val_tn: 1783.0000 - val_fn: 223.0000 - val_accuracy: 0.7829 - val_precision: 0.7886 - val_recall: 0.7759 - val_auc: 0.8699 - val_prc: 0.7431\n",
      "Epoch 24/100\n",
      "60/60 [==============================] - 0s 2ms/step - loss: 0.7826 - tp: 1766.0000 - fp: 498.0000 - tn: 5468.0000 - fn: 1217.0000 - accuracy: 0.7593 - precision: 0.7800 - recall: 0.5920 - auc: 0.8402 - prc: 0.7168 - val_loss: 0.6730 - val_tp: 772.0000 - val_fp: 207.0000 - val_tn: 1783.0000 - val_fn: 223.0000 - val_accuracy: 0.7829 - val_precision: 0.7886 - val_recall: 0.7759 - val_auc: 0.8695 - val_prc: 0.7432\n",
      "Epoch 25/100\n",
      "60/60 [==============================] - 0s 2ms/step - loss: 0.7861 - tp: 1822.0000 - fp: 552.0000 - tn: 5414.0000 - fn: 1161.0000 - accuracy: 0.7590 - precision: 0.7675 - recall: 0.6108 - auc: 0.8352 - prc: 0.7086 - val_loss: 0.6730 - val_tp: 772.0000 - val_fp: 208.0000 - val_tn: 1782.0000 - val_fn: 223.0000 - val_accuracy: 0.7829 - val_precision: 0.7878 - val_recall: 0.7759 - val_auc: 0.8694 - val_prc: 0.7430\n",
      "Epoch 26/100\n",
      "60/60 [==============================] - 0s 2ms/step - loss: 0.7940 - tp: 1775.0000 - fp: 542.0000 - tn: 5424.0000 - fn: 1208.0000 - accuracy: 0.7633 - precision: 0.7661 - recall: 0.5950 - auc: 0.8327 - prc: 0.7044 - val_loss: 0.6737 - val_tp: 771.0000 - val_fp: 208.0000 - val_tn: 1782.0000 - val_fn: 224.0000 - val_accuracy: 0.7829 - val_precision: 0.7875 - val_recall: 0.7749 - val_auc: 0.8701 - val_prc: 0.7445\n",
      "Epoch 27/100\n",
      "60/60 [==============================] - 0s 2ms/step - loss: 0.7840 - tp: 1810.0000 - fp: 543.0000 - tn: 5423.0000 - fn: 1173.0000 - accuracy: 0.7600 - precision: 0.7692 - recall: 0.6068 - auc: 0.8365 - prc: 0.7127 - val_loss: 0.6735 - val_tp: 771.0000 - val_fp: 209.0000 - val_tn: 1781.0000 - val_fn: 224.0000 - val_accuracy: 0.7829 - val_precision: 0.7867 - val_recall: 0.7749 - val_auc: 0.8700 - val_prc: 0.7446\n",
      "Epoch 28/100\n",
      "60/60 [==============================] - 0s 2ms/step - loss: 0.7728 - tp: 1813.0000 - fp: 536.0000 - tn: 5430.0000 - fn: 1170.0000 - accuracy: 0.7620 - precision: 0.7718 - recall: 0.6078 - auc: 0.8412 - prc: 0.7212 - val_loss: 0.6722 - val_tp: 774.0000 - val_fp: 210.0000 - val_tn: 1780.0000 - val_fn: 221.0000 - val_accuracy: 0.7829 - val_precision: 0.7866 - val_recall: 0.7779 - val_auc: 0.8697 - val_prc: 0.7440\n",
      "Epoch 29/100\n",
      "60/60 [==============================] - 0s 2ms/step - loss: 0.7825 - tp: 1812.0000 - fp: 544.0000 - tn: 5422.0000 - fn: 1171.0000 - accuracy: 0.7633 - precision: 0.7691 - recall: 0.6074 - auc: 0.8379 - prc: 0.7065 - val_loss: 0.6724 - val_tp: 772.0000 - val_fp: 210.0000 - val_tn: 1780.0000 - val_fn: 223.0000 - val_accuracy: 0.7829 - val_precision: 0.7862 - val_recall: 0.7759 - val_auc: 0.8702 - val_prc: 0.7430\n",
      "Epoch 30/100\n",
      "60/60 [==============================] - 0s 2ms/step - loss: 0.7702 - tp: 1827.0000 - fp: 547.0000 - tn: 5419.0000 - fn: 1156.0000 - accuracy: 0.7613 - precision: 0.7696 - recall: 0.6125 - auc: 0.8403 - prc: 0.7186 - val_loss: 0.6695 - val_tp: 774.0000 - val_fp: 212.0000 - val_tn: 1778.0000 - val_fn: 221.0000 - val_accuracy: 0.7829 - val_precision: 0.7850 - val_recall: 0.7779 - val_auc: 0.8700 - val_prc: 0.7415\n",
      "Epoch 31/100\n",
      "60/60 [==============================] - 0s 2ms/step - loss: 0.7640 - tp: 1846.0000 - fp: 537.0000 - tn: 5429.0000 - fn: 1137.0000 - accuracy: 0.7630 - precision: 0.7747 - recall: 0.6188 - auc: 0.8421 - prc: 0.7230 - val_loss: 0.6677 - val_tp: 774.0000 - val_fp: 213.0000 - val_tn: 1777.0000 - val_fn: 221.0000 - val_accuracy: 0.7829 - val_precision: 0.7842 - val_recall: 0.7779 - val_auc: 0.8700 - val_prc: 0.7429\n",
      "Epoch 32/100\n",
      "60/60 [==============================] - 0s 2ms/step - loss: 0.7687 - tp: 1835.0000 - fp: 545.0000 - tn: 5421.0000 - fn: 1148.0000 - accuracy: 0.7633 - precision: 0.7710 - recall: 0.6152 - auc: 0.8407 - prc: 0.7231 - val_loss: 0.6659 - val_tp: 775.0000 - val_fp: 213.0000 - val_tn: 1777.0000 - val_fn: 220.0000 - val_accuracy: 0.7829 - val_precision: 0.7844 - val_recall: 0.7789 - val_auc: 0.8701 - val_prc: 0.7425\n",
      "Epoch 33/100\n",
      "60/60 [==============================] - 0s 2ms/step - loss: 0.7671 - tp: 1868.0000 - fp: 562.0000 - tn: 5404.0000 - fn: 1115.0000 - accuracy: 0.7630 - precision: 0.7687 - recall: 0.6262 - auc: 0.8400 - prc: 0.7127 - val_loss: 0.6660 - val_tp: 776.0000 - val_fp: 213.0000 - val_tn: 1777.0000 - val_fn: 219.0000 - val_accuracy: 0.7829 - val_precision: 0.7846 - val_recall: 0.7799 - val_auc: 0.8706 - val_prc: 0.7425\n",
      "Epoch 34/100\n",
      "60/60 [==============================] - 0s 2ms/step - loss: 0.7588 - tp: 1854.0000 - fp: 525.0000 - tn: 5441.0000 - fn: 1129.0000 - accuracy: 0.7643 - precision: 0.7793 - recall: 0.6215 - auc: 0.8439 - prc: 0.7267 - val_loss: 0.6657 - val_tp: 777.0000 - val_fp: 214.0000 - val_tn: 1776.0000 - val_fn: 218.0000 - val_accuracy: 0.7829 - val_precision: 0.7841 - val_recall: 0.7809 - val_auc: 0.8705 - val_prc: 0.7425\n",
      "Epoch 35/100\n",
      "60/60 [==============================] - 0s 2ms/step - loss: 0.7683 - tp: 1846.0000 - fp: 564.0000 - tn: 5402.0000 - fn: 1137.0000 - accuracy: 0.7640 - precision: 0.7660 - recall: 0.6188 - auc: 0.8399 - prc: 0.7200 - val_loss: 0.6666 - val_tp: 777.0000 - val_fp: 213.0000 - val_tn: 1777.0000 - val_fn: 218.0000 - val_accuracy: 0.7829 - val_precision: 0.7848 - val_recall: 0.7809 - val_auc: 0.8706 - val_prc: 0.7423\n",
      "Epoch 36/100\n",
      "60/60 [==============================] - 0s 2ms/step - loss: 0.7618 - tp: 1878.0000 - fp: 544.0000 - tn: 5422.0000 - fn: 1105.0000 - accuracy: 0.7616 - precision: 0.7754 - recall: 0.6296 - auc: 0.8413 - prc: 0.7174 - val_loss: 0.6657 - val_tp: 778.0000 - val_fp: 214.0000 - val_tn: 1776.0000 - val_fn: 217.0000 - val_accuracy: 0.7829 - val_precision: 0.7843 - val_recall: 0.7819 - val_auc: 0.8710 - val_prc: 0.7426\n",
      "Epoch 37/100\n",
      "51/60 [========================>.....] - ETA: 0s - loss: 0.7664 - tp: 1581.0000 - fp: 465.0000 - tn: 4635.0000 - fn: 969.0000 - accuracy: 0.7576 - precision: 0.7727 - recall: 0.6200 - auc: 0.8388 - prc: 0.7153Restoring model weights from the end of the best epoch: 27.\n",
      "60/60 [==============================] - 0s 2ms/step - loss: 0.7554 - tp: 1863.0000 - fp: 532.0000 - tn: 5434.0000 - fn: 1120.0000 - accuracy: 0.7627 - precision: 0.7779 - recall: 0.6245 - auc: 0.8441 - prc: 0.7248 - val_loss: 0.6643 - val_tp: 778.0000 - val_fp: 214.0000 - val_tn: 1776.0000 - val_fn: 217.0000 - val_accuracy: 0.7829 - val_precision: 0.7843 - val_recall: 0.7819 - val_auc: 0.8715 - val_prc: 0.7433\n",
      "Epoch 00037: early stopping\n"
     ]
    }
   ],
   "source": [
    "model.load_weights(initial_weights)\n",
    "baseline_history = model.fit(\n",
    "    X_train,\n",
    "    train_labels,\n",
    "    batch_size=BATCH_SIZE,\n",
    "    epochs=EPOCHS,\n",
    "    callbacks=[early_stopping],\n",
    "    validation_data=(X_val, val_labels))"
   ]
  },
  {
   "cell_type": "markdown",
   "metadata": {},
   "source": [
    "#### Check training history"
   ]
  },
  {
   "cell_type": "code",
   "execution_count": 634,
   "metadata": {},
   "outputs": [],
   "source": [
    "def plot_metrics(history):\n",
    "  metrics = ['loss', 'prc', 'precision', 'recall']\n",
    "  plt.figure(figsize=(10,7))\n",
    "  for n, metric in enumerate(metrics):\n",
    "    name = metric.replace(\"_\",\" \").capitalize()\n",
    "    plt.subplot(2,2,n+1)\n",
    "    plt.plot(history.epoch, history.history[metric], color=colors[0], label='Train')\n",
    "    plt.plot(history.epoch, history.history['val_'+metric],\n",
    "             color=colors[0], linestyle=\"--\", label='Val')\n",
    "    plt.xlabel('Epoch')\n",
    "    plt.ylabel(name)\n",
    "    if metric == 'loss':\n",
    "      plt.ylim([0, plt.ylim()[1]])\n",
    "    elif metric == 'auc':\n",
    "      plt.ylim([0.8,1])\n",
    "    else:\n",
    "      plt.ylim([0,1])\n",
    "\n",
    "    plt.legend()"
   ]
  },
  {
   "cell_type": "code",
   "execution_count": 635,
   "metadata": {},
   "outputs": [
    {
     "data": {
      "image/png": "[encoded data removed]",
      "text/plain": [
       "<Figure size 720x504 with 4 Axes>"
      ]
     },
     "metadata": {
      "needs_background": "light"
     },
     "output_type": "display_data"
    }
   ],
   "source": [
    "plot_metrics(baseline_history)"
   ]
  },
  {
   "cell_type": "markdown",
   "metadata": {},
   "source": [
    "#### Evaluate metrics"
   ]
  },
  {
   "cell_type": "code",
   "execution_count": 636,
   "metadata": {},
   "outputs": [],
   "source": [
    "train_predictions_baseline = model.predict(X_train, batch_size=BATCH_SIZE)\n",
    "test_predictions_baseline = model.predict(X_test, batch_size=BATCH_SIZE)"
   ]
  },
  {
   "cell_type": "code",
   "execution_count": 637,
   "metadata": {},
   "outputs": [],
   "source": [
    "def plot_cm(labels, predictions, p=0.5):\n",
    "  cm = confusion_matrix(labels.argmax(axis=1), (predictions > p).argmax(axis=1))\n",
    "  cm_df = pd.DataFrame(cm,\n",
    "                     index = ['Low','Medium','High'], \n",
    "                     columns = ['Low','Medium','High'])\n",
    "  plt.figure(figsize=(10,7))\n",
    "  sns.heatmap(cm_df, annot=True,fmt=\"d\")\n",
    "  plt.title('Confusion matrix @{:.2f}'.format(p))\n",
    "  plt.ylabel('Actal Values')\n",
    "  plt.xlabel('Predicted Values')\n",
    "  plt.show()"
   ]
  },
  {
   "cell_type": "code",
   "execution_count": 638,
   "metadata": {},
   "outputs": [
    {
     "name": "stdout",
     "output_type": "stream",
     "text": [
      "loss :  0.7617853283882141\n",
      "tp :  945.0\n",
      "fp :  285.0\n",
      "tn :  2367.0\n",
      "fn :  381.0\n",
      "accuracy :  0.7541478276252747\n",
      "precision :  0.7682926654815674\n",
      "recall :  0.7126696705818176\n",
      "auc :  0.8321034908294678\n",
      "prc :  0.7144180536270142\n",
      "\n"
     ]
    },
    {
     "data": {
      "image/png": "[encoded data removed]",
      "text/plain": [
       "<Figure size 720x504 with 2 Axes>"
      ]
     },
     "metadata": {
      "needs_background": "light"
     },
     "output_type": "display_data"
    }
   ],
   "source": [
    "baseline_results = model.evaluate(X_test, test_labels,\n",
    "                                  batch_size=BATCH_SIZE, verbose=0)\n",
    "for name, value in zip(model.metrics_names, baseline_results):\n",
    "  print(name, ': ', value)\n",
    "print()\n",
    "\n",
    "plot_cm(test_labels, test_predictions_baseline)"
   ]
  },
  {
   "cell_type": "markdown",
   "metadata": {},
   "source": [
    "#### Adress class imbalance by using assigning class weights"
   ]
  },
  {
   "cell_type": "code",
   "execution_count": 639,
   "metadata": {},
   "outputs": [
    {
     "name": "stdout",
     "output_type": "stream",
     "text": [
      "Weight for class low: 4.69\n",
      "Weight for class medium: 0.65\n",
      "Weight for class high: 4.09\n"
     ]
    }
   ],
   "source": [
    "# Scaling by total/2 helps keep the loss to a similar magnitude.\n",
    "# The sum of the weights of all examples stays the same.\n",
    "weight_for_low = (1 / low) * (total / 2)\n",
    "weight_for_medium = (1 / medium) * (total / 2)\n",
    "weight_for_high = (1 / high) * (total / 2)\n",
    "\n",
    "class_weights = {0: weight_for_low, 1: weight_for_medium, 2:weight_for_high}\n",
    "\n",
    "print('Weight for class low: {:.2f}'.format(weight_for_low))\n",
    "print('Weight for class medium: {:.2f}'.format(weight_for_medium))\n",
    "print('Weight for class high: {:.2f}'.format(weight_for_high))"
   ]
  },
  {
   "cell_type": "code",
   "execution_count": 643,
   "metadata": {},
   "outputs": [],
   "source": [
    "from sklearn.utils import class_weight\n",
    "weights = class_weight.compute_class_weight('balanced',\n",
    "                                                 np.unique(Y),\n",
    "                                                 Y)\n",
    "class_weights = {0: weights[0], 1: weights[1], 2:weights[2]}"
   ]
  },
  {
   "cell_type": "code",
   "execution_count": 644,
   "metadata": {},
   "outputs": [
    {
     "name": "stdout",
     "output_type": "stream",
     "text": [
      "Epoch 1/100\n",
      "60/60 [==============================] - 2s 10ms/step - loss: 1.2332 - tp: 363.0000 - fp: 942.0000 - tn: 7676.0000 - fn: 3946.0000 - accuracy: 0.2550 - precision: 0.2782 - recall: 0.0842 - auc: 0.4633 - prc: 0.3098 - val_loss: 1.3008 - val_tp: 0.0000e+00 - val_fp: 9.0000 - val_tn: 1981.0000 - val_fn: 995.0000 - val_accuracy: 0.0884 - val_precision: 0.0000e+00 - val_recall: 0.0000e+00 - val_auc: 0.1573 - val_prc: 0.2066\n",
      "Epoch 2/100\n",
      "60/60 [==============================] - 0s 2ms/step - loss: 1.1697 - tp: 153.0000 - fp: 406.0000 - tn: 5560.0000 - fn: 2830.0000 - accuracy: 0.2226 - precision: 0.2737 - recall: 0.0513 - auc: 0.3409 - prc: 0.2648 - val_loss: 1.2598 - val_tp: 0.0000e+00 - val_fp: 2.0000 - val_tn: 1988.0000 - val_fn: 995.0000 - val_accuracy: 0.0975 - val_precision: 0.0000e+00 - val_recall: 0.0000e+00 - val_auc: 0.1700 - val_prc: 0.2102\n",
      "Epoch 3/100\n",
      "60/60 [==============================] - 0s 2ms/step - loss: 1.1466 - tp: 153.0000 - fp: 303.0000 - tn: 5663.0000 - fn: 2830.0000 - accuracy: 0.2159 - precision: 0.3355 - recall: 0.0513 - auc: 0.3322 - prc: 0.2680 - val_loss: 1.2307 - val_tp: 0.0000e+00 - val_fp: 2.0000 - val_tn: 1988.0000 - val_fn: 995.0000 - val_accuracy: 0.1015 - val_precision: 0.0000e+00 - val_recall: 0.0000e+00 - val_auc: 0.1786 - val_prc: 0.2140\n",
      "Epoch 4/100\n",
      "60/60 [==============================] - 0s 2ms/step - loss: 1.1342 - tp: 103.0000 - fp: 226.0000 - tn: 5740.0000 - fn: 2880.0000 - accuracy: 0.2035 - precision: 0.3131 - recall: 0.0345 - auc: 0.3147 - prc: 0.2584 - val_loss: 1.2130 - val_tp: 0.0000e+00 - val_fp: 1.0000 - val_tn: 1989.0000 - val_fn: 995.0000 - val_accuracy: 0.1085 - val_precision: 0.0000e+00 - val_recall: 0.0000e+00 - val_auc: 0.1881 - val_prc: 0.2184\n",
      "Epoch 5/100\n",
      "60/60 [==============================] - 0s 2ms/step - loss: 1.1165 - tp: 102.0000 - fp: 186.0000 - tn: 5780.0000 - fn: 2881.0000 - accuracy: 0.2159 - precision: 0.3542 - recall: 0.0342 - auc: 0.3265 - prc: 0.2677 - val_loss: 1.2042 - val_tp: 1.0000 - val_fp: 1.0000 - val_tn: 1989.0000 - val_fn: 994.0000 - val_accuracy: 0.1106 - val_precision: 0.5000 - val_recall: 0.0010 - val_auc: 0.1944 - val_prc: 0.2229\n",
      "Epoch 6/100\n",
      "60/60 [==============================] - 0s 2ms/step - loss: 1.1291 - tp: 98.0000 - fp: 177.0000 - tn: 5789.0000 - fn: 2885.0000 - accuracy: 0.2122 - precision: 0.3564 - recall: 0.0329 - auc: 0.3212 - prc: 0.2632 - val_loss: 1.1967 - val_tp: 1.0000 - val_fp: 3.0000 - val_tn: 1987.0000 - val_fn: 994.0000 - val_accuracy: 0.1126 - val_precision: 0.2500 - val_recall: 0.0010 - val_auc: 0.1974 - val_prc: 0.2249\n",
      "Epoch 7/100\n",
      "60/60 [==============================] - 0s 2ms/step - loss: 1.0960 - tp: 103.0000 - fp: 163.0000 - tn: 5803.0000 - fn: 2880.0000 - accuracy: 0.2052 - precision: 0.3872 - recall: 0.0345 - auc: 0.3206 - prc: 0.2717 - val_loss: 1.1912 - val_tp: 3.0000 - val_fp: 3.0000 - val_tn: 1987.0000 - val_fn: 992.0000 - val_accuracy: 0.1126 - val_precision: 0.5000 - val_recall: 0.0030 - val_auc: 0.1996 - val_prc: 0.2274\n",
      "Epoch 8/100\n",
      "60/60 [==============================] - 0s 2ms/step - loss: 1.1046 - tp: 84.0000 - fp: 132.0000 - tn: 5834.0000 - fn: 2899.0000 - accuracy: 0.2068 - precision: 0.3889 - recall: 0.0282 - auc: 0.3133 - prc: 0.2630 - val_loss: 1.1848 - val_tp: 3.0000 - val_fp: 3.0000 - val_tn: 1987.0000 - val_fn: 992.0000 - val_accuracy: 0.1156 - val_precision: 0.5000 - val_recall: 0.0030 - val_auc: 0.2040 - val_prc: 0.2292\n",
      "Epoch 9/100\n",
      "60/60 [==============================] - 0s 2ms/step - loss: 1.0906 - tp: 95.0000 - fp: 133.0000 - tn: 5833.0000 - fn: 2888.0000 - accuracy: 0.1998 - precision: 0.4167 - recall: 0.0318 - auc: 0.3111 - prc: 0.2675 - val_loss: 1.1816 - val_tp: 4.0000 - val_fp: 5.0000 - val_tn: 1985.0000 - val_fn: 991.0000 - val_accuracy: 0.1156 - val_precision: 0.4444 - val_recall: 0.0040 - val_auc: 0.2060 - val_prc: 0.2308\n",
      "Epoch 10/100\n",
      "60/60 [==============================] - 0s 2ms/step - loss: 1.0939 - tp: 91.0000 - fp: 131.0000 - tn: 5835.0000 - fn: 2892.0000 - accuracy: 0.2068 - precision: 0.4099 - recall: 0.0305 - auc: 0.3205 - prc: 0.2695 - val_loss: 1.1771 - val_tp: 4.0000 - val_fp: 5.0000 - val_tn: 1985.0000 - val_fn: 991.0000 - val_accuracy: 0.1166 - val_precision: 0.4444 - val_recall: 0.0040 - val_auc: 0.2128 - val_prc: 0.2325\n",
      "Epoch 11/100\n",
      "60/60 [==============================] - 0s 2ms/step - loss: 1.0828 - tp: 97.0000 - fp: 132.0000 - tn: 5834.0000 - fn: 2886.0000 - accuracy: 0.2048 - precision: 0.4236 - recall: 0.0325 - auc: 0.3226 - prc: 0.2721 - val_loss: 1.1743 - val_tp: 4.0000 - val_fp: 5.0000 - val_tn: 1985.0000 - val_fn: 991.0000 - val_accuracy: 0.1176 - val_precision: 0.4444 - val_recall: 0.0040 - val_auc: 0.2162 - val_prc: 0.2334\n",
      "Epoch 12/100\n",
      "60/60 [==============================] - 0s 2ms/step - loss: 1.0794 - tp: 85.0000 - fp: 118.0000 - tn: 5848.0000 - fn: 2898.0000 - accuracy: 0.2132 - precision: 0.4187 - recall: 0.0285 - auc: 0.3310 - prc: 0.2741 - val_loss: 1.1707 - val_tp: 4.0000 - val_fp: 5.0000 - val_tn: 1985.0000 - val_fn: 991.0000 - val_accuracy: 0.1186 - val_precision: 0.4444 - val_recall: 0.0040 - val_auc: 0.2219 - val_prc: 0.2356\n",
      "Epoch 13/100\n",
      "60/60 [==============================] - 0s 2ms/step - loss: 1.0837 - tp: 89.0000 - fp: 109.0000 - tn: 5857.0000 - fn: 2894.0000 - accuracy: 0.2122 - precision: 0.4495 - recall: 0.0298 - auc: 0.3243 - prc: 0.2717 - val_loss: 1.1692 - val_tp: 5.0000 - val_fp: 5.0000 - val_tn: 1985.0000 - val_fn: 990.0000 - val_accuracy: 0.1186 - val_precision: 0.5000 - val_recall: 0.0050 - val_auc: 0.2258 - val_prc: 0.2377\n",
      "Epoch 14/100\n",
      "60/60 [==============================] - 0s 2ms/step - loss: 1.0693 - tp: 100.0000 - fp: 121.0000 - tn: 5845.0000 - fn: 2883.0000 - accuracy: 0.2055 - precision: 0.4525 - recall: 0.0335 - auc: 0.3291 - prc: 0.2773 - val_loss: 1.1656 - val_tp: 5.0000 - val_fp: 6.0000 - val_tn: 1984.0000 - val_fn: 990.0000 - val_accuracy: 0.1206 - val_precision: 0.4545 - val_recall: 0.0050 - val_auc: 0.2320 - val_prc: 0.2400\n",
      "Epoch 15/100\n",
      "60/60 [==============================] - 0s 2ms/step - loss: 1.0682 - tp: 97.0000 - fp: 127.0000 - tn: 5839.0000 - fn: 2886.0000 - accuracy: 0.2213 - precision: 0.4330 - recall: 0.0325 - auc: 0.3408 - prc: 0.2817 - val_loss: 1.1626 - val_tp: 5.0000 - val_fp: 7.0000 - val_tn: 1983.0000 - val_fn: 990.0000 - val_accuracy: 0.1216 - val_precision: 0.4167 - val_recall: 0.0050 - val_auc: 0.2400 - val_prc: 0.2422\n",
      "Epoch 16/100\n",
      "60/60 [==============================] - 0s 2ms/step - loss: 1.0633 - tp: 105.0000 - fp: 130.0000 - tn: 5836.0000 - fn: 2878.0000 - accuracy: 0.2296 - precision: 0.4468 - recall: 0.0352 - auc: 0.3520 - prc: 0.2878 - val_loss: 1.1598 - val_tp: 8.0000 - val_fp: 7.0000 - val_tn: 1983.0000 - val_fn: 987.0000 - val_accuracy: 0.1256 - val_precision: 0.5333 - val_recall: 0.0080 - val_auc: 0.2501 - val_prc: 0.2455\n",
      "Epoch 17/100\n",
      "60/60 [==============================] - 0s 2ms/step - loss: 1.0667 - tp: 107.0000 - fp: 159.0000 - tn: 5807.0000 - fn: 2876.0000 - accuracy: 0.2303 - precision: 0.4023 - recall: 0.0359 - auc: 0.3634 - prc: 0.2905 - val_loss: 1.1566 - val_tp: 10.0000 - val_fp: 7.0000 - val_tn: 1983.0000 - val_fn: 985.0000 - val_accuracy: 0.1337 - val_precision: 0.5882 - val_recall: 0.0101 - val_auc: 0.2592 - val_prc: 0.2476\n",
      "Epoch 18/100\n",
      "60/60 [==============================] - 0s 2ms/step - loss: 1.0590 - tp: 136.0000 - fp: 151.0000 - tn: 5815.0000 - fn: 2847.0000 - accuracy: 0.2414 - precision: 0.4739 - recall: 0.0456 - auc: 0.3800 - prc: 0.3021 - val_loss: 1.1519 - val_tp: 11.0000 - val_fp: 8.0000 - val_tn: 1982.0000 - val_fn: 984.0000 - val_accuracy: 0.1518 - val_precision: 0.5789 - val_recall: 0.0111 - val_auc: 0.2780 - val_prc: 0.2525\n",
      "Epoch 19/100\n",
      "60/60 [==============================] - 0s 2ms/step - loss: 1.0583 - tp: 144.0000 - fp: 170.0000 - tn: 5796.0000 - fn: 2839.0000 - accuracy: 0.2400 - precision: 0.4586 - recall: 0.0483 - auc: 0.3832 - prc: 0.3007 - val_loss: 1.1503 - val_tp: 13.0000 - val_fp: 10.0000 - val_tn: 1980.0000 - val_fn: 982.0000 - val_accuracy: 0.1558 - val_precision: 0.5652 - val_recall: 0.0131 - val_auc: 0.2857 - val_prc: 0.2543\n",
      "Epoch 20/100\n",
      "60/60 [==============================] - 0s 2ms/step - loss: 1.0538 - tp: 157.0000 - fp: 167.0000 - tn: 5799.0000 - fn: 2826.0000 - accuracy: 0.2387 - precision: 0.4846 - recall: 0.0526 - auc: 0.3875 - prc: 0.3047 - val_loss: 1.1459 - val_tp: 14.0000 - val_fp: 13.0000 - val_tn: 1977.0000 - val_fn: 981.0000 - val_accuracy: 0.1638 - val_precision: 0.5185 - val_recall: 0.0141 - val_auc: 0.2995 - val_prc: 0.2579\n",
      "Epoch 21/100\n",
      "60/60 [==============================] - 0s 2ms/step - loss: 1.0462 - tp: 167.0000 - fp: 195.0000 - tn: 5771.0000 - fn: 2816.0000 - accuracy: 0.2565 - precision: 0.4613 - recall: 0.0560 - auc: 0.4106 - prc: 0.3153 - val_loss: 1.1444 - val_tp: 19.0000 - val_fp: 19.0000 - val_tn: 1971.0000 - val_fn: 976.0000 - val_accuracy: 0.1678 - val_precision: 0.5000 - val_recall: 0.0191 - val_auc: 0.3111 - val_prc: 0.2614\n",
      "Epoch 22/100\n",
      "60/60 [==============================] - 0s 2ms/step - loss: 1.0444 - tp: 167.0000 - fp: 204.0000 - tn: 5762.0000 - fn: 2816.0000 - accuracy: 0.2601 - precision: 0.4501 - recall: 0.0560 - auc: 0.4143 - prc: 0.3123 - val_loss: 1.1424 - val_tp: 23.0000 - val_fp: 23.0000 - val_tn: 1967.0000 - val_fn: 972.0000 - val_accuracy: 0.1759 - val_precision: 0.5000 - val_recall: 0.0231 - val_auc: 0.3233 - val_prc: 0.2652\n",
      "Epoch 23/100\n",
      "60/60 [==============================] - 0s 2ms/step - loss: 1.0447 - tp: 150.0000 - fp: 247.0000 - tn: 5719.0000 - fn: 2833.0000 - accuracy: 0.2494 - precision: 0.3778 - recall: 0.0503 - auc: 0.4157 - prc: 0.3073 - val_loss: 1.1407 - val_tp: 29.0000 - val_fp: 27.0000 - val_tn: 1963.0000 - val_fn: 966.0000 - val_accuracy: 0.1799 - val_precision: 0.5179 - val_recall: 0.0291 - val_auc: 0.3323 - val_prc: 0.2681\n",
      "Epoch 24/100\n",
      "60/60 [==============================] - 0s 2ms/step - loss: 1.0337 - tp: 176.0000 - fp: 241.0000 - tn: 5725.0000 - fn: 2807.0000 - accuracy: 0.2558 - precision: 0.4221 - recall: 0.0590 - auc: 0.4218 - prc: 0.3121 - val_loss: 1.1398 - val_tp: 32.0000 - val_fp: 38.0000 - val_tn: 1952.0000 - val_fn: 963.0000 - val_accuracy: 0.1869 - val_precision: 0.4571 - val_recall: 0.0322 - val_auc: 0.3427 - val_prc: 0.2714\n",
      "Epoch 25/100\n",
      "60/60 [==============================] - 0s 2ms/step - loss: 1.0366 - tp: 180.0000 - fp: 273.0000 - tn: 5693.0000 - fn: 2803.0000 - accuracy: 0.2464 - precision: 0.3974 - recall: 0.0603 - auc: 0.4198 - prc: 0.3072 - val_loss: 1.1366 - val_tp: 33.0000 - val_fp: 39.0000 - val_tn: 1951.0000 - val_fn: 962.0000 - val_accuracy: 0.2040 - val_precision: 0.4583 - val_recall: 0.0332 - val_auc: 0.3533 - val_prc: 0.2750\n",
      "Epoch 26/100\n",
      "60/60 [==============================] - 0s 2ms/step - loss: 1.0337 - tp: 210.0000 - fp: 283.0000 - tn: 5683.0000 - fn: 2773.0000 - accuracy: 0.2705 - precision: 0.4260 - recall: 0.0704 - auc: 0.4489 - prc: 0.3260 - val_loss: 1.1303 - val_tp: 35.0000 - val_fp: 51.0000 - val_tn: 1939.0000 - val_fn: 960.0000 - val_accuracy: 0.2151 - val_precision: 0.4070 - val_recall: 0.0352 - val_auc: 0.3790 - val_prc: 0.2839\n",
      "Epoch 27/100\n",
      "60/60 [==============================] - 0s 2ms/step - loss: 1.0405 - tp: 199.0000 - fp: 275.0000 - tn: 5691.0000 - fn: 2784.0000 - accuracy: 0.2571 - precision: 0.4198 - recall: 0.0667 - auc: 0.4406 - prc: 0.3195 - val_loss: 1.1343 - val_tp: 40.0000 - val_fp: 56.0000 - val_tn: 1934.0000 - val_fn: 955.0000 - val_accuracy: 0.2000 - val_precision: 0.4167 - val_recall: 0.0402 - val_auc: 0.3650 - val_prc: 0.2787\n",
      "Epoch 28/100\n",
      "60/60 [==============================] - 0s 2ms/step - loss: 1.0208 - tp: 209.0000 - fp: 299.0000 - tn: 5667.0000 - fn: 2774.0000 - accuracy: 0.2645 - precision: 0.4114 - recall: 0.0701 - auc: 0.4476 - prc: 0.3238 - val_loss: 1.1293 - val_tp: 42.0000 - val_fp: 62.0000 - val_tn: 1928.0000 - val_fn: 953.0000 - val_accuracy: 0.2161 - val_precision: 0.4038 - val_recall: 0.0422 - val_auc: 0.3856 - val_prc: 0.2861\n",
      "Epoch 29/100\n",
      "60/60 [==============================] - 0s 2ms/step - loss: 1.0198 - tp: 217.0000 - fp: 299.0000 - tn: 5667.0000 - fn: 2766.0000 - accuracy: 0.2799 - precision: 0.4205 - recall: 0.0727 - auc: 0.4694 - prc: 0.3308 - val_loss: 1.1273 - val_tp: 44.0000 - val_fp: 71.0000 - val_tn: 1919.0000 - val_fn: 951.0000 - val_accuracy: 0.2151 - val_precision: 0.3826 - val_recall: 0.0442 - val_auc: 0.4020 - val_prc: 0.2910\n",
      "Epoch 30/100\n",
      "60/60 [==============================] - 0s 2ms/step - loss: 1.0277 - tp: 197.0000 - fp: 359.0000 - tn: 5607.0000 - fn: 2786.0000 - accuracy: 0.2692 - precision: 0.3543 - recall: 0.0660 - auc: 0.4638 - prc: 0.3220 - val_loss: 1.1225 - val_tp: 44.0000 - val_fp: 74.0000 - val_tn: 1916.0000 - val_fn: 951.0000 - val_accuracy: 0.2251 - val_precision: 0.3729 - val_recall: 0.0442 - val_auc: 0.4222 - val_prc: 0.2981\n",
      "Epoch 31/100\n",
      "60/60 [==============================] - 0s 2ms/step - loss: 1.0138 - tp: 229.0000 - fp: 365.0000 - tn: 5601.0000 - fn: 2754.0000 - accuracy: 0.2752 - precision: 0.3855 - recall: 0.0768 - auc: 0.4785 - prc: 0.3319 - val_loss: 1.1194 - val_tp: 46.0000 - val_fp: 76.0000 - val_tn: 1914.0000 - val_fn: 949.0000 - val_accuracy: 0.2201 - val_precision: 0.3770 - val_recall: 0.0462 - val_auc: 0.4338 - val_prc: 0.3019\n",
      "Epoch 32/100\n",
      "60/60 [==============================] - 0s 2ms/step - loss: 1.0126 - tp: 254.0000 - fp: 357.0000 - tn: 5609.0000 - fn: 2729.0000 - accuracy: 0.2642 - precision: 0.4157 - recall: 0.0851 - auc: 0.4762 - prc: 0.3315 - val_loss: 1.1160 - val_tp: 48.0000 - val_fp: 85.0000 - val_tn: 1905.0000 - val_fn: 947.0000 - val_accuracy: 0.2271 - val_precision: 0.3609 - val_recall: 0.0482 - val_auc: 0.4505 - val_prc: 0.3076\n",
      "Epoch 33/100\n",
      "60/60 [==============================] - 0s 2ms/step - loss: 1.0055 - tp: 250.0000 - fp: 396.0000 - tn: 5570.0000 - fn: 2733.0000 - accuracy: 0.2782 - precision: 0.3870 - recall: 0.0838 - auc: 0.4869 - prc: 0.3391 - val_loss: 1.1144 - val_tp: 50.0000 - val_fp: 87.0000 - val_tn: 1903.0000 - val_fn: 945.0000 - val_accuracy: 0.2302 - val_precision: 0.3650 - val_recall: 0.0503 - val_auc: 0.4599 - val_prc: 0.3109\n",
      "Epoch 34/100\n",
      "60/60 [==============================] - 0s 2ms/step - loss: 1.0090 - tp: 245.0000 - fp: 398.0000 - tn: 5568.0000 - fn: 2738.0000 - accuracy: 0.2762 - precision: 0.3810 - recall: 0.0821 - auc: 0.4827 - prc: 0.3337 - val_loss: 1.1119 - val_tp: 52.0000 - val_fp: 90.0000 - val_tn: 1900.0000 - val_fn: 943.0000 - val_accuracy: 0.2322 - val_precision: 0.3662 - val_recall: 0.0523 - val_auc: 0.4710 - val_prc: 0.3149\n",
      "Epoch 35/100\n",
      "60/60 [==============================] - 0s 2ms/step - loss: 0.9982 - tp: 258.0000 - fp: 368.0000 - tn: 5598.0000 - fn: 2725.0000 - accuracy: 0.2813 - precision: 0.4121 - recall: 0.0865 - auc: 0.4950 - prc: 0.3424 - val_loss: 1.1053 - val_tp: 52.0000 - val_fp: 92.0000 - val_tn: 1898.0000 - val_fn: 943.0000 - val_accuracy: 0.2432 - val_precision: 0.3611 - val_recall: 0.0523 - val_auc: 0.4942 - val_prc: 0.3245\n",
      "Epoch 36/100\n",
      "60/60 [==============================] - 0s 2ms/step - loss: 0.9986 - tp: 278.0000 - fp: 403.0000 - tn: 5563.0000 - fn: 2705.0000 - accuracy: 0.2806 - precision: 0.4082 - recall: 0.0932 - auc: 0.5002 - prc: 0.3428 - val_loss: 1.1041 - val_tp: 53.0000 - val_fp: 100.0000 - val_tn: 1890.0000 - val_fn: 942.0000 - val_accuracy: 0.2422 - val_precision: 0.3464 - val_recall: 0.0533 - val_auc: 0.5017 - val_prc: 0.3268\n",
      "Epoch 37/100\n",
      "60/60 [==============================] - 0s 2ms/step - loss: 0.9967 - tp: 288.0000 - fp: 431.0000 - tn: 5535.0000 - fn: 2695.0000 - accuracy: 0.2762 - precision: 0.4006 - recall: 0.0965 - auc: 0.4995 - prc: 0.3419 - val_loss: 1.1036 - val_tp: 53.0000 - val_fp: 101.0000 - val_tn: 1889.0000 - val_fn: 942.0000 - val_accuracy: 0.2291 - val_precision: 0.3442 - val_recall: 0.0533 - val_auc: 0.5036 - val_prc: 0.3270\n",
      "Epoch 38/100\n",
      "60/60 [==============================] - 0s 2ms/step - loss: 0.9980 - tp: 273.0000 - fp: 422.0000 - tn: 5544.0000 - fn: 2710.0000 - accuracy: 0.2819 - precision: 0.3928 - recall: 0.0915 - auc: 0.5068 - prc: 0.3441 - val_loss: 1.0991 - val_tp: 53.0000 - val_fp: 98.0000 - val_tn: 1892.0000 - val_fn: 942.0000 - val_accuracy: 0.2322 - val_precision: 0.3510 - val_recall: 0.0533 - val_auc: 0.5162 - val_prc: 0.3322\n",
      "Epoch 39/100\n",
      "60/60 [==============================] - 0s 2ms/step - loss: 0.9922 - tp: 281.0000 - fp: 445.0000 - tn: 5521.0000 - fn: 2702.0000 - accuracy: 0.2896 - precision: 0.3871 - recall: 0.0942 - auc: 0.5135 - prc: 0.3485 - val_loss: 1.0979 - val_tp: 55.0000 - val_fp: 108.0000 - val_tn: 1882.0000 - val_fn: 940.0000 - val_accuracy: 0.2291 - val_precision: 0.3374 - val_recall: 0.0553 - val_auc: 0.5217 - val_prc: 0.3342\n",
      "Epoch 40/100\n",
      "60/60 [==============================] - 0s 2ms/step - loss: 0.9975 - tp: 266.0000 - fp: 472.0000 - tn: 5494.0000 - fn: 2717.0000 - accuracy: 0.2863 - precision: 0.3604 - recall: 0.0892 - auc: 0.5087 - prc: 0.3406 - val_loss: 1.0953 - val_tp: 53.0000 - val_fp: 98.0000 - val_tn: 1892.0000 - val_fn: 942.0000 - val_accuracy: 0.2221 - val_precision: 0.3510 - val_recall: 0.0533 - val_auc: 0.5262 - val_prc: 0.3358\n",
      "Epoch 41/100\n",
      "60/60 [==============================] - 0s 2ms/step - loss: 0.9893 - tp: 269.0000 - fp: 460.0000 - tn: 5506.0000 - fn: 2714.0000 - accuracy: 0.2689 - precision: 0.3690 - recall: 0.0902 - auc: 0.5014 - prc: 0.3384 - val_loss: 1.0970 - val_tp: 55.0000 - val_fp: 104.0000 - val_tn: 1886.0000 - val_fn: 940.0000 - val_accuracy: 0.2131 - val_precision: 0.3459 - val_recall: 0.0553 - val_auc: 0.5238 - val_prc: 0.3345\n",
      "Epoch 42/100\n",
      "60/60 [==============================] - 0s 2ms/step - loss: 0.9868 - tp: 282.0000 - fp: 452.0000 - tn: 5514.0000 - fn: 2701.0000 - accuracy: 0.2803 - precision: 0.3842 - recall: 0.0945 - auc: 0.5142 - prc: 0.3447 - val_loss: 1.0899 - val_tp: 55.0000 - val_fp: 106.0000 - val_tn: 1884.0000 - val_fn: 940.0000 - val_accuracy: 0.2201 - val_precision: 0.3416 - val_recall: 0.0553 - val_auc: 0.5393 - val_prc: 0.3413\n",
      "Epoch 43/100\n",
      "60/60 [==============================] - 0s 2ms/step - loss: 0.9791 - tp: 295.0000 - fp: 462.0000 - tn: 5504.0000 - fn: 2688.0000 - accuracy: 0.2843 - precision: 0.3897 - recall: 0.0989 - auc: 0.5240 - prc: 0.3494 - val_loss: 1.0879 - val_tp: 56.0000 - val_fp: 108.0000 - val_tn: 1882.0000 - val_fn: 939.0000 - val_accuracy: 0.2211 - val_precision: 0.3415 - val_recall: 0.0563 - val_auc: 0.5436 - val_prc: 0.3433\n",
      "Epoch 44/100\n",
      "60/60 [==============================] - 0s 2ms/step - loss: 0.9699 - tp: 313.0000 - fp: 505.0000 - tn: 5461.0000 - fn: 2670.0000 - accuracy: 0.2866 - precision: 0.3826 - recall: 0.1049 - auc: 0.5270 - prc: 0.3545 - val_loss: 1.0837 - val_tp: 57.0000 - val_fp: 116.0000 - val_tn: 1874.0000 - val_fn: 938.0000 - val_accuracy: 0.2281 - val_precision: 0.3295 - val_recall: 0.0573 - val_auc: 0.5528 - val_prc: 0.3473\n",
      "Epoch 45/100\n",
      "60/60 [==============================] - 0s 2ms/step - loss: 0.9818 - tp: 306.0000 - fp: 517.0000 - tn: 5449.0000 - fn: 2677.0000 - accuracy: 0.2853 - precision: 0.3718 - recall: 0.1026 - auc: 0.5261 - prc: 0.3503 - val_loss: 1.0842 - val_tp: 57.0000 - val_fp: 116.0000 - val_tn: 1874.0000 - val_fn: 938.0000 - val_accuracy: 0.2221 - val_precision: 0.3295 - val_recall: 0.0573 - val_auc: 0.5508 - val_prc: 0.3462\n",
      "Epoch 46/100\n",
      "60/60 [==============================] - 0s 2ms/step - loss: 0.9704 - tp: 319.0000 - fp: 551.0000 - tn: 5415.0000 - fn: 2664.0000 - accuracy: 0.2883 - precision: 0.3667 - recall: 0.1069 - auc: 0.5322 - prc: 0.3530 - val_loss: 1.0803 - val_tp: 57.0000 - val_fp: 116.0000 - val_tn: 1874.0000 - val_fn: 938.0000 - val_accuracy: 0.2261 - val_precision: 0.3295 - val_recall: 0.0573 - val_auc: 0.5585 - val_prc: 0.3499\n",
      "Epoch 47/100\n",
      "60/60 [==============================] - 0s 2ms/step - loss: 0.9707 - tp: 305.0000 - fp: 533.0000 - tn: 5433.0000 - fn: 2678.0000 - accuracy: 0.2839 - precision: 0.3640 - recall: 0.1022 - auc: 0.5362 - prc: 0.3530 - val_loss: 1.0754 - val_tp: 57.0000 - val_fp: 121.0000 - val_tn: 1869.0000 - val_fn: 938.0000 - val_accuracy: 0.2342 - val_precision: 0.3202 - val_recall: 0.0573 - val_auc: 0.5672 - val_prc: 0.3541\n",
      "Epoch 48/100\n",
      "60/60 [==============================] - 0s 2ms/step - loss: 0.9601 - tp: 310.0000 - fp: 541.0000 - tn: 5425.0000 - fn: 2673.0000 - accuracy: 0.2963 - precision: 0.3643 - recall: 0.1039 - auc: 0.5444 - prc: 0.3572 - val_loss: 1.0675 - val_tp: 57.0000 - val_fp: 119.0000 - val_tn: 1871.0000 - val_fn: 938.0000 - val_accuracy: 0.2432 - val_precision: 0.3239 - val_recall: 0.0573 - val_auc: 0.5796 - val_prc: 0.3601\n",
      "Epoch 49/100\n",
      "60/60 [==============================] - 0s 2ms/step - loss: 0.9802 - tp: 301.0000 - fp: 543.0000 - tn: 5423.0000 - fn: 2682.0000 - accuracy: 0.2853 - precision: 0.3566 - recall: 0.1009 - auc: 0.5351 - prc: 0.3505 - val_loss: 1.0663 - val_tp: 57.0000 - val_fp: 123.0000 - val_tn: 1867.0000 - val_fn: 938.0000 - val_accuracy: 0.2442 - val_precision: 0.3167 - val_recall: 0.0573 - val_auc: 0.5810 - val_prc: 0.3610\n",
      "Epoch 50/100\n",
      "60/60 [==============================] - 0s 2ms/step - loss: 0.9534 - tp: 340.0000 - fp: 522.0000 - tn: 5444.0000 - fn: 2643.0000 - accuracy: 0.3000 - precision: 0.3944 - recall: 0.1140 - auc: 0.5529 - prc: 0.3669 - val_loss: 1.0609 - val_tp: 57.0000 - val_fp: 123.0000 - val_tn: 1867.0000 - val_fn: 938.0000 - val_accuracy: 0.2523 - val_precision: 0.3167 - val_recall: 0.0573 - val_auc: 0.5890 - val_prc: 0.3652\n",
      "Epoch 51/100\n",
      "60/60 [==============================] - 0s 2ms/step - loss: 0.9466 - tp: 373.0000 - fp: 568.0000 - tn: 5398.0000 - fn: 2610.0000 - accuracy: 0.3007 - precision: 0.3964 - recall: 0.1250 - auc: 0.5582 - prc: 0.3689 - val_loss: 1.0583 - val_tp: 58.0000 - val_fp: 128.0000 - val_tn: 1862.0000 - val_fn: 937.0000 - val_accuracy: 0.2553 - val_precision: 0.3118 - val_recall: 0.0583 - val_auc: 0.5916 - val_prc: 0.3662\n",
      "Epoch 52/100\n",
      "60/60 [==============================] - 0s 2ms/step - loss: 0.9649 - tp: 339.0000 - fp: 600.0000 - tn: 5366.0000 - fn: 2644.0000 - accuracy: 0.2900 - precision: 0.3610 - recall: 0.1136 - auc: 0.5528 - prc: 0.3614 - val_loss: 1.0558 - val_tp: 58.0000 - val_fp: 128.0000 - val_tn: 1862.0000 - val_fn: 937.0000 - val_accuracy: 0.2563 - val_precision: 0.3118 - val_recall: 0.0583 - val_auc: 0.5946 - val_prc: 0.3677\n",
      "Epoch 53/100\n",
      "60/60 [==============================] - 0s 2ms/step - loss: 0.9536 - tp: 341.0000 - fp: 588.0000 - tn: 5378.0000 - fn: 2642.0000 - accuracy: 0.2906 - precision: 0.3671 - recall: 0.1143 - auc: 0.5504 - prc: 0.3630 - val_loss: 1.0555 - val_tp: 57.0000 - val_fp: 127.0000 - val_tn: 1863.0000 - val_fn: 938.0000 - val_accuracy: 0.2543 - val_precision: 0.3098 - val_recall: 0.0573 - val_auc: 0.5944 - val_prc: 0.3675\n",
      "Epoch 54/100\n",
      "60/60 [==============================] - 0s 2ms/step - loss: 0.9627 - tp: 296.0000 - fp: 593.0000 - tn: 5373.0000 - fn: 2687.0000 - accuracy: 0.2839 - precision: 0.3330 - recall: 0.0992 - auc: 0.5437 - prc: 0.3551 - val_loss: 1.0561 - val_tp: 57.0000 - val_fp: 129.0000 - val_tn: 1861.0000 - val_fn: 938.0000 - val_accuracy: 0.2523 - val_precision: 0.3065 - val_recall: 0.0573 - val_auc: 0.5930 - val_prc: 0.3666\n",
      "Epoch 55/100\n",
      "60/60 [==============================] - 0s 2ms/step - loss: 0.9498 - tp: 349.0000 - fp: 611.0000 - tn: 5355.0000 - fn: 2634.0000 - accuracy: 0.2940 - precision: 0.3635 - recall: 0.1170 - auc: 0.5553 - prc: 0.3650 - val_loss: 1.0550 - val_tp: 57.0000 - val_fp: 131.0000 - val_tn: 1859.0000 - val_fn: 938.0000 - val_accuracy: 0.2482 - val_precision: 0.3032 - val_recall: 0.0573 - val_auc: 0.5933 - val_prc: 0.3666\n",
      "Epoch 56/100\n",
      "60/60 [==============================] - 0s 2ms/step - loss: 0.9365 - tp: 336.0000 - fp: 604.0000 - tn: 5362.0000 - fn: 2647.0000 - accuracy: 0.2977 - precision: 0.3574 - recall: 0.1126 - auc: 0.5591 - prc: 0.3658 - val_loss: 1.0523 - val_tp: 59.0000 - val_fp: 133.0000 - val_tn: 1857.0000 - val_fn: 936.0000 - val_accuracy: 0.2533 - val_precision: 0.3073 - val_recall: 0.0593 - val_auc: 0.5966 - val_prc: 0.3683\n",
      "Epoch 57/100\n",
      "60/60 [==============================] - 0s 2ms/step - loss: 0.9465 - tp: 361.0000 - fp: 656.0000 - tn: 5310.0000 - fn: 2622.0000 - accuracy: 0.3007 - precision: 0.3550 - recall: 0.1210 - auc: 0.5644 - prc: 0.3677 - val_loss: 1.0497 - val_tp: 59.0000 - val_fp: 134.0000 - val_tn: 1856.0000 - val_fn: 936.0000 - val_accuracy: 0.2523 - val_precision: 0.3057 - val_recall: 0.0593 - val_auc: 0.5986 - val_prc: 0.3694\n",
      "Epoch 58/100\n",
      "60/60 [==============================] - 0s 2ms/step - loss: 0.9465 - tp: 353.0000 - fp: 646.0000 - tn: 5320.0000 - fn: 2630.0000 - accuracy: 0.3000 - precision: 0.3534 - recall: 0.1183 - auc: 0.5675 - prc: 0.3694 - val_loss: 1.0434 - val_tp: 59.0000 - val_fp: 134.0000 - val_tn: 1856.0000 - val_fn: 936.0000 - val_accuracy: 0.2603 - val_precision: 0.3057 - val_recall: 0.0593 - val_auc: 0.6054 - val_prc: 0.3731\n",
      "Epoch 59/100\n",
      "60/60 [==============================] - 0s 2ms/step - loss: 0.9312 - tp: 375.0000 - fp: 620.0000 - tn: 5346.0000 - fn: 2608.0000 - accuracy: 0.3165 - precision: 0.3769 - recall: 0.1257 - auc: 0.5756 - prc: 0.3764 - val_loss: 1.0341 - val_tp: 59.0000 - val_fp: 136.0000 - val_tn: 1854.0000 - val_fn: 936.0000 - val_accuracy: 0.2754 - val_precision: 0.3026 - val_recall: 0.0593 - val_auc: 0.6151 - val_prc: 0.3785\n",
      "Epoch 60/100\n",
      "60/60 [==============================] - 0s 2ms/step - loss: 0.9444 - tp: 389.0000 - fp: 667.0000 - tn: 5299.0000 - fn: 2594.0000 - accuracy: 0.3084 - precision: 0.3684 - recall: 0.1304 - auc: 0.5749 - prc: 0.3734 - val_loss: 1.0307 - val_tp: 59.0000 - val_fp: 134.0000 - val_tn: 1856.0000 - val_fn: 936.0000 - val_accuracy: 0.2764 - val_precision: 0.3057 - val_recall: 0.0593 - val_auc: 0.6171 - val_prc: 0.3795\n",
      "Epoch 61/100\n",
      "60/60 [==============================] - 0s 2ms/step - loss: 0.9299 - tp: 393.0000 - fp: 683.0000 - tn: 5283.0000 - fn: 2590.0000 - accuracy: 0.3165 - precision: 0.3652 - recall: 0.1317 - auc: 0.5842 - prc: 0.3820 - val_loss: 1.0288 - val_tp: 59.0000 - val_fp: 137.0000 - val_tn: 1853.0000 - val_fn: 936.0000 - val_accuracy: 0.2814 - val_precision: 0.3010 - val_recall: 0.0593 - val_auc: 0.6193 - val_prc: 0.3807\n",
      "Epoch 62/100\n",
      "60/60 [==============================] - 0s 2ms/step - loss: 0.9326 - tp: 406.0000 - fp: 700.0000 - tn: 5266.0000 - fn: 2577.0000 - accuracy: 0.3077 - precision: 0.3671 - recall: 0.1361 - auc: 0.5787 - prc: 0.3726 - val_loss: 1.0284 - val_tp: 59.0000 - val_fp: 138.0000 - val_tn: 1852.0000 - val_fn: 936.0000 - val_accuracy: 0.2714 - val_precision: 0.2995 - val_recall: 0.0593 - val_auc: 0.6174 - val_prc: 0.3795\n",
      "Epoch 63/100\n",
      "60/60 [==============================] - 0s 2ms/step - loss: 0.9337 - tp: 406.0000 - fp: 745.0000 - tn: 5221.0000 - fn: 2577.0000 - accuracy: 0.3094 - precision: 0.3527 - recall: 0.1361 - auc: 0.5910 - prc: 0.3802 - val_loss: 1.0269 - val_tp: 59.0000 - val_fp: 138.0000 - val_tn: 1852.0000 - val_fn: 936.0000 - val_accuracy: 0.2673 - val_precision: 0.2995 - val_recall: 0.0593 - val_auc: 0.6173 - val_prc: 0.3793\n",
      "Epoch 64/100\n",
      "60/60 [==============================] - 0s 2ms/step - loss: 0.9206 - tp: 411.0000 - fp: 719.0000 - tn: 5247.0000 - fn: 2572.0000 - accuracy: 0.3161 - precision: 0.3637 - recall: 0.1378 - auc: 0.5969 - prc: 0.3849 - val_loss: 1.0213 - val_tp: 60.0000 - val_fp: 137.0000 - val_tn: 1853.0000 - val_fn: 935.0000 - val_accuracy: 0.2774 - val_precision: 0.3046 - val_recall: 0.0603 - val_auc: 0.6233 - val_prc: 0.3830\n",
      "Epoch 65/100\n",
      "60/60 [==============================] - 0s 2ms/step - loss: 0.9314 - tp: 410.0000 - fp: 677.0000 - tn: 5289.0000 - fn: 2573.0000 - accuracy: 0.3181 - precision: 0.3772 - recall: 0.1374 - auc: 0.5959 - prc: 0.3841 - val_loss: 1.0171 - val_tp: 59.0000 - val_fp: 135.0000 - val_tn: 1855.0000 - val_fn: 936.0000 - val_accuracy: 0.2915 - val_precision: 0.3041 - val_recall: 0.0593 - val_auc: 0.6283 - val_prc: 0.3860\n",
      "Epoch 66/100\n",
      "60/60 [==============================] - 0s 2ms/step - loss: 0.9214 - tp: 417.0000 - fp: 696.0000 - tn: 5270.0000 - fn: 2566.0000 - accuracy: 0.3258 - precision: 0.3747 - recall: 0.1398 - auc: 0.6068 - prc: 0.3915 - val_loss: 1.0172 - val_tp: 61.0000 - val_fp: 142.0000 - val_tn: 1848.0000 - val_fn: 934.0000 - val_accuracy: 0.3005 - val_precision: 0.3005 - val_recall: 0.0613 - val_auc: 0.6300 - val_prc: 0.3870\n",
      "Epoch 67/100\n",
      "60/60 [==============================] - 0s 2ms/step - loss: 0.9281 - tp: 398.0000 - fp: 718.0000 - tn: 5248.0000 - fn: 2585.0000 - accuracy: 0.3158 - precision: 0.3566 - recall: 0.1334 - auc: 0.6096 - prc: 0.3943 - val_loss: 1.0131 - val_tp: 61.0000 - val_fp: 144.0000 - val_tn: 1846.0000 - val_fn: 934.0000 - val_accuracy: 0.3095 - val_precision: 0.2976 - val_recall: 0.0613 - val_auc: 0.6335 - val_prc: 0.3892\n",
      "Epoch 68/100\n",
      "60/60 [==============================] - 0s 2ms/step - loss: 0.9230 - tp: 404.0000 - fp: 703.0000 - tn: 5263.0000 - fn: 2579.0000 - accuracy: 0.3024 - precision: 0.3650 - recall: 0.1354 - auc: 0.6060 - prc: 0.3921 - val_loss: 1.0164 - val_tp: 61.0000 - val_fp: 141.0000 - val_tn: 1849.0000 - val_fn: 934.0000 - val_accuracy: 0.2905 - val_precision: 0.3020 - val_recall: 0.0613 - val_auc: 0.6284 - val_prc: 0.3860\n",
      "Epoch 69/100\n",
      "60/60 [==============================] - 0s 2ms/step - loss: 0.9307 - tp: 414.0000 - fp: 718.0000 - tn: 5248.0000 - fn: 2569.0000 - accuracy: 0.3292 - precision: 0.3657 - recall: 0.1388 - auc: 0.6117 - prc: 0.3918 - val_loss: 1.0169 - val_tp: 62.0000 - val_fp: 141.0000 - val_tn: 1849.0000 - val_fn: 933.0000 - val_accuracy: 0.2894 - val_precision: 0.3054 - val_recall: 0.0623 - val_auc: 0.6265 - val_prc: 0.3847\n",
      "Epoch 70/100\n",
      "60/60 [==============================] - 0s 2ms/step - loss: 0.9243 - tp: 373.0000 - fp: 727.0000 - tn: 5239.0000 - fn: 2610.0000 - accuracy: 0.3084 - precision: 0.3391 - recall: 0.1250 - auc: 0.6067 - prc: 0.3892 - val_loss: 1.0157 - val_tp: 65.0000 - val_fp: 153.0000 - val_tn: 1837.0000 - val_fn: 930.0000 - val_accuracy: 0.2965 - val_precision: 0.2982 - val_recall: 0.0653 - val_auc: 0.6298 - val_prc: 0.3867\n",
      "Epoch 71/100\n",
      "60/60 [==============================] - 0s 2ms/step - loss: 0.9167 - tp: 423.0000 - fp: 705.0000 - tn: 5261.0000 - fn: 2560.0000 - accuracy: 0.3285 - precision: 0.3750 - recall: 0.1418 - auc: 0.6189 - prc: 0.4002 - val_loss: 1.0136 - val_tp: 65.0000 - val_fp: 154.0000 - val_tn: 1836.0000 - val_fn: 930.0000 - val_accuracy: 0.2945 - val_precision: 0.2968 - val_recall: 0.0653 - val_auc: 0.6305 - val_prc: 0.3870\n",
      "Epoch 72/100\n",
      "60/60 [==============================] - 0s 2ms/step - loss: 0.9191 - tp: 389.0000 - fp: 730.0000 - tn: 5236.0000 - fn: 2594.0000 - accuracy: 0.3208 - precision: 0.3476 - recall: 0.1304 - auc: 0.6145 - prc: 0.3906 - val_loss: 1.0132 - val_tp: 65.0000 - val_fp: 154.0000 - val_tn: 1836.0000 - val_fn: 930.0000 - val_accuracy: 0.2905 - val_precision: 0.2968 - val_recall: 0.0653 - val_auc: 0.6297 - val_prc: 0.3866\n",
      "Epoch 73/100\n",
      "60/60 [==============================] - 0s 2ms/step - loss: 0.9143 - tp: 416.0000 - fp: 686.0000 - tn: 5280.0000 - fn: 2567.0000 - accuracy: 0.3235 - precision: 0.3775 - recall: 0.1395 - auc: 0.6221 - prc: 0.3991 - val_loss: 1.0078 - val_tp: 66.0000 - val_fp: 156.0000 - val_tn: 1834.0000 - val_fn: 929.0000 - val_accuracy: 0.3005 - val_precision: 0.2973 - val_recall: 0.0663 - val_auc: 0.6345 - val_prc: 0.3895\n",
      "Epoch 74/100\n",
      "60/60 [==============================] - 0s 2ms/step - loss: 0.9098 - tp: 422.0000 - fp: 738.0000 - tn: 5228.0000 - fn: 2561.0000 - accuracy: 0.3272 - precision: 0.3638 - recall: 0.1415 - auc: 0.6233 - prc: 0.4029 - val_loss: 1.0074 - val_tp: 66.0000 - val_fp: 156.0000 - val_tn: 1834.0000 - val_fn: 929.0000 - val_accuracy: 0.3015 - val_precision: 0.2973 - val_recall: 0.0663 - val_auc: 0.6348 - val_prc: 0.3898\n",
      "Epoch 75/100\n",
      "60/60 [==============================] - 0s 2ms/step - loss: 0.9001 - tp: 444.0000 - fp: 703.0000 - tn: 5263.0000 - fn: 2539.0000 - accuracy: 0.3352 - precision: 0.3871 - recall: 0.1488 - auc: 0.6297 - prc: 0.4039 - val_loss: 1.0039 - val_tp: 69.0000 - val_fp: 161.0000 - val_tn: 1829.0000 - val_fn: 926.0000 - val_accuracy: 0.3045 - val_precision: 0.3000 - val_recall: 0.0693 - val_auc: 0.6363 - val_prc: 0.3905\n",
      "Epoch 76/100\n",
      "60/60 [==============================] - 0s 2ms/step - loss: 0.9204 - tp: 412.0000 - fp: 734.0000 - tn: 5232.0000 - fn: 2571.0000 - accuracy: 0.3258 - precision: 0.3595 - recall: 0.1381 - auc: 0.6153 - prc: 0.3893 - val_loss: 1.0023 - val_tp: 69.0000 - val_fp: 155.0000 - val_tn: 1835.0000 - val_fn: 926.0000 - val_accuracy: 0.2985 - val_precision: 0.3080 - val_recall: 0.0693 - val_auc: 0.6353 - val_prc: 0.3899\n",
      "Epoch 77/100\n",
      "60/60 [==============================] - 0s 2ms/step - loss: 0.9253 - tp: 402.0000 - fp: 706.0000 - tn: 5260.0000 - fn: 2581.0000 - accuracy: 0.3299 - precision: 0.3628 - recall: 0.1348 - auc: 0.6204 - prc: 0.3965 - val_loss: 1.0040 - val_tp: 72.0000 - val_fp: 161.0000 - val_tn: 1829.0000 - val_fn: 923.0000 - val_accuracy: 0.2955 - val_precision: 0.3090 - val_recall: 0.0724 - val_auc: 0.6332 - val_prc: 0.3886\n",
      "Epoch 78/100\n",
      "60/60 [==============================] - 0s 2ms/step - loss: 0.9073 - tp: 424.0000 - fp: 730.0000 - tn: 5236.0000 - fn: 2559.0000 - accuracy: 0.3265 - precision: 0.3674 - recall: 0.1421 - auc: 0.6229 - prc: 0.3990 - val_loss: 1.0033 - val_tp: 73.0000 - val_fp: 166.0000 - val_tn: 1824.0000 - val_fn: 922.0000 - val_accuracy: 0.2975 - val_precision: 0.3054 - val_recall: 0.0734 - val_auc: 0.6344 - val_prc: 0.3894\n",
      "Epoch 79/100\n",
      "60/60 [==============================] - 0s 2ms/step - loss: 0.9130 - tp: 417.0000 - fp: 756.0000 - tn: 5210.0000 - fn: 2566.0000 - accuracy: 0.3279 - precision: 0.3555 - recall: 0.1398 - auc: 0.6223 - prc: 0.3960 - val_loss: 0.9982 - val_tp: 73.0000 - val_fp: 161.0000 - val_tn: 1829.0000 - val_fn: 922.0000 - val_accuracy: 0.3015 - val_precision: 0.3120 - val_recall: 0.0734 - val_auc: 0.6363 - val_prc: 0.3904\n",
      "Epoch 80/100\n",
      "60/60 [==============================] - 0s 2ms/step - loss: 0.9175 - tp: 438.0000 - fp: 749.0000 - tn: 5217.0000 - fn: 2545.0000 - accuracy: 0.3212 - precision: 0.3690 - recall: 0.1468 - auc: 0.6219 - prc: 0.3962 - val_loss: 0.9983 - val_tp: 73.0000 - val_fp: 162.0000 - val_tn: 1828.0000 - val_fn: 922.0000 - val_accuracy: 0.2955 - val_precision: 0.3106 - val_recall: 0.0734 - val_auc: 0.6362 - val_prc: 0.3902\n",
      "Epoch 81/100\n",
      "60/60 [==============================] - 0s 2ms/step - loss: 0.9263 - tp: 400.0000 - fp: 756.0000 - tn: 5210.0000 - fn: 2583.0000 - accuracy: 0.3419 - precision: 0.3460 - recall: 0.1341 - auc: 0.6229 - prc: 0.3911 - val_loss: 0.9948 - val_tp: 75.0000 - val_fp: 164.0000 - val_tn: 1826.0000 - val_fn: 920.0000 - val_accuracy: 0.3156 - val_precision: 0.3138 - val_recall: 0.0754 - val_auc: 0.6422 - val_prc: 0.3942\n",
      "Epoch 82/100\n",
      "60/60 [==============================] - 0s 2ms/step - loss: 0.9050 - tp: 432.0000 - fp: 730.0000 - tn: 5236.0000 - fn: 2551.0000 - accuracy: 0.3470 - precision: 0.3718 - recall: 0.1448 - auc: 0.6305 - prc: 0.4029 - val_loss: 0.9927 - val_tp: 75.0000 - val_fp: 165.0000 - val_tn: 1825.0000 - val_fn: 920.0000 - val_accuracy: 0.3156 - val_precision: 0.3125 - val_recall: 0.0754 - val_auc: 0.6427 - val_prc: 0.3945\n",
      "Epoch 83/100\n",
      "60/60 [==============================] - 0s 2ms/step - loss: 0.9064 - tp: 423.0000 - fp: 777.0000 - tn: 5189.0000 - fn: 2560.0000 - accuracy: 0.3490 - precision: 0.3525 - recall: 0.1418 - auc: 0.6298 - prc: 0.3962 - val_loss: 0.9919 - val_tp: 75.0000 - val_fp: 173.0000 - val_tn: 1817.0000 - val_fn: 920.0000 - val_accuracy: 0.3256 - val_precision: 0.3024 - val_recall: 0.0754 - val_auc: 0.6446 - val_prc: 0.3959\n",
      "Epoch 84/100\n",
      "60/60 [==============================] - 0s 2ms/step - loss: 0.9063 - tp: 433.0000 - fp: 756.0000 - tn: 5210.0000 - fn: 2550.0000 - accuracy: 0.3419 - precision: 0.3642 - recall: 0.1452 - auc: 0.6309 - prc: 0.4008 - val_loss: 0.9922 - val_tp: 76.0000 - val_fp: 183.0000 - val_tn: 1807.0000 - val_fn: 919.0000 - val_accuracy: 0.3156 - val_precision: 0.2934 - val_recall: 0.0764 - val_auc: 0.6433 - val_prc: 0.3949\n",
      "Epoch 85/100\n",
      "60/60 [==============================] - 0s 2ms/step - loss: 0.9046 - tp: 427.0000 - fp: 789.0000 - tn: 5177.0000 - fn: 2556.0000 - accuracy: 0.3403 - precision: 0.3512 - recall: 0.1431 - auc: 0.6304 - prc: 0.4014 - val_loss: 0.9926 - val_tp: 76.0000 - val_fp: 184.0000 - val_tn: 1806.0000 - val_fn: 919.0000 - val_accuracy: 0.3116 - val_precision: 0.2923 - val_recall: 0.0764 - val_auc: 0.6417 - val_prc: 0.3940\n",
      "Epoch 86/100\n",
      "60/60 [==============================] - 0s 2ms/step - loss: 0.9113 - tp: 414.0000 - fp: 775.0000 - tn: 5191.0000 - fn: 2569.0000 - accuracy: 0.3369 - precision: 0.3482 - recall: 0.1388 - auc: 0.6303 - prc: 0.3987 - val_loss: 0.9909 - val_tp: 76.0000 - val_fp: 186.0000 - val_tn: 1804.0000 - val_fn: 919.0000 - val_accuracy: 0.3196 - val_precision: 0.2901 - val_recall: 0.0764 - val_auc: 0.6436 - val_prc: 0.3951\n",
      "Epoch 87/100\n",
      "60/60 [==============================] - 0s 2ms/step - loss: 0.8883 - tp: 430.0000 - fp: 737.0000 - tn: 5229.0000 - fn: 2553.0000 - accuracy: 0.3523 - precision: 0.3685 - recall: 0.1442 - auc: 0.6383 - prc: 0.4076 - val_loss: 0.9904 - val_tp: 76.0000 - val_fp: 193.0000 - val_tn: 1797.0000 - val_fn: 919.0000 - val_accuracy: 0.3156 - val_precision: 0.2825 - val_recall: 0.0764 - val_auc: 0.6432 - val_prc: 0.3948\n",
      "Epoch 88/100\n",
      "60/60 [==============================] - 0s 2ms/step - loss: 0.8765 - tp: 437.0000 - fp: 760.0000 - tn: 5206.0000 - fn: 2546.0000 - accuracy: 0.3456 - precision: 0.3651 - recall: 0.1465 - auc: 0.6348 - prc: 0.4083 - val_loss: 0.9921 - val_tp: 78.0000 - val_fp: 203.0000 - val_tn: 1787.0000 - val_fn: 917.0000 - val_accuracy: 0.3206 - val_precision: 0.2776 - val_recall: 0.0784 - val_auc: 0.6434 - val_prc: 0.3948\n",
      "Epoch 89/100\n",
      "60/60 [==============================] - 0s 2ms/step - loss: 0.9006 - tp: 425.0000 - fp: 812.0000 - tn: 5154.0000 - fn: 2558.0000 - accuracy: 0.3450 - precision: 0.3436 - recall: 0.1425 - auc: 0.6336 - prc: 0.3991 - val_loss: 0.9896 - val_tp: 79.0000 - val_fp: 203.0000 - val_tn: 1787.0000 - val_fn: 916.0000 - val_accuracy: 0.3156 - val_precision: 0.2801 - val_recall: 0.0794 - val_auc: 0.6430 - val_prc: 0.3946\n",
      "Epoch 90/100\n",
      "60/60 [==============================] - 0s 2ms/step - loss: 0.9126 - tp: 448.0000 - fp: 813.0000 - tn: 5153.0000 - fn: 2535.0000 - accuracy: 0.3453 - precision: 0.3553 - recall: 0.1502 - auc: 0.6318 - prc: 0.3992 - val_loss: 0.9887 - val_tp: 82.0000 - val_fp: 202.0000 - val_tn: 1788.0000 - val_fn: 913.0000 - val_accuracy: 0.3106 - val_precision: 0.2887 - val_recall: 0.0824 - val_auc: 0.6402 - val_prc: 0.3928\n",
      "Epoch 91/100\n",
      "60/60 [==============================] - 0s 2ms/step - loss: 0.9013 - tp: 438.0000 - fp: 836.0000 - tn: 5130.0000 - fn: 2545.0000 - accuracy: 0.3540 - precision: 0.3438 - recall: 0.1468 - auc: 0.6373 - prc: 0.4005 - val_loss: 0.9859 - val_tp: 84.0000 - val_fp: 198.0000 - val_tn: 1792.0000 - val_fn: 911.0000 - val_accuracy: 0.3126 - val_precision: 0.2979 - val_recall: 0.0844 - val_auc: 0.6422 - val_prc: 0.3941\n",
      "Epoch 92/100\n",
      "60/60 [==============================] - 0s 2ms/step - loss: 0.8916 - tp: 415.0000 - fp: 794.0000 - tn: 5172.0000 - fn: 2568.0000 - accuracy: 0.3543 - precision: 0.3433 - recall: 0.1391 - auc: 0.6369 - prc: 0.4028 - val_loss: 0.9879 - val_tp: 84.0000 - val_fp: 214.0000 - val_tn: 1776.0000 - val_fn: 911.0000 - val_accuracy: 0.3196 - val_precision: 0.2819 - val_recall: 0.0844 - val_auc: 0.6439 - val_prc: 0.3950\n",
      "Epoch 93/100\n",
      "49/60 [=======================>......] - ETA: 0s - loss: 0.8860 - tp: 335.0000 - fp: 608.0000 - tn: 4292.0000 - fn: 2115.0000 - accuracy: 0.3592 - precision: 0.3552 - recall: 0.1367 - auc: 0.6408 - prc: 0.4088Restoring model weights from the end of the best epoch: 83.\n",
      "60/60 [==============================] - 0s 2ms/step - loss: 0.8847 - tp: 417.0000 - fp: 760.0000 - tn: 5206.0000 - fn: 2566.0000 - accuracy: 0.3594 - precision: 0.3543 - recall: 0.1398 - auc: 0.6398 - prc: 0.4068 - val_loss: 0.9886 - val_tp: 88.0000 - val_fp: 222.0000 - val_tn: 1768.0000 - val_fn: 907.0000 - val_accuracy: 0.3256 - val_precision: 0.2839 - val_recall: 0.0884 - val_auc: 0.6445 - val_prc: 0.3954\n",
      "Epoch 00093: early stopping\n"
     ]
    }
   ],
   "source": [
    "weighted_model = make_model()\n",
    "weighted_model.load_weights(initial_weights)\n",
    "\n",
    "weighted_history = weighted_model.fit(\n",
    "    X_train,\n",
    "    train_labels,\n",
    "    batch_size = BATCH_SIZE,\n",
    "    epochs=EPOCHS,\n",
    "    callbacks=[early_stopping],\n",
    "    validation_data=(X_val, val_labels),\n",
    "    # The class weights go here\n",
    "    class_weight=class_weights)"
   ]
  },
  {
   "cell_type": "code",
   "execution_count": 645,
   "metadata": {},
   "outputs": [
    {
     "data": {
      "image/png": "[encoded data removed]",
      "text/plain": [
       "<Figure size 720x504 with 4 Axes>"
      ]
     },
     "metadata": {
      "needs_background": "light"
     },
     "output_type": "display_data"
    }
   ],
   "source": [
    "plot_metrics(weighted_history)"
   ]
  },
  {
   "cell_type": "code",
   "execution_count": 646,
   "metadata": {},
   "outputs": [
    {
     "name": "stdout",
     "output_type": "stream",
     "text": [
      "loss :  0.981725811958313\n",
      "tp :  139.0\n",
      "fp :  200.0\n",
      "tn :  2452.0\n",
      "fn :  1187.0\n",
      "accuracy :  0.33257919549942017\n",
      "precision :  0.41002950072288513\n",
      "recall :  0.10482654720544815\n",
      "auc :  0.6544414758682251\n",
      "prc :  0.4155907928943634\n",
      "\n"
     ]
    },
    {
     "data": {
      "image/png": "[encoded data removed]",
      "text/plain": [
       "<Figure size 720x504 with 2 Axes>"
      ]
     },
     "metadata": {
      "needs_background": "light"
     },
     "output_type": "display_data"
    }
   ],
   "source": [
    "train_predictions_weighted = weighted_model.predict(X_train, batch_size=BATCH_SIZE)\n",
    "test_predictions_weighted = weighted_model.predict(X_test, batch_size=BATCH_SIZE)\n",
    "\n",
    "weighted_results = weighted_model.evaluate(X_test, test_labels,\n",
    "                                           batch_size=BATCH_SIZE, verbose=0)\n",
    "for name, value in zip(weighted_model.metrics_names, weighted_results):\n",
    "  print(name, ': ', value)\n",
    "print()\n",
    "\n",
    "plot_cm(test_labels, test_predictions_weighted)"
   ]
  },
  {
   "cell_type": "markdown",
   "metadata": {},
   "source": [
    "---\n",
    "<a id='explore'></a>\n",
    "## Part 4: _<u>Exploratory component</u>_"
   ]
  },
  {
   "cell_type": "markdown",
   "metadata": {},
   "source": [
    "<a id='q1'></a>\n",
    "### 4.1: _<u>How did major economic crisis affect the production and financial revenue of US movies during 1980 to 2020 ?</u>_"
   ]
  },
  {
   "cell_type": "markdown",
   "metadata": {},
   "source": [
    "In this section we would like to investigate whether major world economic crisis have had impact on the success of US movies with focus on particularly two factors: **volume of production** and **profit**. We have selected a list of timestamps of interest that could have played role in the progression of US movie industry: \n",
    "\n",
    "* **1980-1982**: Early 1980s recession. High unemployement rate and inflation.\n",
    "* **1990-1991**: Early 1990s recession. \n",
    "* **2000-2002**: Early 2000s recession. \n",
    "* **2007-2009**: Late 2000s recession, including the infamous 2008 world economic crisis.\n",
    "* **2020**: Covid-19 pandemic."
   ]
  },
  {
   "cell_type": "code",
   "execution_count": null,
   "metadata": {},
   "outputs": [],
   "source": [
    "df, df_movies = preprocess('Comprehensive IMDb Data.csv')"
   ]
  },
  {
   "cell_type": "code",
   "execution_count": null,
   "metadata": {},
   "outputs": [],
   "source": [
    "productions(df_movies[df_movies['country'] == 'United States'])"
   ]
  },
  {
   "cell_type": "markdown",
   "metadata": {},
   "source": [
    "From the first plot above it is not surprising that we see the clear dive in the number of movies produced in 2020, even less than 1980, though it is to note that the data we have only continues until september 2020. This is very much likely caused by the extensive restriction including nationwide lock downs that basically halted physical contacts between people, especially at movie production sites and theatres where lots of people tend to gather. It is even more apparent in the plot showing budget per production where 2020 is the only year that budget spent per production shot up, but much fewer movies were actually produced compared to the previous years. This correpsonds well to the fact that movie production during a pandemic becomes significanly more costly largely due to the intense and meticulous safety measures that need to be conducted on site. (source: https://variety.com/2020/film/news/film-sets-hollywood-pandemic-1234826994/)\n",
    "\n",
    "And the line plot gets relatively flat around 1990 to 1991, 1999 to 2000 and a sharp downturn from 2005 to 2007. Interestingly, from 1980 to 1982 and 2007 to 2009, supposedly the two of the most severe recession period US experienced, we see increases in movie productions. \n",
    "\n",
    "\n",
    "It is however unclear with the simple illustration of volume of production over the years to see the impact of the other timestamps of interest. It could very well be that more movies were produced with lower budget to combat the high unemployement rate, or it could be that ticket prices dropped and more people turned to entertainment as a form of emotional outlet etc. Therefore we will dive deeper into the box office success, hence movie profits during those times. It is to note that value of currency does not stay constant over time, thus the profit, gross and budget values are adjusted for inflation rates using additional data of the US CPI (Customer Product Index) for the period 1980-2020."
   ]
  },
  {
   "cell_type": "code",
   "execution_count": null,
   "metadata": {},
   "outputs": [],
   "source": [
    "success_visualise(df_movies[df_movies['country'] == 'United States'],'cpi.csv','cpi2.csv')"
   ]
  },
  {
   "cell_type": "markdown",
   "metadata": {},
   "source": [
    "From the top right plot we can see dips in profit at year 1981, 1991, 2000 and very drastically at year 2020, which corresponds well to the phases of recessions. This is also reflected in the percentage change in profit plot at bottomleft, where the values are negative or close to zero for these years. And we can also see from the bottom right that nearing the end of or 1 to 2 years immediately after the recession periods there tend to be a sharp in crease in return on profits. The time period 2007 to 2009 is especially intrigueing as it didn't follow similar pattern of other recessison periods. We can observe that the profit increased from 2007 to 2009, the percentage change in profit stayed positive during the period, and the return of profits shot up from 2008 to 2009 to all time high between 1980 to 2020. Hence we will further investigate into that period."
   ]
  },
  {
   "cell_type": "code",
   "execution_count": null,
   "metadata": {},
   "outputs": [],
   "source": [
    "profit_spike(df_movies[df_movies['country'] == 'United States'])"
   ]
  },
  {
   "cell_type": "markdown",
   "metadata": {},
   "source": [
    "Looking at which movies are released during 2009 we see that Avatar alone contributed to about 20% of the profit that year and it is the movie that brought the greatest amount of profit over the whole period of 1980 to 2020. This could an important factor that led the observation of spike in return on profit at 2009. Cross referencing with news from the period of great recession, we find that US movie industry surged with box office success compared to the previous two decades. Explanations of the phenomenom included that people were going to movie theatres as a form of escapism from the harsh reality. And the fact that they needed content that \"don't make you think too much\" perfectly coincides with the illustration that shows Animation and Action movies contributed significantly more than any other genres to the movie profits during the period. \n",
    "\n",
    "source: https://www.nytimes.com/2009/03/01/movies/01films.html"
   ]
  },
  {
   "cell_type": "markdown",
   "metadata": {},
   "source": [
    "<a id='q2'></a>\n",
    "### 4.2: _<u>How does the underlying structure of movie stars network correlates to the successes of movies?</u>_"
   ]
  },
  {
   "cell_type": "code",
   "execution_count": null,
   "metadata": {},
   "outputs": [],
   "source": [
    "df_star = pd.read_csv('df_movies_with_networth.csv')\n",
    "#Load the extended dataframe contianing star information \n",
    "df_star = df_star.groupby('star').mean()[['star_net_worth','star_avg_score','star_avg_profit']]\n",
    "#df_star['star_net_worth'].replace(np.nan,0, inplace = True)"
   ]
  },
  {
   "cell_type": "code",
   "execution_count": null,
   "metadata": {},
   "outputs": [],
   "source": [
    "## standardize data \n",
    "X = StandardScaler().fit_transform(df_star)\n",
    "## select only the two variables 'average movie score' and 'average movie profit' for each star\n",
    "X = X[:,1:]"
   ]
  },
  {
   "cell_type": "markdown",
   "metadata": {},
   "source": [
    "### Kmeans clustering"
   ]
  },
  {
   "cell_type": "code",
   "execution_count": null,
   "metadata": {},
   "outputs": [],
   "source": [
    "from sklearn.cluster import KMeans\n",
    "plt.rcParams['figure.figsize'] = (18, 8)\n",
    "K = 5\n",
    "k=KMeans(K,random_state=42)\n",
    "kmeans = k.fit(X)\n",
    "y_kmeans = kmeans.predict(X) \n",
    "\n",
    "# ## plotting cluster centres \n",
    "# x=range(2)\n",
    "# for c in k.cluster_centers_:\n",
    "#     plt.plot(x, c)"
   ]
  },
  {
   "cell_type": "code",
   "execution_count": null,
   "metadata": {},
   "outputs": [],
   "source": [
    "plt.scatter(X[:, 0], X[:, 1], c=y_kmeans, s=50, cmap='viridis')\n",
    "\n",
    "centers = kmeans.cluster_centers_\n",
    "plt.scatter(centers[:, 0], centers[:, 1], c='red', s=200, alpha=0.5);"
   ]
  },
  {
   "cell_type": "code",
   "execution_count": null,
   "metadata": {},
   "outputs": [],
   "source": [
    "## map it back to original star dataframe \n",
    "df_star['cluster']=k.fit_predict(X)\n",
    "\n",
    "pal = sns.color_palette(\"hls\", 8)\n",
    "cluster = df_star.groupby('cluster').mean().reset_index()\n",
    "cluster2 = df_star.groupby('cluster').count().reset_index().rename(columns = {'star_net_worth':'count'})\n",
    "fig,ax = plt.subplots(2,2,figsize=(25,10))\n",
    "cluster.plot(x=\"cluster\", y=[\"star_net_worth\"], style='o-', color = pal[0],ax = ax[0,0]).set_title('Average star net worth per cluster')\n",
    "cluster.plot(x=\"cluster\", y=[\"star_avg_score\"], style='o-', color = pal[4], ax = ax[0,1]).set_title('Average movie score received by star per cluster')\n",
    "cluster.plot(x=\"cluster\", y=[\"star_avg_profit\"], style='o-', color = pal[6], ax = ax[1,0]).set_title('Average movie profit the star is in per cluster')\n",
    "cluster2.plot(x=\"cluster\", y=[\"count\"], kind = 'bar', color = pal[5], ax = ax[1,1]).set_title('Number of stars per cluster')"
   ]
  },
  {
   "cell_type": "code",
   "execution_count": null,
   "metadata": {},
   "outputs": [],
   "source": [
    "## money people \n",
    "rich_good = list(df_star[df_star['cluster'] == 4].index)\n",
    "poor_good = list(df_star[df_star['cluster'] == 2].index)\n",
    "poor_bad = list(df_star[df_star['cluster'] == 3].index)\n",
    "\n",
    "df_movies[df_movies['star'].isin(poor_bad)][['star','genre','title','score']]"
   ]
  },
  {
   "cell_type": "code",
   "execution_count": null,
   "metadata": {},
   "outputs": [],
   "source": [
    "df_movies[df_movies['star'].isin(poor_good)][['star','genre','title','score']]"
   ]
  },
  {
   "cell_type": "markdown",
   "metadata": {},
   "source": [
    "# Extending the dataset \n",
    "\n",
    "From our data there excits one star per movie. We will extend dataset by adding the net worth of the stars. The data will come from https://www.celebritynetworth.com/richest-celebrities/actors/ and using web scraoping we can extract the networth of stars in million of dollars. Star with net worth with unit differes from million will set as `None` as well as stars which there where no data on from the site will also be set to `None`. Furtheremore, we will add the average score and profit for a star based on the average of all movies the star is chategorized as star in. \n"
   ]
  },
  {
   "cell_type": "code",
   "execution_count": null,
   "metadata": {},
   "outputs": [],
   "source": [
    "#df_movies_nw = extend_networth(df_movies)\n",
    "df_movies_nw = pd.read_csv('df_movies_with_networth.csv')\n"
   ]
  },
  {
   "cell_type": "markdown",
   "metadata": {},
   "source": [
    "\n",
    "### Creating the network \n"
   ]
  },
  {
   "cell_type": "markdown",
   "metadata": {},
   "source": [
    "Link stars if they have been working in the same movie\n"
   ]
  },
  {
   "cell_type": "code",
   "execution_count": null,
   "metadata": {},
   "outputs": [],
   "source": [
    "star_graph, star_graph_GCC = create_network(df_movies_nw)\n",
    "print(star_graph)\n",
    "print(star_graph_GCC)"
   ]
  },
  {
   "cell_type": "markdown",
   "metadata": {},
   "source": [
    "#### Community detection\n"
   ]
  },
  {
   "cell_type": "code",
   "execution_count": null,
   "metadata": {},
   "outputs": [],
   "source": [
    "partition = define_community(star_graph_GCC)\n",
    "display_graph(star_graph_GCC, partition)\n",
    "inter_graph(star_graph_GCC)"
   ]
  },
  {
   "cell_type": "markdown",
   "metadata": {},
   "source": [
    "---\n",
    "<a id='conc'></a>\n",
    "## Part 5: _<u>Conclusion</u>_"
   ]
  },
  {
   "cell_type": "markdown",
   "metadata": {},
   "source": [
    "# Appendix"
   ]
  },
  {
   "cell_type": "markdown",
   "metadata": {},
   "source": [
    "## Preprocess function"
   ]
  },
  {
   "cell_type": "code",
   "execution_count": 2,
   "metadata": {},
   "outputs": [],
   "source": [
    "def preprocess(path):\n",
    "    df = pd.read_csv(path)\n",
    "\n",
    "    ## create unique identifier of each movie \n",
    "    df['title_year'] = df['title'] + '_' + df['year'].astype(str)\n",
    "    ## create profit column\n",
    "    df['Profit'] = df['gross'] - df['budget']\n",
    "\n",
    "    #########################################################################################\n",
    "    ## create new compact datarfame\n",
    "    ## extract list of unique movie titles \n",
    "    #titles=list(set(df['title']))\n",
    "    title_year_set = list(set(df['title_year']))\n",
    "\n",
    "    # Create a dataframe where each row is a unique movie \n",
    "    movies={}\n",
    "    for t in title_year_set:\n",
    "        # Create a temperary datframe for subset of with title_year = t\n",
    "        df_temp = df[df.title_year == t]\n",
    "\n",
    "        # Extracting all the unique values for the attributes for the given title_year t\n",
    "        star = np.unique(df_temp['star'])\n",
    "        writer = np.unique(df_temp['writer'])\n",
    "        director = np.unique(df_temp['director'])\n",
    "        title = np.unique(df_temp['title'])\n",
    "        rating = np.unique(df_temp['rating'])\n",
    "        genre =np.unique(df_temp['genre'])\n",
    "        released = np.unique(df_temp['released'])\n",
    "        year = np.unique(df_temp['year'])\n",
    "        month = np.unique(df_temp['month'])\n",
    "        day = np.unique(df_temp['day'])\n",
    "        score = np.unique(df_temp['score'])\n",
    "        country = np.unique(df_temp['country'])\n",
    "        budget = np.unique(df_temp['budget'])\n",
    "        gross = np.unique(df_temp['gross'])\n",
    "        company = np.unique(df_temp['company'])\n",
    "        runtime = np.unique(df_temp['runtime'])\n",
    "        region = np.unique(df_temp['region'])\n",
    "        titleId = np.unique(df_temp['titleId'])\n",
    "        primaryName = np.unique(df_temp['primaryName'])\n",
    "\n",
    "        # Extract attributes which are based on primaryName and then as dictionaries\n",
    "        cat = {}\n",
    "        ncon = {}\n",
    "        known = {}\n",
    "        for _, row in df[df.title_year == t].iterrows():\n",
    "            pN = row['primaryName']\n",
    "            cat[pN] = row['category']\n",
    "            ncon[pN] = row['nconst']\n",
    "            known[pN] = row['knownForTitles']\n",
    "\n",
    "        movie = {'titleId': titleId, 'title':title, 'rating':rating, 'region':region, 'genre': genre, 'released': released, 'year':year,\n",
    "        'month':month, 'day':day, 'score':score, 'director':director, 'writer':writer, 'star':star, 'country':country,\n",
    "        'budget':budget, 'gross':gross, 'company':company, 'runtime': runtime, 'primaryName':primaryName, 'category':cat, 'nconst':ncon, 'knownForTitles':known}\n",
    "        movies[t]=movie\n",
    "    \n",
    "    # Construct dataframe \n",
    "    d=pd.DataFrame(movies)\n",
    "    df2=d.transpose()\n",
    "\n",
    "    df_movies = df2.copy()\n",
    "    # Finding one value for budget for each title_year\n",
    "    df_movies['budget'] = df_movies['budget'].apply(lambda x: x if len(x) == 1 else [np.nanmean(x)])\n",
    "\n",
    "    # Unpack array\n",
    "    col_unpack = ['title', 'rating', 'region', 'genre', 'released', 'year', 'month',\n",
    "        'day', 'score', 'country', 'budget', 'gross', 'director', 'writer', 'star',\n",
    "        'company', 'runtime']\n",
    "\n",
    "    for col in col_unpack:\n",
    "        df_movies[col] = [i[0] for i in df_movies[col]]\n",
    "\n",
    "    #############################################################################\n",
    "    ## Data cleaning\n",
    "\n",
    "    # Drop missing values in budget\n",
    "    df_movies = df_movies.dropna(subset=['budget'])\n",
    "    # Dealing with missing values in rating\n",
    "    df_movies['rating'].fillna(\"Not Rated\", inplace = True) \n",
    "    df_movies['rating'] = df_movies['rating'].replace(['Unrated'],'Not Rated')\n",
    "    df_movies.fillna({'country':df_movies.country.mode().astype(str)[0],\n",
    "    'company':df_movies.company.mode().astype(str)[0],'runtime':df_movies.runtime.median()},inplace=True)\n",
    "\n",
    "    df_movies = df_movies.dropna(subset=['month'])\n",
    "\n",
    "    df_movies['released'] = pd.to_datetime(df_movies['released'],format='%Y-%m-%d')\n",
    "    df_movies = df_movies.sort_values(by= ['released'])\n",
    "\n",
    "    # Chagne type of month\n",
    "    months = ['January', 'February', 'March', 'April', 'May', 'June', 'July', 'August', 'September', 'October', 'November', 'December']\n",
    "    df_movies['month'] = pd.Categorical(df_movies['month'], categories=months, ordered=True)\n",
    "\n",
    "    # Convert the gross and budget from $ to Million $ \n",
    "    df_movies['gross'] = df_movies['gross']/1000000\n",
    "    df_movies['budget'] = df_movies['budget']/1000000\n",
    "\n",
    "    df_movies = df_movies.reset_index().rename(columns = {'index':'title_year'})\n",
    "\n",
    "    ####################################################################################\n",
    "    ## add new features to df_movies\n",
    "\n",
    "    df_movies['Profit'] = df_movies['gross'] - df_movies['budget']\n",
    "\n",
    "    ## we will create new column called released_2 that only consists of year and month information of movie release\n",
    "    df_movies['released_2'] = df_movies['year'].astype(str) + '_' + df_movies['month'].astype(str)\n",
    "\n",
    "    ## drop titleId as it is not a useful identifier for the movies \n",
    "    df_movies.drop(columns = 'titleId',inplace = True)\n",
    "\n",
    "    df_movies['country'] = df_movies['country'].replace(['West Germany'],'Germany')\n",
    "    df_movies['country'] = df_movies['country'].replace(['Yugoslavia'],'Serbia')\n",
    "    df_movies['country'] = df_movies['country'].replace(['Federal Republic of Yugoslavia'],'Serbia')\n",
    "\n",
    "    df_movies['continent'] = df_movies['country'].apply(country_to_continent)\n",
    "\n",
    "    # Create duration column\n",
    "    df_movies['duration'] = df_movies['runtime'].apply(duration)\n",
    "\n",
    "    return df,df_movies\n"
   ]
  },
  {
   "cell_type": "code",
   "execution_count": 3,
   "metadata": {},
   "outputs": [],
   "source": [
    "from collections import Counter\n",
    "\n",
    "# Define function for binarization of columns with the top N most commen ones\n",
    "def binary_features(features, N, train, test):\n",
    "    for feature in features:\n",
    "        # Extract information and convert to list \n",
    "        list_change = ['primaryName', 'actor', 'other_cat', 'director', 'writer']\n",
    "        if feature in list_change:\n",
    "            train[feature]= train[feature].apply(lambda x:[g for g in x])\n",
    "            train[feature]= train[feature].apply(lambda x:[g for g in x])\n",
    "        else:   \n",
    "            train[feature]= train[feature].apply(lambda x:[x or []])\n",
    "            test[feature]= test[feature].apply(lambda x:[x or []])\n",
    "\n",
    "        # Finding top 30 most commen\n",
    "        c = Counter(sum(train[feature], []))\n",
    "        N_new = len(c)\n",
    "        most_N = [x[0] for x in c.most_common(N)]\n",
    "\n",
    "        # Removing the ones that are not in the top 30\n",
    "        train['temp_N'] = train[feature].apply(lambda x: list(set(most_N) & set(x)))\n",
    "        test['temp_N'] = test[feature].apply(lambda x: list(set(most_N) & set(x)))\n",
    "\n",
    "        # Creat dummies\n",
    "        dummies = pd.get_dummies(train['temp_N'].apply(pd.Series).stack(), prefix = feature).groupby(level=0).sum()\n",
    "        dummies_test = pd.get_dummies(test['temp_N'].apply(pd.Series).stack(), prefix = feature).groupby(level=0).sum()\n",
    "\n",
    "        # Join back with the original dataframe\n",
    "        train = train.join(dummies)\n",
    "        train.iloc[:,-N_new:] = train.iloc[:,-N_new:].fillna(0)\n",
    "        test = test.join(dummies_test)\n",
    "        test.iloc[:,-N_new:] = test.iloc[:,-N_new:].fillna(0)\n",
    "\n",
    "        # Test if there is missing columns in test and adding it as a column of 0\n",
    "        missing = list(set(train.columns) - set(test.columns))\n",
    "        for mis in missing:\n",
    "            test[mis] =  float(0)\n",
    "\n",
    "        # Drop the temperary colum\n",
    "        train.drop(columns=['temp_N'], inplace=True)\n",
    "        train.drop(columns=[feature], inplace=True)\n",
    "        test.drop(columns=['temp_N'], inplace=True)\n",
    "        test.drop(columns=[feature], inplace=True)\n",
    "\n",
    "    return train, test"
   ]
  },
  {
   "cell_type": "code",
   "execution_count": 4,
   "metadata": {},
   "outputs": [],
   "source": [
    "from collections import Counter\n",
    "\n",
    "# Define function for binarization of columns with the top N most commen ones\n",
    "def binary_features_val(features, N, train, test, val):\n",
    "    for feature in features:\n",
    "        # Extract information and convert to list \n",
    "        list_chagne = ['primaryName', 'actor', 'other_cat', 'director', 'writer']\n",
    "        if feature in list_chagne:\n",
    "            train[feature]= train[feature].apply(lambda x:[g for g in x])\n",
    "            train[feature]= train[feature].apply(lambda x:[g for g in x])\n",
    "            val[feature]= val[feature].apply(lambda x:[g for g in x])\n",
    "        else:   \n",
    "            train[feature]= train[feature].apply(lambda x:[x or []])\n",
    "            test[feature]= test[feature].apply(lambda x:[x or []])\n",
    "            val[feature]= val[feature].apply(lambda x:[x or []])\n",
    "\n",
    "        # Finding top 30 most commen\n",
    "        c = Counter(sum(train[feature], []))\n",
    "        N_new = len(c)\n",
    "        most_N = [x[0] for x in c.most_common(N)]\n",
    "\n",
    "        # Removing the ones that are not in the top 30\n",
    "        train['temp_N'] = train[feature].apply(lambda x: list(set(most_N) & set(x)))\n",
    "        test['temp_N'] = test[feature].apply(lambda x: list(set(most_N) & set(x)))\n",
    "        val['temp_N'] = val[feature].apply(lambda x: list(set(most_N) & set(x)))\n",
    "\n",
    "        # Creat dummies\n",
    "        dummies = pd.get_dummies(train['temp_N'].apply(pd.Series).stack(), prefix = feature).groupby(level=0).sum()\n",
    "        dummies_test = pd.get_dummies(test['temp_N'].apply(pd.Series).stack(), prefix = feature).groupby(level=0).sum()\n",
    "        dummies_val = pd.get_dummies(val['temp_N'].apply(pd.Series).stack(), prefix = feature).groupby(level=0).sum()\n",
    "\n",
    "        # Join back with the original dataframe\n",
    "        train = train.join(dummies)\n",
    "        train.iloc[:,-N_new:] = train.iloc[:,-N_new:].fillna(0)\n",
    "        test = test.join(dummies_test)\n",
    "        test.iloc[:,-N_new:] = test.iloc[:,-N_new:].fillna(0)\n",
    "        val = val.join(dummies_val)\n",
    "        val.iloc[:,-N_new:] = val.iloc[:,-N_new:].fillna(0)\n",
    "\n",
    "        # Test if there is missing columns in test and adding it as a column of 0\n",
    "        missing = list(set(train.columns) - set(test.columns))\n",
    "        for mis in missing:\n",
    "            test[mis] =  float(0)\n",
    "        missing_val = list(set(train.columns) - set(val.columns))\n",
    "        for mis in missing_val:\n",
    "            val[mis] =  float(0)\n",
    "\n",
    "        # Drop the temperary colum\n",
    "        train.drop(columns=['temp_N'], inplace=True)\n",
    "        train.drop(columns=[feature], inplace=True)\n",
    "        test.drop(columns=['temp_N'], inplace=True)\n",
    "        test.drop(columns=[feature], inplace=True)\n",
    "        val.drop(columns=['temp_N'], inplace=True)\n",
    "        val.drop(columns=[feature], inplace=True)\n",
    "\n",
    "    return train, test,val"
   ]
  },
  {
   "cell_type": "markdown",
   "metadata": {},
   "source": [
    "## Helper functions"
   ]
  },
  {
   "cell_type": "code",
   "execution_count": 5,
   "metadata": {},
   "outputs": [],
   "source": [
    "import pycountry_convert as pc\n",
    "\n",
    "def country_to_continent(country_name):\n",
    "    country_alpha2 = pc.country_name_to_country_alpha2(country_name)\n",
    "    country_continent_code = pc.country_alpha2_to_continent_code(country_alpha2)\n",
    "    country_continent_name = pc.convert_continent_code_to_continent_name(country_continent_code)\n",
    "    return country_continent_name\n",
    "\n",
    "def duration(x):\n",
    "    if x <= 120:\n",
    "        return 'Short'\n",
    "    else:\n",
    "        return 'Long'\n",
    "    "
   ]
  },
  {
   "cell_type": "markdown",
   "metadata": {},
   "source": [
    "## Q1 functions"
   ]
  },
  {
   "cell_type": "code",
   "execution_count": 6,
   "metadata": {},
   "outputs": [],
   "source": [
    "def productions(df_movies):\n",
    "    temp = df_movies.groupby(['year']).count().rename(columns = {'duration':'No.productions'}).reset_index()\n",
    "    fig, ax1 = plt.subplots(figsize=(25,10))\n",
    "    sns.lineplot(data = temp['No.productions'], marker='o', color = '#FF0000',sort = False, ax=ax1)\n",
    "    ax2 = ax1.twinx()\n",
    "    sns.barplot(data = temp, x='year', y='No.productions', alpha=0.8, color = '#4682B4', ax=ax2)\n",
    "    plt.show()\n",
    "    temp2 = df_movies.groupby(['year']).sum().reset_index()\n",
    "    budget_production_ratio = temp2.budget/temp.runtime\n",
    "    d = {'year': temp.year, 'No.productions': temp.title,'Budget':temp2.budget, 'Budget_per_production': budget_production_ratio}\n",
    "    df_new = pd.DataFrame(d)\n",
    "    plt.subplots(figsize=(25,10))\n",
    "    plt.plot(df_new['year'], df_new['No.productions'], label = \"No.productions\")\n",
    "    plt.plot(df_new['year'], df_new['Budget_per_production'], label = \"Budget per production\")\n",
    "    plt.xlabel('Year')\n",
    "    plt.ylabel('')\n",
    "    plt.title('Relationship between No. productions and Budget per production')\n",
    "    plt.legend()\n",
    "    plt.show()"
   ]
  },
  {
   "cell_type": "code",
   "execution_count": 7,
   "metadata": {},
   "outputs": [],
   "source": [
    "def success_visualise(df_movies,inflation,cpi):\n",
    "\n",
    "    profit = df_movies.loc[:,['year','Profit']].rename(columns = {'Profit':'value'}).groupby(['year']).sum().reset_index().join(pd.DataFrame({'$':['Profit']*41}))\n",
    "    gross = df_movies.loc[:,['year','gross']].rename(columns = {'gross':'value'}).groupby(['year']).sum().reset_index().join(pd.DataFrame({'$':['Gross']*41}))\n",
    "    budget = df_movies.loc[:,['year','budget']].rename(columns = {'budget':'value'}).groupby(['year']).sum().reset_index().join(pd.DataFrame({'$':['Budget']*41}))\n",
    "    temp2 = pd.concat([gross,profit,budget]).reset_index()\n",
    "\n",
    "    ## get inflation rate from Comsumer Product Index data for US\n",
    "    df_cpi = pd.read_csv(inflation,skiprows=3)\n",
    "    inflation_rate = df_cpi[df_cpi['Country Name'] == 'United States'].T.iloc[24:,].reset_index().rename(columns = {251:'Inflation','index':'year'})\n",
    "    df_cpi_2= pd.read_csv(cpi,skiprows=3)\n",
    "    ## cpi base year 2010\n",
    "    cpi = df_cpi_2[df_cpi_2['Country Name'] == 'United States'].T.iloc[24:,].reset_index().rename(columns = {251:'CPI','index':'year'})\n",
    "    inf_cpi = inflation_rate.merge(cpi,on='year')\n",
    "\n",
    "    profit2 = profit.groupby(['year']).sum().reset_index()\n",
    "    profit2['percentage_change'] = profit2.value.pct_change()\n",
    "    ## adjust profit for inflation rate using 2010 as base year \n",
    "    profit2['profit_adjusted'] = (profit2.value/inf_cpi.CPI.iloc[:-1,])*100\n",
    "    ## caculate returns in profits / earnings \n",
    "    profit2['Returns_on_profit'] = (1+profit2['percentage_change'].iloc[1:,])/(1+inflation_rate.iloc[1:-1,].Inflation)\n",
    "\n",
    "    ## adjust gross values for inflation rate using 2010 as base year\n",
    "    gross2 = gross.groupby(['year']).sum().reset_index()\n",
    "    gross2['gross_adjusted'] = (gross2.value/inf_cpi.CPI.iloc[:-1,])*100\n",
    "\n",
    "    ## Adjust for budget values for inflation rate using 2010 as base year \n",
    "    budget2 = budget.groupby(['year']).sum().reset_index()\n",
    "    budget2['budget_adjusted'] = (budget2.value/inf_cpi.CPI.iloc[:-1,])*100\n",
    "\n",
    "    P = profit2.join(pd.DataFrame({'$':['Profit_adjusted']*len(profit2)})).rename(columns = {'profit_adjusted':'Amount($1mm)'})\n",
    "    G = gross2.join(pd.DataFrame({'$':['Gross_adjusted']*len(gross2)})).rename(columns = {'gross_adjusted':'Amount($1mm)'})\n",
    "    B = budget2.join(pd.DataFrame({'$':['Budget_adjusted']*len(budget2)})).rename(columns = {'budget_adjusted':'Amount($1mm)'})\n",
    "\n",
    "    temp3 = pd.concat([G,P,B]).reset_index()\n",
    "    temp3[['Amount($1mm)','Returns_in_profit']] = temp3[['Amount($1mm)','Returns_on_profit']].apply(pd.to_numeric, errors='coerce', axis=1)\n",
    "\n",
    "    temp2 = temp2.rename(columns={'value':'Amount($1mm)'})\n",
    "\n",
    "    fig, ax =plt.subplots(2,2,figsize=(25,10))\n",
    "\n",
    "    palette = sns.color_palette(\"hls\", 3)\n",
    "\n",
    "    ax[0,0].set(ylim=(0, 30000))\n",
    "    sns.lineplot(\n",
    "        data=temp2,\n",
    "        x=\"year\", y='Amount($1mm)', hue=\"$\", style = '$',\n",
    "        markers = True, palette=palette,ax=ax[0,0]\n",
    "    ).set_title('Buget, Profit, Gross per year (1980-2020)')\n",
    "    ax[0,1].set(ylim=(0, 30000))\n",
    "    sns.lineplot(\n",
    "        data=temp3,\n",
    "        x=\"year\", y='Amount($1mm)', hue=\"$\", style = '$',\n",
    "        markers = True, palette=palette,ax=ax[0,1]\n",
    "    ).set_title('Budget, Profit, Gross values adjusted for inflation rate per year (1980-2020)')\n",
    "\n",
    "\n",
    "    sns.lineplot(\n",
    "        data=profit2,\n",
    "        x=\"year\", y='percentage_change',\n",
    "        markers = True, palette=palette,ax = ax[1,0]\n",
    "    ).set_title('Percentage change in profit (%)')\n",
    "    ax[1,0].axhline(0, ls='--',color = 'red')\n",
    "\n",
    "    sns.lineplot(\n",
    "        data=profit2,\n",
    "        x=\"year\", y='Returns_on_profit',\n",
    "        markers = True, color = 'red',ax = ax[1,1]\n",
    "    ).set_title('Returns on profit (%)')\n",
    "\n",
    "    # profit = df_movies.loc[:,['year','Profit']].rename(columns = {'Profit':'value'}).join(pd.DataFrame({'type':['Profit']*len(df_movies)}))\n",
    "    # gross = df_movies.loc[:,['year','gross']].rename(columns = {'gross':'value'}).join(pd.DataFrame({'type':['Gross']*len(df_movies)}))\n",
    "    # budget = df_movies.loc[:,['year','budget']].rename(columns = {'budget':'value'}).join(pd.DataFrame({'type':['Budget']*len(df_movies)}))\n",
    "    # temp2 = pd.concat([gross,profit,budget]).reset_index()\n",
    "    # palette = sns.color_palette(\"hls\", 3)\n",
    "    # sns.lineplot(\n",
    "    #     data=temp2,\n",
    "    #     x=\"year\", y=\"value\", hue=\"type\", style = 'type',\n",
    "    #     markers = True, palette=palette\n",
    "    # )"
   ]
  },
  {
   "cell_type": "code",
   "execution_count": 8,
   "metadata": {},
   "outputs": [],
   "source": [
    "from IPython.display import display, HTML\n",
    "def profit_spike(df_movies):\n",
    "    movie_2007_2009 = df_movies[df_movies['year'].isin([2007,2008,2009])]\n",
    "    movie_2007_2009.loc[movie_2007_2009['year'] == 2007,'Percent_contribute_profit'] = (movie_2007_2009[movie_2007_2009['year'] == 2007].Profit/sum(movie_2007_2009[movie_2007_2009['year'] == 2007].Profit))*100\n",
    "    movie_2007_2009.loc[movie_2007_2009['year'] == 2008,'Percent_contribute_profit'] = (movie_2007_2009[movie_2007_2009['year'] == 2008].Profit/sum(movie_2007_2009[movie_2007_2009['year'] == 2008].Profit))*100\n",
    "    movie_2007_2009.loc[movie_2007_2009['year'] == 2009,'Percent_contribute_profit'] = (movie_2007_2009[movie_2007_2009['year'] == 2009].Profit/sum(movie_2007_2009[movie_2007_2009['year'] == 2009].Profit))*100\n",
    "    display(HTML(movie_2007_2009[['title_year','Profit','genre','Percent_contribute_profit']].sort_values(by = 'Profit', ascending  = False).head(10).rename(columns = {\n",
    "        'Profit':'profit','Percent_contribute_profit':'contribution to profit of the year (%)'\n",
    "    }).to_html()))\n",
    "\n",
    "    df31 = movie_2007_2009[['title', 'Profit','genre']]\n",
    "    df41 = movie_2007_2009.groupby(['genre']).mean()\n",
    "    df41.sort_values('Profit', ascending=False, inplace = True )\n",
    "    df41[['Profit']].plot.barh(stacked=True, title = 'Profit by genres during 2007-2009 (US$ million)', figsize=(8, 8))\n",
    "    plt.show()"
   ]
  },
  {
   "cell_type": "markdown",
   "metadata": {},
   "source": [
    "## Prediction (Score) code"
   ]
  },
  {
   "cell_type": "code",
   "execution_count": 9,
   "metadata": {},
   "outputs": [],
   "source": [
    "from sklearn.model_selection import train_test_split, KFold, cross_val_score\n",
    "def split_stand(features, target):\n",
    "    ## Splitting the data\n",
    "    x_train, x_test, y_train, y_test= train_test_split(features, target, test_size=0.25,random_state=11)\n",
    "\n",
    "    ## Standarization \n",
    "    x_mean = x_train.iloc[:,0:4].mean()\n",
    "    x_std = x_train.iloc[:,0:4].std()\n",
    "\n",
    "    x_train.iloc[:,0:4] = (x_train.iloc[:,0:4] - x_mean) / x_std\n",
    "    x_test.iloc[:,0:4] = (x_test.iloc[:,0:4] - x_mean) / x_std\n",
    "\n",
    "    return x_train, x_test, y_train, y_test"
   ]
  },
  {
   "cell_type": "code",
   "execution_count": 10,
   "metadata": {},
   "outputs": [],
   "source": [
    "def test_optimal(model1, f1_1, model2, f1_2):\n",
    "    if f1_1 < f1_2:\n",
    "        return f1_2, model2\n",
    "    else: \n",
    "        return f1_1, model1"
   ]
  },
  {
   "cell_type": "code",
   "execution_count": 11,
   "metadata": {},
   "outputs": [],
   "source": [
    "from sklearn.linear_model import LogisticRegression\n",
    "from sklearn.tree import DecisionTreeClassifier\n",
    "from sklearn.ensemble import RandomForestClassifier\n",
    "from sklearn.neighbors import KNeighborsClassifier\n",
    "from sklearn.naive_bayes import GaussianNB\n",
    "from sklearn.svm import SVC\n",
    "from sklearn.linear_model import Perceptron\n",
    "from sklearn.metrics import confusion_matrix, f1_score, accuracy_score\n",
    "\n",
    "def optimal_model(x_train, y_train, x_test, y_test):\n",
    "    # Support Vector Machines\n",
    "    svc = SVC()\n",
    "    svc.fit(x_train, y_train)\n",
    "    ypred_svc = svc.predict(x_test)\n",
    "    svc_f1 = f1_score(y_test, ypred_svc, average='weighted')\n",
    "    #print(confusion_matrix(y_test, ypred_svc))\n",
    "    model = svc\n",
    "\n",
    "    # Perceptron\n",
    "    perceptron = Perceptron()\n",
    "    perceptron.fit(x_train, y_train)\n",
    "    ypred_per = perceptron.predict(x_test)\n",
    "    per_f1 = f1_score(y_test, ypred_per, average='weighted')\n",
    "    #print(confusion_matrix(y_test, ypred_per))\n",
    "    f1, model = test_optimal(svc, svc_f1, perceptron, per_f1)\n",
    "\n",
    "    # Random Forest\n",
    "    random_forest = RandomForestClassifier()\n",
    "    random_forest.fit(x_train, y_train)\n",
    "    ypred_rf = random_forest.predict(x_test)\n",
    "    rf_f1 = f1_score(y_test, ypred_rf, average='weighted')\n",
    "    #print(confusion_matrix(y_test, ypred_rf))\n",
    "    f1, model = test_optimal(model, f1, random_forest, rf_f1)\n",
    "\n",
    "    # Decision Tree\n",
    "    DT=DecisionTreeClassifier()\n",
    "    DT.fit(x_train, y_train)\n",
    "    ypred_DT = DT.predict(x_test)\n",
    "    DT_f1 = f1_score(y_test, ypred_DT, average='weighted')\n",
    "    #print(confusion_matrix(y_test, ypred_DT))\n",
    "    f1, model = test_optimal(model, f1, DT, DT_f1)\n",
    "\n",
    "    # K Nearest Neighbor\n",
    "    knearest = KNeighborsClassifier(n_neighbors=2)\n",
    "    knearest.fit(x_train, y_train)\n",
    "    ypred_KNN = knearest.predict(x_test)\n",
    "    KNN_f1 = f1_score(y_test, ypred_KNN, average='weighted')\n",
    "    #print(confusion_matrix(y_test, ypred_KNN))\n",
    "    f1, model = test_optimal(model, f1, knearest, KNN_f1)\n",
    "\n",
    "    # Gaussian Naive Bayes\n",
    "    gaussian = GaussianNB()\n",
    "    gaussian.fit(x_train, y_train)\n",
    "    ypred_g = gaussian.predict(x_test)\n",
    "    g_f1 = f1_score(y_test, ypred_g, average='weighted')\n",
    "    #print(confusion_matrix(y_test, ypred_g))\n",
    "    f1, model = test_optimal(model, f1, gaussian, g_f1)\n",
    "\n",
    "    # Logistic Regression\n",
    "    LogReg = LogisticRegression(solver='liblinear')\n",
    "    LogReg.fit(x_train, y_train)\n",
    "    ypred_LogReg = LogReg.predict(x_test)\n",
    "    LogReg_f1 = f1_score(y_test, ypred_LogReg, average='weighted')\n",
    "    #print(confusion_matrix(y_test, ypred_LogReg))\n",
    "    f1, model = test_optimal(model, f1, LogReg, LogReg_f1)\n",
    "    \n",
    "    # Reflection on the models' f1-score\n",
    "    models = pd.DataFrame({\n",
    "        'Model': ['Support Vector Machines', 'KNN', 'Logistic Regression', \n",
    "                'Random Forest', 'Naive Bayes', 'Perceptron', 'Decision Tree'],\n",
    "        'f1_score': [svc_f1, KNN_f1, LogReg_f1, \n",
    "                rf_f1, g_f1, per_f1, DT_f1]})\n",
    "    models = models.sort_values(by='f1_score', ascending=False).T\n",
    "    return models, model\n"
   ]
  },
  {
   "cell_type": "code",
   "execution_count": 12,
   "metadata": {},
   "outputs": [],
   "source": [
    "# Model reflection\n",
    "from sklearn.metrics import classification_report\n",
    "from sklearn.metrics import precision_recall_fscore_support as score\n",
    "import statistics\n",
    "\n",
    "def model_reflection(model, x_test, y_test, X, target):\n",
    "    y_pred = model.predict(x_test)\n",
    "    #print('Classification accuracy: %.2f'% accuracy_score(y_test, y_pred))\n",
    "    #print('F1 score: %.2f' % f1_score(y_test, y_pred, average='weighted'))\n",
    "    print(f'Confusion matrix:\\n{confusion_matrix(y_test,y_pred)}')\n",
    "    #ncm = confusion_matrix(y_test, y_pred, normalize='true',  labels=[1,0])\n",
    "    #print('Normalized Confusion matrix (Decision Tree Classifier): \\n', ncm)\n",
    "    #print(f'The sensitivity is {round(ncm[0][0],3)} and specificity is {round(ncm[1][1],3)} for our classifier.')\n",
    "    print(classification_report(y_test, y_pred, target_names=['low','medium','high']))\n",
    "\n",
    "    # run for 100 turns to find the average sensitivity and specificity\n",
    "    #import statistics\n",
    "    #sens = []\n",
    "    #speci = []\n",
    "    f1_list = []\n",
    "    n = 100\n",
    "    for i in range(n):\n",
    "        x_train, x_test, y_train, y_test = split_stand(X, target)\n",
    "\n",
    "        ## PCA \n",
    "        sklearn_pca = sklearnPCA(n_components=17)\n",
    "        x_train_trans = sklearn_pca.fit_transform(x_train)\n",
    "        x_test_trans = sklearn_pca.fit_transform(x_test)\n",
    "        model.fit(x_train_trans, y_train)\n",
    "        \n",
    "        ypred = model.predict(x_test_trans)\n",
    "        precision,recall,fscore,support=score(y_test,ypred,average='weighted')\n",
    "        f1_list.append(fscore)\n",
    "    print(f\"The average f1-score is {round(statistics.mean(f1_list),3)} for {n} runs.\")"
   ]
  },
  {
   "cell_type": "markdown",
   "metadata": {},
   "source": [
    "## Extending the dataset"
   ]
  },
  {
   "cell_type": "code",
   "execution_count": 13,
   "metadata": {},
   "outputs": [],
   "source": [
    "## extracting the net worth for stars \n",
    "import re\n",
    "def extend_networth(df_movies):\n",
    "    # The url for extracting the net worth \n",
    "    base = 'https://www.celebritynetworth.com/richest-celebrities/actors/'\n",
    "    pattern = r'(?<=net worth of \\$).*?(?= million)'\n",
    "\n",
    "    ## Initailize dictionary to save the data\n",
    "    net_worth = {}\n",
    "\n",
    "    for name in set(df_movies['star']):\n",
    "        title = name.replace(\" \", \"-\") + '-net-worth/'\n",
    "        URL = base + title\n",
    "\n",
    "        page = requests.get(URL)\n",
    "        soup = BeautifulSoup(page.content, \"html.parser\")\n",
    "        worth = re.search(pattern, str(soup.p))\n",
    "        if worth:\n",
    "            if len(worth.group()) < 10:\n",
    "                net_worth[name] = worth.group()\n",
    "            else:\n",
    "                net_worth[name] = None\n",
    "        else:\n",
    "            net_worth[name] = None\n",
    "    print(f\"There are in total {len(net_worth.keys())} unique star and {sum(x is None for x in list(net_worth.values()))} does not have a net worth.\")\n",
    "    \n",
    "    ## Finding the average score for stars \n",
    "    dict_avg_score = df_movies.groupby('star').mean()['score'].to_dict()\n",
    "    dict_avg_profit = df_movies.groupby('star').mean()['Profit'].to_dict()\n",
    "\n",
    "    # Adding the values to the dataframe \n",
    "    df_movies['star_net_worth'] = df_movies['star'].apply(lambda x: net_worth.get(x))\n",
    "    df_movies['star_avg_score'] = df_movies['star'].apply(lambda x: dict_avg_score.get(x))\n",
    "    df_movies['star_avg_profit'] = df_movies['star'].apply(lambda x: dict_avg_profit.get(x))\n",
    "\n",
    "    ## Saving the dataframe to a csv\n",
    "    df_movies.to_csv(\"df_movies_with_networth.csv\", index=False)\n",
    "\n",
    "    return df_movies"
   ]
  },
  {
   "cell_type": "markdown",
   "metadata": {},
   "source": [
    "## Network \n"
   ]
  },
  {
   "cell_type": "code",
   "execution_count": 14,
   "metadata": {},
   "outputs": [],
   "source": [
    "import networkx as nx\n",
    "\n",
    "def create_network(df_movies_nw):\n",
    "    ## Initialization \n",
    "    star_graph = nx.Graph()\n",
    "    all_star = set(df_movies_nw['star'])\n",
    "\n",
    "    for _, row  in df_movies_nw.iterrows():\n",
    "        star = row['star']\n",
    "        avg_score = row['star_avg_score']\n",
    "        net_wroth = row['star_net_worth'] \n",
    "        avg_profit = row['star_avg_profit']\n",
    "\n",
    "        # Convert the primaryName to a list only if it is loaded from a csv\n",
    "\n",
    "        ## Only if we load from csv\n",
    "        pN = row['primaryName'].replace('\\n', '').replace('\"', '').replace(\"[\",\"\").replace(\"]\",\"\")\n",
    "        pN = pN.split(\"' \")\n",
    "        primaryName = list(map(lambda item: item.replace(\"'\",\"\"), pN))\n",
    "        #primaryName = row['primaryName']\n",
    "\n",
    "        ## Add the star and the attribute \n",
    "        star_graph.add_node(star, avg_score = avg_score, avg_profit = avg_profit, net_worth = net_wroth)\n",
    "\n",
    "        ## Add edges to the graph connecting to the star\n",
    "        for name in primaryName:\n",
    "            if (name in all_star) & (name != star):\n",
    "                star_graph.add_edge(star, name)\n",
    "\n",
    "    ## Creating the Giant Connected Components\n",
    "    CCs_list = sorted(nx.connected_components(star_graph), key=len, reverse=True)\n",
    "\n",
    "    # Extract the largest connected graph and convert it to undirected\n",
    "    star_graph_GCC = star_graph.subgraph(CCs_list[0]).copy()\n",
    "    return star_graph, star_graph_GCC\n",
    " "
   ]
  },
  {
   "cell_type": "code",
   "execution_count": 15,
   "metadata": {},
   "outputs": [],
   "source": [
    "import community\n",
    "from importlib import reload \n",
    "reload(community)\n",
    "def define_community(graph):\n",
    "    partition = community.best_partition(graph)\n",
    "    print(f\"The Louvain algorithm found {len(set(partition.values()))} communities for the star network.\\\n",
    "    The modularity is {community.modularity(partition, graph):.2f}\")\n",
    "\n",
    "    plt.figure(figsize = [12, 12])\n",
    "    freq = plt.hist(partition.values(), bins = len(set(partition.values())))\n",
    "    community_size = pd.DataFrame(freq[0])\n",
    "    plt.xticks(range(len(set(partition.values()))))\n",
    "    plt.title('Histogram of community size distribution')\n",
    "    plt.xlabel('Community')\n",
    "    plt.ylabel('Count')\n",
    "    plt.show()\n",
    "\n",
    "    community_size.rename(columns = {0:'Community Size'}, inplace = True) #renaming column\n",
    "    community_size.sort_values(by='Community Size', ascending = False)[0:5]\n",
    "    com_5_largest = community_size.sort_values(by='Community Size', ascending = False)[0:5]\n",
    "    print(com_5_largest)\n",
    "\n",
    "    return partition\n"
   ]
  },
  {
   "cell_type": "code",
   "execution_count": 16,
   "metadata": {},
   "outputs": [],
   "source": [
    "from fa2 import ForceAtlas2\n",
    "import random\n",
    "# Infomap \n",
    "from infomap import Infomap\n",
    "im = Infomap(silent=True)\n",
    "\n",
    "def display_graph(star_graph_GCC, partition):\n",
    "    from matplotlib import colors\n",
    "    # Visulization based on gender and role \n",
    "    forceatlas2 = ForceAtlas2(\n",
    "                            # Behavior alternatives\n",
    "                            outboundAttractionDistribution=False,  # Dissuade hubs\n",
    "                            edgeWeightInfluence=1.0,\n",
    "\n",
    "                            # Performance\n",
    "                            jitterTolerance=1.0,  # Tolerance\n",
    "                            barnesHutOptimize=True,\n",
    "                            barnesHutTheta=1.2,\n",
    "\n",
    "                            # Tuning\n",
    "                            scalingRatio=10.0,\n",
    "                            strongGravityMode=False,\n",
    "                            gravity=0.5,\n",
    "\n",
    "                            # Log\n",
    "                            verbose=True)\n",
    "\n",
    "\n",
    "    dict_communities = {}\n",
    "\n",
    "    for community_nr in range(0, max(partition.values()) + 1):\n",
    "        dict_communities[community_nr] = [name for name, comm in partition.items() if comm == community_nr]\n",
    "\n",
    "    all_colors_dict = dict(colors.CSS4_COLORS)\n",
    "    character_color_dict = {}\n",
    "    community_color_list = []\n",
    "\n",
    "    for community_nr, character_name_list in dict_communities.items():\n",
    "        \n",
    "        # Choose a random color entry\n",
    "        color_k = random.randint(0, len(all_colors_dict) - 1)\n",
    "        \n",
    "        # Retrieve the color HEX for that random color\n",
    "        color = all_colors_dict[list(all_colors_dict)[color_k]]\n",
    "        \n",
    "        # Remove the color already chosen by one community, so that we don't end up with duplicate colors by accident\n",
    "        all_colors_dict.pop(list(all_colors_dict)[color_k])\n",
    "        \n",
    "        # For every node in this community, we assign them the previously-computed random color\n",
    "        for character_name in character_name_list:\n",
    "            character_color_dict[character_name] = color\n",
    "        \n",
    "        # Preserve the HEX color of the community, for future plotting\n",
    "        community_color_list.append(color)\n",
    "\n",
    "    # Setting node size based on degree\n",
    "    node_size = [val*2 for (_, val) in star_graph_GCC.degree()]\n",
    "    colors = [character_color_dict[node] for node in star_graph_GCC]\n",
    "\n",
    "    plt.figure(figsize = [18, 18])\n",
    "    #fig, ax = plt.subplots()\n",
    "    positions = forceatlas2.forceatlas2_networkx_layout(star_graph, pos=None, iterations=1000)\n",
    "    nx.draw_networkx_nodes(star_graph_GCC, positions, node_size=node_size, node_color=colors, alpha=1)\n",
    "    nx.draw_networkx_edges(star_graph_GCC, positions, alpha=0.05, arrows=False)\n",
    "    #fig.set_facecolor('white')\n",
    "    plt.axis('off')\n",
    "\n",
    "    y = 0.90 # This is the starting Y, for the figure text\n",
    "    # Indicating community colors\n",
    "    for i in range(0, len(dict_communities)):\n",
    "        plt.figtext(1, y, str('Community ' + str(i + 1)), size = 17, color = community_color_list[i])\n",
    "        y = y - 0.03\n",
    "\n",
    "    plt.title(\"Louvain community partitioning of the star network of characters, using Force-Atlas node coordinates and degree as size\", fontsize=20)\n",
    "\n",
    "    plt.show()\n",
    "    \n"
   ]
  },
  {
   "cell_type": "code",
   "execution_count": 17,
   "metadata": {},
   "outputs": [],
   "source": [
    "from fa2 import ForceAtlas2\n",
    "import random\n",
    "from bokeh.io import output_notebook, show, save, output_file\n",
    "from bokeh.models import Range1d, Circle, ColumnDataSource, MultiLine, EdgesAndLinkedNodes, NodesAndLinkedEdges\n",
    "from bokeh.plotting import figure\n",
    "from bokeh.models.graphs import from_networkx\n",
    "from bokeh.palettes import Blues8, Reds8, Purples8, Oranges8, Viridis8, Spectral8\n",
    "from bokeh.transform import linear_cmap\n",
    "\n",
    "def inter_graph(star_graph_GCC):\n",
    "    from matplotlib import colors\n",
    "    # Infomap \n",
    "    from infomap import Infomap\n",
    "    im = Infomap(silent=True)\n",
    "    \n",
    "    ## adding degree as an attribute\n",
    "    degrees = dict(nx.degree(star_graph_GCC))\n",
    "    nx.set_node_attributes(star_graph_GCC, name='degree', values=degrees)\n",
    "\n",
    "    ## Adjusting the node size to be based on the degree \n",
    "    number_to_adjust_by = 3\n",
    "    adjusted_node_size = dict([(node, degree*0.3 + number_to_adjust_by) for node, degree in nx.degree(star_graph_GCC)])\n",
    "    nx.set_node_attributes(star_graph_GCC, name='adjusted_node_size', values=adjusted_node_size)\n",
    "\n",
    "    all_colors_dict = dict(colors.CSS4_COLORS)\n",
    "    community_class = {}\n",
    "    community_color = {}\n",
    "    dict_community = {}\n",
    "    ## Loop through each community in the network \n",
    "    for nr in range(0, max(partition.values()) + 1):\n",
    "        dict_community[nr] = [name for name, comm in partition.items() if comm == nr]\n",
    "\n",
    "    for nr, character_list in dict_community.items():\n",
    "\n",
    "        # Choose a random color entry\n",
    "        color_k = random.randint(0, len(all_colors_dict) - 1)\n",
    "        \n",
    "        # Retrieve the color HEX for that random color\n",
    "        color = all_colors_dict[list(all_colors_dict)[color_k]]\n",
    "        \n",
    "        # Remove the color already chosen by one community, so that we don't end up with duplicate colors by accident\n",
    "        all_colors_dict.pop(list(all_colors_dict)[color_k])\n",
    "\n",
    "        # Add the individuale community number and color for each node \n",
    "        for node in character_list:\n",
    "            community_class[node] = nr\n",
    "            community_color[node] = color\n",
    "\n",
    "    # Create empty dictionaries\n",
    "    modularity_class = {}\n",
    "    modularity_color = {}\n",
    "    #Loop through each community in the network\n",
    "    for community_number, community in enumerate(partition):\n",
    "        #For each member of the community, add their community number and a distinct color\n",
    "        for name in community: \n",
    "            modularity_class[name] = community_number\n",
    "            #modularity_color[name] = Spectral8[community_number]\n",
    "\n",
    "    ################################ TEST#########################3\n",
    "    nx.set_node_attributes(star_graph_GCC, name='community_class', values=community_class)\n",
    "    nx.set_node_attributes(star_graph_GCC, name='community_color', values=community_color)\n",
    "\n",
    "\n",
    "    #Choose colors for node and edge highlighting\n",
    "    node_highlight_color = 'white'\n",
    "    edge_highlight_color = 'black'\n",
    "\n",
    "    #Choose attributes from network to size and color by — setting manual size (e.g. 10) or color (e.g. 'skyblue') also allowed\n",
    "    size_by_this_attribute = 'adjusted_node_size'\n",
    "    color_by_this_attribute = 'community_color'\n",
    "\n",
    "    #Pick a color palette — Blues8, Reds8, Purples8, Oranges8, Viridis8\n",
    "    color_palette = Blues8\n",
    "\n",
    "    #Choose a title!\n",
    "    title = 'Star Network'\n",
    "\n",
    "    #Establish which categories will appear when hovering over each node\n",
    "    HOVER_TOOLTIPS = [\n",
    "        (\"Character\", \"@index\"),\n",
    "            (\"Degree\", \"@degree\"),\n",
    "            (\"Net worth\", \"@net_worth\"),\n",
    "            (\"Average score\", \"@avg_score\"),\n",
    "            (\"Average profit\", \"@avg_profit\"),\n",
    "            (\"Community\", \"@community_class\"),\n",
    "            (\"Community Color\", \"$color[swatch]:community_color\"),\n",
    "    ]\n",
    "\n",
    "    #Create a plot — set dimensions, toolbar, and title\n",
    "    plot = figure(tooltips = HOVER_TOOLTIPS,\n",
    "                tools=\"pan,wheel_zoom,save,reset\", active_scroll='wheel_zoom',\n",
    "                x_range=Range1d(-500.1, 500.1), y_range=Range1d(-500.1, 500.1), title=title)\n",
    "\n",
    "    forceatlas2 = ForceAtlas2(\n",
    "            # Behavior alternatives\n",
    "            outboundAttractionDistribution=False,  # Dissuade hubs\n",
    "            edgeWeightInfluence=1.0,\n",
    "\n",
    "            # Performance\n",
    "            jitterTolerance=1.0,  # Tolerance\n",
    "            barnesHutOptimize=True,\n",
    "            barnesHutTheta=1.2,\n",
    "\n",
    "            # Tuning\n",
    "            scalingRatio=1.0,\n",
    "            strongGravityMode=False,\n",
    "            gravity=0.5,\n",
    "\n",
    "            # Log\n",
    "            verbose=True)\n",
    "    positions = forceatlas2.forceatlas2_networkx_layout(star_graph, pos=None, iterations=1000)\n",
    "\n",
    "    #Create a network graph object\n",
    "    # https://networkx.github.io/documentation/networkx-1.9/reference/generated/networkx.drawing.layout.spring_layout.html\n",
    "    network_graph = from_networkx(star_graph_GCC, positions, scale=1, center=(0, 0))\n",
    "\n",
    "\n",
    "    #Set node sizes and colors according to node degree (color as category from attribute)\n",
    "    network_graph.node_renderer.glyph = Circle(size=size_by_this_attribute, fill_color=color_by_this_attribute)\n",
    "    #Set node highlight colors\n",
    "    network_graph.node_renderer.hover_glyph = Circle(size=size_by_this_attribute, fill_color=node_highlight_color, line_width=2)\n",
    "    network_graph.node_renderer.selection_glyph = Circle(size=size_by_this_attribute, fill_color=node_highlight_color, line_width=2)\n",
    "\n",
    "    #Set edge opacity and width\n",
    "    network_graph.edge_renderer.glyph = MultiLine(line_alpha=0.2, line_width=1)\n",
    "    #Set edge highlight colors\n",
    "    network_graph.edge_renderer.selection_glyph = MultiLine(line_color=edge_highlight_color, line_width=2)\n",
    "    network_graph.edge_renderer.hover_glyph = MultiLine(line_color=edge_highlight_color, line_width=2)\n",
    "\n",
    "        #Highlight nodes and edges\n",
    "    network_graph.selection_policy = NodesAndLinkedEdges()\n",
    "    network_graph.inspection_policy = NodesAndLinkedEdges()\n",
    "\n",
    "    plot.renderers.append(network_graph)\n",
    "\n",
    "    output_file(\"interactive_graphs.html\")\n",
    "    show(plot)\n"
   ]
  },
  {
   "cell_type": "code",
   "execution_count": null,
   "metadata": {},
   "outputs": [],
   "source": []
  },
  {
   "cell_type": "code",
   "execution_count": null,
   "metadata": {},
   "outputs": [],
   "source": []
  },
  {
   "cell_type": "code",
   "execution_count": null,
   "metadata": {},
   "outputs": [],
   "source": []
  }
 ],
 "metadata": {
  "interpreter": {
   "hash": "f1d60ef3148d6d6f99d64de6ef09e0267d4db5c62a0823eaf2b9aa582c08f8e5"
  },
  "kernelspec": {
   "display_name": "Python 3.7.6 64-bit ('base': conda)",
   "language": "python",
   "name": "python3"
  },
  "language_info": {
   "codemirror_mode": {
    "name": "ipython",
    "version": 3
   },
   "file_extension": ".py",
   "mimetype": "text/x-python",
   "name": "python",
   "nbconvert_exporter": "python",
   "pygments_lexer": "ipython3",
   "version": "3.7.6"
  },
  "orig_nbformat": 4
 },
 "nbformat": 4,
 "nbformat_minor": 2
}
