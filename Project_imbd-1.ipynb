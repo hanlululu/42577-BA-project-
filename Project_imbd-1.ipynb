{
 "cells": [
  {
   "cell_type": "markdown",
   "metadata": {},
   "source": [
    "## Project Challenge: Exploratory and predictive analytics upon the comprehensive IMDb data of movies released between 1980-2020\n",
    "\n",
    "### **_by Hanlu He (s183909), Mia Hang Knudsen (s183998), Jiafei Xia (s213084), Atefeh Hemmati Golsefidi (s216676)_**\n",
    "---\n",
    "## _Report_\n",
    "---\n",
    "## Table of Contents\n",
    "- [Part 1: <u>Introduction</u>](#intro)\n",
    "- [Part 2: <u>Data analysis and visualisation</u>](#datavis)\n",
    "    - [2.1: <u>Load and present basic information of the dataset</u>](#load)\n",
    "    - [2.2: <u>Dicussion of profiler output</u>](#profiler) \n",
    "- [Part 3: <u>Prediction challenge</u>](#prediction)\n",
    "    - [3.1: <u>The expected revenue (gross)</u>](#gross)\n",
    "    - [3.2: <u>IMDb score (score)</u>](#score) \n",
    "- [Part 4: <u>Exploratory component</u>](#explore)\n",
    "    - [4.1: <u>Q1</u>](#q1)\n",
    "    - [4.2: <u>Q2</u>](#q2)\n",
    "- [Part 5: <u>Conclusion</u>](#conc)"
   ]
  },
  {
   "cell_type": "code",
   "execution_count": 80,
   "metadata": {},
   "outputs": [],
   "source": [
    "#data analysis libraries \n",
    "import numpy as np\n",
    "import pandas as pd\n",
    "pd.options.mode.chained_assignment = None\n",
    "\n",
    "from pandas_profiling import ProfileReport\n",
    "\n",
    "#visualization libraries\n",
    "import matplotlib.pyplot as plt\n",
    "import seaborn as sns\n",
    "plt.rcParams['figure.figsize'] = (18, 8)\n",
    "sns.set_theme()\n",
    "from ipywidgets import interact\n",
    "\n",
    "from bs4 import BeautifulSoup\n",
    "from IPython.core.display import display, HTML\n",
    "import requests\n",
    "# Webscraping \n",
    "\n",
    "from sklearn.model_selection import train_test_split, KFold, cross_val_score\n",
    "from sklearn.linear_model import LinearRegression, Ridge, Lasso, LassoCV, Ridge, RidgeCV\n",
    "from sklearn.preprocessing import StandardScaler, PolynomialFeatures\n",
    "from sklearn.metrics import r2_score, mean_squared_error\n",
    "import scipy.stats as stats\n",
    "\n",
    "%matplotlib inline"
   ]
  },
  {
   "cell_type": "markdown",
   "metadata": {},
   "source": [
    "---\n",
    "<a id='intro'></a>\n",
    "## Part 1: _<u>Introduction</u>_"
   ]
  },
  {
   "cell_type": "markdown",
   "metadata": {},
   "source": [
    "We will be working with dataset obtained through kaggle called [Comprehensive IMDb Data](https://www.kaggle.com/austinwolff/comprehensive-imdb-data). The dataset contains movies released in the USA between 1980-2020 that has available box office data. The dataset was created with the intention of what features/variables contribute most to the movie's box office success. Below is the features list that are included in the dataset.\n",
    "\n",
    "**Features**\n",
    "\n",
    "* **titleId**: IMDb's relational database ID for \"title\".\n",
    "* **title**: Title of the movie.\n",
    "* **rating**: MPAA (Motion Picture Association of America film rating system ) rating. \n",
    "* **region**: Region. \n",
    "* **genre**: The movie genre.\n",
    "* **released**: Release date of the movie in theaters.\n",
    "* **year**: Year of movie release.\n",
    "* **month**: Month of movie release.\n",
    "* **day**: Day of movie release.\n",
    "* **score**: IMDb score.\n",
    "* **director**: Director of the movie.\n",
    "* **writer**: Writer of the movie.\n",
    "* **star**: Main actor and actress of the movie.\n",
    "* **country**: Main country of the movie.\n",
    "* **budget**: Budget of the movie.\n",
    "* **gross**: Gross revenue (box office) of the movie.\n",
    "* **company**: Production company of the movie.\n",
    "* **runtime**: Runtime of the movie in minutes. \n",
    "* **category**: Type of the credit this person (\"primaryName\") had for working on the movie. \n",
    "* **nconst**: IMDb's relational database ID for \"primaryName\".\n",
    "* **primaryName**: Name of person who worked on the movie.\n",
    "* **knownForTitles**: Top 4 titles an actor (indicated by \"primaryName\") is known for, by titleID. "
   ]
  },
  {
   "cell_type": "markdown",
   "metadata": {},
   "source": [
    "---\n",
    "<a id='datavis'></a>\n",
    "## Part 2: _<u>Data analysis and visualisation</u>_"
   ]
  },
  {
   "cell_type": "markdown",
   "metadata": {},
   "source": [
    "---\n",
    "<a id='prediction'></a>\n",
    "## Part 3: _<u>Prediction challenge</u>_"
   ]
  },
  {
   "cell_type": "markdown",
   "metadata": {},
   "source": [
    "<a id='gross'></a>\n",
    "### 3.1: _<u>The expected revenue (gross)</u>_"
   ]
  },
  {
   "cell_type": "markdown",
   "metadata": {},
   "source": [
    "<a id='score'></a>\n",
    "### 3.2: _<u>IMDb score (score)</u>_"
   ]
  },
  {
   "cell_type": "code",
   "execution_count": 59,
   "metadata": {},
   "outputs": [
    {
     "name": "stderr",
     "output_type": "stream",
     "text": [
      "C:\\Users\\hanlu\\anaconda3\\lib\\site-packages\\ipykernel_launcher.py:64: RuntimeWarning: Mean of empty slice\n"
     ]
    }
   ],
   "source": [
    "df, df_movies = preprocess('Comprehensive IMDb Data.csv')"
   ]
  },
  {
   "cell_type": "code",
   "execution_count": 60,
   "metadata": {},
   "outputs": [],
   "source": [
    "#df_movies.to_csv('df_movies.csv', index = False)"
   ]
  },
  {
   "cell_type": "code",
   "execution_count": 392,
   "metadata": {},
   "outputs": [],
   "source": [
    "train = pd.read_csv('df_movies.csv') #Pandas' deep copy does not work so the orgianl will still be changed\n",
    "low =np.percentile(train['score'], 25)\n",
    "high = np.percentile(train['score'], 75)\n",
    "train.loc[train['score'] <= low,'score'] = 1 \n",
    "train.loc[(train['score'] > low) & (train['score'] < high),'score']  = 2\n",
    "train.loc[train['score'] >= high, 'score']  = 3\n",
    "train['score'] = train['score'].astype(int)"
   ]
  },
  {
   "cell_type": "code",
   "execution_count": 393,
   "metadata": {},
   "outputs": [],
   "source": [
    "# Finding and binarize the features with the top 30 most commen \n",
    "train = binary_features(train, ['director','writer','star','country','company', 'duration', 'rating','genre','year'], 30)\n"
   ]
  },
  {
   "cell_type": "code",
   "execution_count": 394,
   "metadata": {},
   "outputs": [],
   "source": [
    "from sklearn.utils import shuffle\n",
    "\n",
    "X = shuffle(train) #,random_state=0\n"
   ]
  },
  {
   "cell_type": "code",
   "execution_count": 395,
   "metadata": {},
   "outputs": [],
   "source": [
    "## define features to use \n",
    "target = X['score']\n",
    "movie_title_temp = X['title_year']\n",
    "features = X[X.columns[~X.columns.isin(['title_year','titleId','title','primaryName','category','region',\n",
    "'released','released_2','day','score','nconst','knownForTitles','month','continent'])]]\n",
    "\n",
    "x_train, x_test, y_train, y_test, movie_title_train, movie_title_test = train_test_split(features, target, movie_title_temp, test_size=0.25)\n"
   ]
  },
  {
   "cell_type": "code",
   "execution_count": 396,
   "metadata": {},
   "outputs": [],
   "source": [
    "\n",
    "## some features have very different ranges e.g. absecences, age ect. \n",
    "## therefore it is important to standardize the feature set. \n",
    "\n",
    "\n",
    "x_mean = x_train.iloc[:,0:4].mean()\n",
    "x_std = x_train.iloc[:,0:4].std()\n",
    "\n",
    "x_train.iloc[:,0:4] = (x_train.iloc[:,0:4] - x_mean) / x_std\n",
    "x_test.iloc[:,0:4] = (x_test.iloc[:,0:4] - x_mean) / x_std"
   ]
  },
  {
   "cell_type": "markdown",
   "metadata": {},
   "source": [
    "#### Looking at different models"
   ]
  },
  {
   "cell_type": "code",
   "execution_count": 397,
   "metadata": {},
   "outputs": [
    {
     "name": "stdout",
     "output_type": "stream",
     "text": [
      "[[135 198  11]\n",
      " [ 81 474  74]\n",
      " [  5 190 158]]\n",
      "[[209 101  34]\n",
      " [240 239 150]\n",
      " [ 43 115 195]]\n",
      "[[163 164  17]\n",
      " [120 414  95]\n",
      " [ 14 148 191]]\n",
      "[[153 142  49]\n",
      " [178 317 134]\n",
      " [ 35 141 177]]\n",
      "[[214 119  11]\n",
      " [305 273  51]\n",
      " [104 168  81]]\n",
      "[[330   7   7]\n",
      " [553  49  27]\n",
      " [262  39  52]]\n",
      "[[146 181  17]\n",
      " [ 95 434 100]\n",
      " [ 12 162 179]]\n"
     ]
    },
    {
     "data": {
      "text/html": [
       "<div>\n",
       "<style scoped>\n",
       "    .dataframe tbody tr th:only-of-type {\n",
       "        vertical-align: middle;\n",
       "    }\n",
       "\n",
       "    .dataframe tbody tr th {\n",
       "        vertical-align: top;\n",
       "    }\n",
       "\n",
       "    .dataframe thead th {\n",
       "        text-align: right;\n",
       "    }\n",
       "</style>\n",
       "<table border=\"1\" class=\"dataframe\">\n",
       "  <thead>\n",
       "    <tr style=\"text-align: right;\">\n",
       "      <th></th>\n",
       "      <th>3</th>\n",
       "      <th>0</th>\n",
       "      <th>2</th>\n",
       "      <th>6</th>\n",
       "      <th>5</th>\n",
       "      <th>1</th>\n",
       "      <th>4</th>\n",
       "    </tr>\n",
       "  </thead>\n",
       "  <tbody>\n",
       "    <tr>\n",
       "      <th>Model</th>\n",
       "      <td>Random Forest</td>\n",
       "      <td>Support Vector Machines</td>\n",
       "      <td>Logistic Regression</td>\n",
       "      <td>Decision Tree</td>\n",
       "      <td>Perceptron</td>\n",
       "      <td>KNN</td>\n",
       "      <td>Naive Bayes</td>\n",
       "    </tr>\n",
       "    <tr>\n",
       "      <th>f1_score</th>\n",
       "      <td>0.576827</td>\n",
       "      <td>0.566726</td>\n",
       "      <td>0.566585</td>\n",
       "      <td>0.488689</td>\n",
       "      <td>0.480722</td>\n",
       "      <td>0.419603</td>\n",
       "      <td>0.242267</td>\n",
       "    </tr>\n",
       "  </tbody>\n",
       "</table>\n",
       "</div>"
      ],
      "text/plain": [
       "                      3                        0                    2  \\\n",
       "Model     Random Forest  Support Vector Machines  Logistic Regression   \n",
       "f1_score       0.576827                 0.566726             0.566585   \n",
       "\n",
       "                      6           5         1            4  \n",
       "Model     Decision Tree  Perceptron       KNN  Naive Bayes  \n",
       "f1_score       0.488689    0.480722  0.419603     0.242267  "
      ]
     },
     "execution_count": 397,
     "metadata": {},
     "output_type": "execute_result"
    }
   ],
   "source": [
    "from sklearn.linear_model import LogisticRegression\n",
    "from sklearn.tree import DecisionTreeClassifier\n",
    "from sklearn.ensemble import RandomForestClassifier\n",
    "from sklearn.neighbors import KNeighborsClassifier\n",
    "from sklearn.naive_bayes import GaussianNB\n",
    "from sklearn.svm import SVC\n",
    "from sklearn.linear_model import Perceptron\n",
    "from sklearn.metrics import confusion_matrix, f1_score, accuracy_score\n",
    "\n",
    "# Support Vector Machines\n",
    "svc = SVC()\n",
    "svc.fit(x_train, y_train)\n",
    "ypred_svc = svc.predict(x_test)\n",
    "svc_f1 = f1_score(y_test, ypred_svc, average='weighted')\n",
    "print(confusion_matrix(y_test, ypred_svc))\n",
    "\n",
    "# Perceptron\n",
    "perceptron = Perceptron()\n",
    "perceptron.fit(x_train, y_train)\n",
    "ypred_per = perceptron.predict(x_test)\n",
    "per_f1 = f1_score(y_test, ypred_per, average='weighted')\n",
    "print(confusion_matrix(y_test, ypred_per))\n",
    "\n",
    "# Random Forest\n",
    "random_forest = RandomForestClassifier()\n",
    "random_forest.fit(x_train, y_train)\n",
    "ypred_rf = random_forest.predict(x_test)\n",
    "rf_f1 = f1_score(y_test, ypred_rf, average='weighted')\n",
    "print(confusion_matrix(y_test, ypred_rf))\n",
    "\n",
    "# Decision Tree\n",
    "DT=DecisionTreeClassifier()\n",
    "DT.fit(x_train, y_train)\n",
    "ypred_DT = DT.predict(x_test)\n",
    "DT_f1 = f1_score(y_test, ypred_DT, average='weighted')\n",
    "print(confusion_matrix(y_test, ypred_DT))\n",
    "\n",
    "# K Nearest Neighbor\n",
    "knearest = KNeighborsClassifier(n_neighbors=2)\n",
    "knearest.fit(x_train, y_train)\n",
    "ypred_KNN = knearest.predict(x_test)\n",
    "KNN_f1 = f1_score(y_test, ypred_KNN, average='weighted')\n",
    "print(confusion_matrix(y_test, ypred_KNN))\n",
    "\n",
    "# Gaussian Naive Bayes\n",
    "gaussian = GaussianNB()\n",
    "gaussian.fit(x_train, y_train)\n",
    "ypred_g = gaussian.predict(x_test)\n",
    "g_f1 = f1_score(y_test, ypred_g, average='weighted')\n",
    "print(confusion_matrix(y_test, ypred_g))\n",
    "\n",
    "# Logistic Regression\n",
    "LogReg = LogisticRegression(solver='liblinear')\n",
    "LogReg.fit(x_train, y_train)\n",
    "ypred_LogReg = LogReg.predict(x_test)\n",
    "LogReg_f1 = f1_score(y_test, ypred_LogReg, average='weighted')\n",
    "print(confusion_matrix(y_test, ypred_LogReg))\n",
    "\n",
    "# Reflection on the models' f1-score\n",
    "models = pd.DataFrame({\n",
    "    'Model': ['Support Vector Machines', 'KNN', 'Logistic Regression', \n",
    "              'Random Forest', 'Naive Bayes', 'Perceptron', 'Decision Tree'],\n",
    "    'f1_score': [svc_f1, KNN_f1, LogReg_f1, \n",
    "              rf_f1, g_f1, per_f1, DT_f1]})\n",
    "models.sort_values(by='f1_score', ascending=False).T\n"
   ]
  },
  {
   "cell_type": "code",
   "execution_count": null,
   "metadata": {},
   "outputs": [],
   "source": [
    "# Model reflection\n",
    "print('Classification accuracy: %.2f'% accuracy_score(y_test, ypred_per))\n",
    "print('F1 score: %.2f' % f1_score(y_test, ypred_per))\n",
    "temp = np.array([['TP', 'FN'],['FP','TN']],dtype=str)\n",
    "print(f'Confusion matrix (Decision Tree Classifier):\\n{confusion_matrix(y_test,ypred_per, labels=[1,0])}\\n{temp}')\n",
    "ncm = confusion_matrix(y_test, ypred_per, normalize='true',  labels=[1,0])\n",
    "print('Normalized Confusion matrix (Decision Tree Classifier): \\n', ncm)\n",
    "print(f'The sensitivity is {round(ncm[0][0],3)} and specificity is {round(ncm[1][1],3)} for our classifier.')\n",
    "\n",
    "# run for 100 turns to find the average sensitivity and specificity\n",
    "import statistics\n",
    "sens = []\n",
    "speci = []\n",
    "n = 100\n",
    "for i in range(n):\n",
    "    x_train, x_test, y_train, y_test = train_test_split(predictors, target, test_size = 0.15)\n",
    "    scaler = StandardScaler()  \n",
    "    scaler.fit(x_train)  \n",
    "    x_train = scaler.transform(x_train) \n",
    "    x_test = scaler.transform(x_test)\n",
    "    perceptron.fit(x_train, y_train)\n",
    "    ypred = perceptron.predict(x_test)\n",
    "    sens.append(confusion_matrix(y_test, ypred, normalize='true',  labels=[1,0])[0][0])\n",
    "    speci.append(confusion_matrix(y_test, ypred, normalize='true',  labels=[1,0])[1][1])\n",
    "print(f\"The average sensitivity for is {round(statistics.mean(sens),3)} and average specificity is {round(statistics.mean(speci),3)} for {n} runs.\")"
   ]
  },
  {
   "cell_type": "markdown",
   "metadata": {},
   "source": [
    "#### Model 1"
   ]
  },
  {
   "cell_type": "code",
   "execution_count": 235,
   "metadata": {},
   "outputs": [],
   "source": [
    "from sklearn import linear_model as lm, metrics, tree, ensemble, model_selection as ms, feature_selection, svm\n",
    "from sklearn.preprocessing import StandardScaler\n",
    "from sklearn.model_selection import GridSearchCV\n",
    "from sklearn.metrics import r2_score"
   ]
  },
  {
   "cell_type": "code",
   "execution_count": 239,
   "metadata": {},
   "outputs": [],
   "source": [
    "#def evaluation(x_train, y_train, x_test, y_test, model):\n",
    "\n",
    "def my_plot(regr, x, y, xlab=\"x\", ylab=\"y\", size=0.1):\n",
    "\n",
    "    # The coefficients\n",
    "    #print('Coefficients: \\n', regr.coef_)\n",
    "    # The mean absolute error    \n",
    "    print(\"Mean Absolute error (MAE): %.2f\"% np.mean(abs(regr.predict(x) - y)))\n",
    "    # The mean squared error\n",
    "    print(\"Root Mean squared error: %.2f\"\n",
    "          % np.sqrt(np.mean((regr.predict(x) - y) ** 2)))\n",
    "    # Explained variance score: 1 is perfect prediction\n",
    "    print('Variance score: %.2f' % regr.score(x, y))\n",
    "\n",
    "    y_pred = regr.predict(x)\n",
    "\n",
    "            \n",
    "    # Plot outputs\n",
    "    plt.scatter(y_pred, y, alpha=.5)\n",
    "    plt.plot(np.linspace(0,10), np.linspace(0,10))\n",
    "    plt.title('Final Model Prediction vs. Target',fontdict = {'fontsize' : 20})\n",
    "    plt.xlabel('Predicted IMDb Rating',fontdict = {'fontsize' : 16})\n",
    "    plt.ylabel('Actual IMDb Rating',fontdict = {'fontsize' : 16})\n",
    "    plt.xticks(fontsize=15)\n",
    "    plt.yticks(fontsize=15)\n",
    "    plt.axis([1,10,1,10])\n",
    "    plt.show()\n",
    "\n",
    "    # R2 score\n",
    "    print('R^{2} score: %.2f' % r2_score(y, y_pred))\n",
    "\n",
    "    plt.hist(y_pred)\n",
    "    plt.show()\n",
    "    print(max(y_pred))\n",
    "\n",
    "    plt.show()"
   ]
  },
  {
   "cell_type": "code",
   "execution_count": 240,
   "metadata": {},
   "outputs": [
    {
     "name": "stdout",
     "output_type": "stream",
     "text": [
      "Mean Absolute error (MAE): 0.83\n",
      "Root Mean squared error: 1.10\n",
      "Variance score: -0.33\n"
     ]
    },
    {
     "data": {
      "image/png": "[encoded data removed]",
      "text/plain": [
       "<Figure size 432x288 with 1 Axes>"
      ]
     },
     "metadata": {
      "needs_background": "light"
     },
     "output_type": "display_data"
    },
    {
     "name": "stdout",
     "output_type": "stream",
     "text": [
      "R^{2} score: -0.33\n"
     ]
    },
    {
     "data": {
      "image/png": "[encoded data removed]",
      "text/plain": [
       "<Figure size 432x288 with 1 Axes>"
      ]
     },
     "metadata": {
      "needs_background": "light"
     },
     "output_type": "display_data"
    },
    {
     "name": "stdout",
     "output_type": "stream",
     "text": [
      "8.9\n"
     ]
    }
   ],
   "source": [
    "regr=tree.DecisionTreeRegressor()\n",
    "regr.fit(x_train, y_train)\n",
    "y_pred = regr.predict(x_test)\n",
    "my_plot(regr, x_test, y_test)"
   ]
  },
  {
   "cell_type": "code",
   "execution_count": 217,
   "metadata": {},
   "outputs": [],
   "source": [
    "X = shuffle(train) #,random_state=0\n",
    "x_train, x_test, y_train, y_test, movie_title_train, movie_title_test = train_test_split(features, target, movie_title_temp, test_size=0.25)\n",
    "\n",
    "## some features have very different ranges e.g. absecences, age ect. \n",
    "## therefore it is important to standardize the feature set. \n",
    "\n",
    "x_mean = x_train.iloc[:,0:4].mean()\n",
    "x_std = x_train.iloc[:,0:4].std()\n",
    "\n",
    "x_train.iloc[:,0:4] = (x_train.iloc[:,0:4] - x_mean) / x_std\n",
    "x_test.iloc[:,0:4] = (x_test.iloc[:,0:4] - x_mean) / x_std\n",
    "\n",
    "regr=lm.LinearRegression(fit_intercept=False)\n",
    "regr.fit(x_train, y_train)\n",
    "y_pred = regr.predict(x_test)"
   ]
  },
  {
   "cell_type": "code",
   "execution_count": 218,
   "metadata": {},
   "outputs": [
    {
     "data": {
      "text/plain": [
       "(1, [10.477949084312952])"
      ]
     },
     "execution_count": 218,
     "metadata": {},
     "output_type": "execute_result"
    }
   ],
   "source": [
    "out = [x for x in y_pred if x >10]\n",
    "len([x for x in y_pred if x >10]), out"
   ]
  },
  {
   "cell_type": "code",
   "execution_count": 219,
   "metadata": {},
   "outputs": [
    {
     "name": "stdout",
     "output_type": "stream",
     "text": [
      "Avatar_2009\n"
     ]
    }
   ],
   "source": [
    "movie_title_test.reset_index(drop=True, inplace=True)\n",
    "for i in out:\n",
    "    index_out = list(y_pred).index(i)\n",
    "    print(movie_title_test[index_out])"
   ]
  },
  {
   "cell_type": "code",
   "execution_count": 104,
   "metadata": {},
   "outputs": [],
   "source": [
    "# Function to return simple model metrics\n",
    "def get_model_metrics(X_train, y_train, X_test, y_test, model, parametric=True):\n",
    "    \"\"\"This function takes the train-test splits as arguments, as well as the algorithm \n",
    "    being used, and returns the training score, the test score (both RMSE), the \n",
    "    cross-validated scores and the mean cross-validated score. It also returns the appropriate \n",
    "    feature importances depending on whether the optional argument 'parametric' is equal to \n",
    "    True or False.\"\"\"\n",
    "    \n",
    "    model.fit(X_train, y_train)\n",
    "    train_pred = model.predict(X_train)\n",
    "    print(train_pred)\n",
    "    test_pred = model.predict(X_test)\n",
    "    print(test_pred)\n",
    "    \n",
    "    print('Training score', '{0:0.2f}'.format(np.sqrt(metrics.mean_squared_error(y_train, train_pred))))\n",
    "    print('Testing RMSE:', '{0:0.2f}'.format(np.sqrt(metrics.mean_squared_error(y_test, test_pred))))\n",
    "    cv_scores = -ms.cross_val_score(model, X_train, y_train, cv=5, scoring='neg_mean_squared_error')\n",
    "    print('Cross-validated RMSEs:', np.sqrt(cv_scores))\n",
    "    print('Mean cross-validated RMSE:', '{0:0.2f}'.format(np.sqrt(np.mean(cv_scores))))\n",
    "    \n",
    "    plt.scatter(test_pred, y_test, alpha=.5)\n",
    "    plt.plot(np.linspace(0,20), np.linspace(0,20))\n",
    "    plt.title('Final Model Prediction vs. Target',fontdict = {'fontsize' : 20})\n",
    "    plt.xlabel('Predicted IMDb Rating',fontdict = {'fontsize' : 16})\n",
    "    plt.ylabel('Actual IMDb Rating',fontdict = {'fontsize' : 16})\n",
    "    plt.xticks(fontsize=15)\n",
    "    plt.yticks(fontsize=15)\n",
    "    plt.axis([1,10,1,10])\n",
    "    plt.show()\n",
    "    \n",
    "    if parametric == True:\n",
    "        print(pd.DataFrame(list(zip(X_train.columns, model.coef_, abs(model.coef_))), \n",
    "                 columns=['Feature', 'Coef', 'Abs Coef']).sort_values('Abs Coef', ascending=False).head(10))\n",
    "    else:\n",
    "        print(pd.DataFrame(list(zip(X_train.columns, model.feature_importances_)), \n",
    "                 columns=['Feature', 'Importance']).sort_values('Importance', ascending=False).head(10))\n",
    "    \n",
    "    return model"
   ]
  },
  {
   "cell_type": "code",
   "execution_count": 99,
   "metadata": {},
   "outputs": [
    {
     "name": "stdout",
     "output_type": "stream",
     "text": [
      "Training score 0.75\n",
      "Testing RMSE: 12751402802.94\n",
      "Cross-validated RMSEs: [1.07095426e+10 1.54333218e+09 6.05634808e+09 1.12809042e+09\n",
      " 1.08522220e+10]\n",
      "Mean cross-validated RMSE: 7386458395.49\n"
     ]
    },
    {
     "data": {
      "image/png": "[encoded data removed]",
      "text/plain": [
       "<Figure size 432x288 with 1 Axes>"
      ]
     },
     "metadata": {
      "needs_background": "light"
     },
     "output_type": "display_data"
    },
    {
     "name": "stdout",
     "output_type": "stream",
     "text": [
      "                     Feature          Coef      Abs Coef\n",
      "1                      gross  7.072994e+12  7.072994e+12\n",
      "3                     Profit -5.980275e+12  5.980275e+12\n",
      "0                     budget -1.583776e+12  1.583776e+12\n",
      "157  continent_North America -3.259684e+11  3.259684e+11\n",
      "170                 rating_X  3.203662e+11  3.203662e+11\n",
      "165         rating_Not Rated  3.203662e+11  3.203662e+11\n",
      "168                 rating_R  3.203662e+11  3.203662e+11\n",
      "164             rating_NC-17  3.203662e+11  3.203662e+11\n",
      "163                 rating_G  3.203662e+11  3.203662e+11\n",
      "167             rating_PG-13  3.203662e+11  3.203662e+11\n"
     ]
    },
    {
     "data": {
      "text/plain": [
       "LinearRegression(copy_X=True, fit_intercept=True, n_jobs=None, normalize=False)"
      ]
     },
     "execution_count": 99,
     "metadata": {},
     "output_type": "execute_result"
    }
   ],
   "source": [
    "lm_simple = get_model_metrics(x_train, y_train, x_test, y_test, lm.LinearRegression())\n",
    "lm_simple"
   ]
  },
  {
   "cell_type": "markdown",
   "metadata": {},
   "source": [
    "#### Regularised - Ridge"
   ]
  },
  {
   "cell_type": "code",
   "execution_count": 85,
   "metadata": {},
   "outputs": [],
   "source": [
    "# Function to return regularised model metrics\n",
    "def regularised_model_metrics(X_train, y_train, X_test, y_test, model, grid_params, parametric=True):\n",
    "    \"\"\"This function takes the train-test splits as arguments, as well as the algorithm being \n",
    "    used and the parameters, and returns the best cross-validated training score, the test \n",
    "    score, the best performing model and it's parameters, and the feature importances.\"\"\"\n",
    "    \n",
    "    gridsearch = GridSearchCV(model,\n",
    "                              grid_params,\n",
    "                              n_jobs=-1, cv=5, verbose=1, error_score='neg_mean_squared_error')\n",
    "    \n",
    "    gridsearch.fit(X_train, y_train)\n",
    "    print('Best parameters:', gridsearch.best_params_)\n",
    "    print('Cross-validated score on test data:', '{0:0.2f}'.format(abs(gridsearch.best_score_)))\n",
    "    best_model = gridsearch.best_estimator_\n",
    "    print('Testing RMSE:', '{0:0.2f}'.format(np.sqrt(metrics.mean_squared_error(y_test, best_model.predict(X_test)))))\n",
    "    \n",
    "    if parametric == True:\n",
    "        print(pd.DataFrame(list(zip(X_train.columns, best_model.coef_, abs(best_model.coef_))), \n",
    "                 columns=['Feature', 'Coef', 'Abs Coef']).sort_values('Abs Coef', ascending=False).head(10))\n",
    "    else:\n",
    "        print(pd.DataFrame(list(zip(X_train.columns, best_model.feature_importances_)), \n",
    "                 columns=['Feature', 'Importance']).sort_values('Importance', ascending=False).head(10))\n",
    "    \n",
    "    return best_model"
   ]
  },
  {
   "cell_type": "code",
   "execution_count": 86,
   "metadata": {},
   "outputs": [
    {
     "name": "stdout",
     "output_type": "stream",
     "text": [
      "Fitting 5 folds for each of 140 candidates, totalling 700 fits\n"
     ]
    },
    {
     "name": "stderr",
     "output_type": "stream",
     "text": [
      "[Parallel(n_jobs=-1)]: Using backend LokyBackend with 16 concurrent workers.\n",
      "[Parallel(n_jobs=-1)]: Done  18 tasks      | elapsed:    1.8s\n",
      "[Parallel(n_jobs=-1)]: Done 168 tasks      | elapsed:    9.7s\n",
      "[Parallel(n_jobs=-1)]: Done 418 tasks      | elapsed:   20.7s\n",
      "[Parallel(n_jobs=-1)]: Done 669 out of 700 | elapsed:   22.2s remaining:    0.9s\n",
      "[Parallel(n_jobs=-1)]: Done 700 out of 700 | elapsed:   22.3s finished\n"
     ]
    },
    {
     "name": "stdout",
     "output_type": "stream",
     "text": [
      "Best parameters: {'alpha': 12.915496650148826, 'fit_intercept': True, 'solver': 'auto'}\n",
      "Cross-validated score on test data: 0.33\n",
      "Testing RMSE: 0.80\n",
      "                              Feature      Coef  Abs Coef\n",
      "185                   genre_Animation  0.594089  0.594089\n",
      "192                      genre_Horror -0.431086  0.431086\n",
      "63                 writer_Woody Allen  0.416723  0.416723\n",
      "33               director_Woody Allen  0.383693  0.383693\n",
      "133  company_Fox Searchlight Pictures  0.377498  0.377498\n",
      "22                director_Rob Reiner  0.355145  0.355145\n",
      "2                             runtime  0.345794  0.345794\n",
      "29                director_Tim Burton  0.345180  0.345180\n",
      "186                   genre_Biography  0.343443  0.343443\n",
      "55           writer_Quentin Tarantino  0.337028  0.337028\n"
     ]
    }
   ],
   "source": [
    "ridge_params = {'alpha': np.logspace(-10, 10, 10),\n",
    "               'fit_intercept': [True, False],\n",
    "               'solver': ['auto', 'svd', 'cholesky', 'lsqr', 'sparse_cg', 'sag', 'saga']}\n",
    "\n",
    "ridge_model = regularised_model_metrics(x_train, y_train, x_test, y_test, lm.Ridge(), ridge_params)"
   ]
  },
  {
   "cell_type": "markdown",
   "metadata": {},
   "source": [
    "#### Regularised - Lasso"
   ]
  },
  {
   "cell_type": "code",
   "execution_count": 87,
   "metadata": {},
   "outputs": [
    {
     "name": "stdout",
     "output_type": "stream",
     "text": [
      "Fitting 5 folds for each of 20 candidates, totalling 100 fits\n"
     ]
    },
    {
     "name": "stderr",
     "output_type": "stream",
     "text": [
      "[Parallel(n_jobs=-1)]: Using backend LokyBackend with 16 concurrent workers.\n",
      "[Parallel(n_jobs=-1)]: Done  18 tasks      | elapsed:    6.2s\n",
      "[Parallel(n_jobs=-1)]: Done 100 out of 100 | elapsed:    8.4s finished\n"
     ]
    },
    {
     "name": "stdout",
     "output_type": "stream",
     "text": [
      "Best parameters: {'alpha': 0.0004641588833612782, 'fit_intercept': True}\n",
      "Cross-validated score on test data: 0.33\n",
      "Testing RMSE: 0.81\n",
      "                              Feature      Coef  Abs Coef\n",
      "63                 writer_Woody Allen  0.963022  0.963022\n",
      "185                   genre_Animation  0.736092  0.736092\n",
      "56           writer_Richard Linklater  0.649230  0.649230\n",
      "106                      country_Iran  0.646384  0.646384\n",
      "22                director_Rob Reiner  0.636429  0.636429\n",
      "55           writer_Quentin Tarantino  0.629680  0.629680\n",
      "29                director_Tim Burton  0.538349  0.538349\n",
      "100            country_Czech Republic -0.462909  0.462909\n",
      "133  company_Fox Searchlight Pictures  0.457779  0.457779\n",
      "25                 director_Sam Raimi  0.456828  0.456828\n"
     ]
    }
   ],
   "source": [
    "lasso_params = {'alpha': np.logspace(-10, 10, 10),\n",
    "               'fit_intercept': [True, False]}\n",
    "\n",
    "lasso_model = regularised_model_metrics(x_train, y_train, x_test, y_test, lm.Lasso(), lasso_params)"
   ]
  },
  {
   "cell_type": "markdown",
   "metadata": {},
   "source": [
    "#### Simple decision tree"
   ]
  },
  {
   "cell_type": "code",
   "execution_count": 105,
   "metadata": {},
   "outputs": [
    {
     "name": "stdout",
     "output_type": "stream",
     "text": [
      "[6.5 6.6 5.5 ... 7.7 7.  6.8]\n",
      "[5.7 7.5 6.3 ... 6.3 5.6 6.1]\n",
      "Training score 0.00\n",
      "Testing RMSE: 1.06\n",
      "Cross-validated RMSEs: [1.09352824 1.07219893 1.06767253 1.06403764 1.00336541]\n",
      "Mean cross-validated RMSE: 1.06\n"
     ]
    },
    {
     "data": {
      "image/png": "[encoded data removed]",
      "text/plain": [
       "<Figure size 432x288 with 1 Axes>"
      ]
     },
     "metadata": {
      "needs_background": "light"
     },
     "output_type": "display_data"
    },
    {
     "name": "stdout",
     "output_type": "stream",
     "text": [
      "             Feature  Importance\n",
      "2            runtime    0.249724\n",
      "3             Profit    0.170130\n",
      "0             budget    0.103972\n",
      "1              gross    0.084302\n",
      "185  genre_Animation    0.024296\n",
      "168         rating_R    0.017724\n",
      "186  genre_Biography    0.014652\n",
      "183     genre_Action    0.014211\n",
      "167     rating_PG-13    0.010353\n",
      "187     genre_Comedy    0.009968\n"
     ]
    }
   ],
   "source": [
    "dt = get_model_metrics(x_train, y_train, x_test, y_test, tree.DecisionTreeRegressor(), \n",
    "                       parametric=False)"
   ]
  },
  {
   "cell_type": "markdown",
   "metadata": {},
   "source": [
    "---\n",
    "<a id='explore'></a>\n",
    "## Part 4: _<u>Exploratory component</u>_"
   ]
  },
  {
   "cell_type": "markdown",
   "metadata": {},
   "source": [
    "---\n",
    "<a id='conc'></a>\n",
    "## Part 5: _<u>Conclusion</u>_"
   ]
  },
  {
   "cell_type": "markdown",
   "metadata": {},
   "source": [
    "# Appendix"
   ]
  },
  {
   "cell_type": "markdown",
   "metadata": {},
   "source": [
    "## Preprocess function"
   ]
  },
  {
   "cell_type": "code",
   "execution_count": 16,
   "metadata": {},
   "outputs": [],
   "source": [
    "def preprocess(path):\n",
    "    df = pd.read_csv(path)\n",
    "\n",
    "    ## create unique identifier of each movie \n",
    "    df['title_year'] = df['title'] + '_' + df['year'].astype(str)\n",
    "    ## create profit column\n",
    "    df['Profit'] = df['gross'] - df['budget']\n",
    "\n",
    "    #########################################################################################\n",
    "    ## create new compact datarfame\n",
    "    ## extract list of unique movie titles \n",
    "    #titles=list(set(df['title']))\n",
    "    title_year_set = list(set(df['title_year']))\n",
    "\n",
    "    # Create a dataframe where each row is a unique movie \n",
    "    movies={}\n",
    "    for t in title_year_set:\n",
    "        # Create a temperary datframe for subset of with title_year = t\n",
    "        df_temp = df[df.title_year == t]\n",
    "\n",
    "        # Extracting all the unique values for the attributes for the given title_year t\n",
    "        star = np.unique(df_temp['star'])\n",
    "        writer = np.unique(df_temp['writer'])\n",
    "        director = np.unique(df_temp['director'])\n",
    "        title = np.unique(df_temp['title'])\n",
    "        rating = np.unique(df_temp['rating'])\n",
    "        genre =np.unique(df_temp['genre'])\n",
    "        released = np.unique(df_temp['released'])\n",
    "        year = np.unique(df_temp['year'])\n",
    "        month = np.unique(df_temp['month'])\n",
    "        day = np.unique(df_temp['day'])\n",
    "        score = np.unique(df_temp['score'])\n",
    "        country = np.unique(df_temp['country'])\n",
    "        budget = np.unique(df_temp['budget'])\n",
    "        gross = np.unique(df_temp['gross'])\n",
    "        company = np.unique(df_temp['company'])\n",
    "        runtime = np.unique(df_temp['runtime'])\n",
    "        region = np.unique(df_temp['region'])\n",
    "        titleId = np.unique(df_temp['titleId'])\n",
    "        primaryName = np.unique(df_temp['primaryName'])\n",
    "\n",
    "        # Extract attributes which are based on primaryName and then as dictionaries\n",
    "        cat = {}\n",
    "        ncon = {}\n",
    "        prim = {}\n",
    "        known = {}\n",
    "        for index, row in df[df.title_year == t].iterrows():\n",
    "            pN = row['primaryName']\n",
    "            cat[pN] = row['category']\n",
    "            ncon[pN] = row['nconst']\n",
    "            known[pN] = row['knownForTitles']\n",
    "\n",
    "        movie = {'titleId': titleId, 'title':title, 'rating':rating, 'region':region, 'genre': genre, 'released': released, 'year':year,\n",
    "        'month':month, 'day':day, 'score':score, 'director':director, 'writer':writer, 'star':star, 'country':country,\n",
    "        'budget':budget, 'gross':gross, 'company':company, 'runtime': runtime, 'primaryName':primaryName, 'category':cat, 'nconst':ncon, 'knownForTitles':known}\n",
    "        movies[t]=movie\n",
    "    \n",
    "    # Construct dataframe \n",
    "    d=pd.DataFrame(movies)\n",
    "    df2=d.transpose()\n",
    "\n",
    "    df_movies = df2.copy()\n",
    "    # Finding one value for budget for each title_year\n",
    "    df_movies['budget'] = df_movies['budget'].apply(lambda x: x if len(x) == 1 else [np.nanmean(x)])\n",
    "\n",
    "    # Unpack array\n",
    "    col_unpack = ['title', 'rating', 'region', 'genre', 'released', 'year', 'month',\n",
    "        'day', 'score', 'director', 'writer', 'star', 'country', 'budget',\n",
    "        'gross', 'company', 'runtime']\n",
    "        \n",
    "    for col in col_unpack:\n",
    "        df_movies[col] = [i[0] for i in df_movies[col]]\n",
    "\n",
    "    #############################################################################\n",
    "    ## Data cleaning\n",
    "\n",
    "    # Drop missing values in budget\n",
    "    df_movies = df_movies.dropna(subset=['budget'])\n",
    "    # Dealing with missing values in rating\n",
    "    df_movies['rating'].fillna(\"Not Rated\", inplace = True) \n",
    "    df_movies['rating'] = df_movies['rating'].replace(['Unrated'],'Not Rated')\n",
    "    df_movies.fillna({'country':df_movies.country.mode().astype(str)[0],\n",
    "    'company':df_movies.company.mode().astype(str)[0],'runtime':df_movies.runtime.median()},inplace=True)\n",
    "\n",
    "    df_movies = df_movies.dropna(subset=['month'])\n",
    "\n",
    "    df_movies['released'] = pd.to_datetime(df_movies['released'],format='%Y-%m-%d')\n",
    "    df_movies = df_movies.sort_values(by= ['released'])\n",
    "\n",
    "    # Chagne type of month\n",
    "    months = ['January', 'February', 'March', 'April', 'May', 'June', 'July', 'August', 'September', 'October', 'November', 'December']\n",
    "    df_movies['month'] = pd.Categorical(df_movies['month'], categories=months, ordered=True)\n",
    "\n",
    "    # Convert the gross and budget from $ to Million $ \n",
    "    df_movies['gross'] = df_movies['gross']/1000000\n",
    "    df_movies['budget'] = df_movies['budget']/1000000\n",
    "\n",
    "    df_movies = df_movies.reset_index().rename(columns = {'index':'title_year'})\n",
    "\n",
    "    ####################################################################################\n",
    "    ## add new features to df_movies\n",
    "\n",
    "    df_movies['Profit'] = df_movies['gross'] - df_movies['budget']\n",
    "\n",
    "    ## we will create new column called released_2 that only consists of year and month information of movie release\n",
    "    df_movies['released_2'] = str(df_movies['year']) + '_' + str(df_movies['month'])\n",
    "\n",
    "    df_movies['country'] = df_movies['country'].replace(['West Germany'],'Germany')\n",
    "    df_movies['country'] = df_movies['country'].replace(['Yugoslavia'],'Serbia')\n",
    "    df_movies['country'] = df_movies['country'].replace(['Federal Republic of Yugoslavia'],'Serbia')\n",
    "\n",
    "    df_movies['continent'] = df_movies['country'].apply(country_to_continent)\n",
    "\n",
    "    # Create duration column\n",
    "    df_movies['duration'] = df_movies['runtime'].apply(duration)\n",
    "\n",
    "    return df,df_movies\n"
   ]
  },
  {
   "cell_type": "code",
   "execution_count": 72,
   "metadata": {},
   "outputs": [],
   "source": [
    "from collections import Counter\n",
    "\n",
    "# Define function for binarization of columns with the top N most commen ones\n",
    "def binary_features(train, features, N):\n",
    "    for feature in features:\n",
    "# Extract information and convert to list \n",
    "        if feature == 'primaryName':\n",
    "            train[feature]= train[feature].apply(lambda x:[g for g in x])\n",
    "        else:   \n",
    "            train[feature]= train[feature].apply(lambda x:[x or []])\n",
    "\n",
    "        # Finding top 30 most commen\n",
    "        c = Counter(sum(train[feature], []))\n",
    "        N_new = len(c)\n",
    "        most_N = [x[0] for x in c.most_common(N)]\n",
    "\n",
    "        # Removing the ones that are not in the top 30\n",
    "        train['temp_N'] = train[feature].apply(lambda x: list(set(most_N) & set(x)))\n",
    "\n",
    "        # Creat dummies\n",
    "        dummies = pd.get_dummies(train['temp_N'].apply(pd.Series).stack(), prefix = feature).groupby(level=0).sum()\n",
    "  \n",
    "        # Join back with the original dataframe\n",
    "        train = train.join(dummies)\n",
    "        train.iloc[:,-N_new:] = train.iloc[:,-N_new:].fillna(0)\n",
    "\n",
    "        # Drop the temperary colum\n",
    "        train.drop(columns=['temp_N'], inplace=True)\n",
    "\n",
    "        train.drop(columns=[feature], inplace=True)\n",
    "    return train"
   ]
  },
  {
   "cell_type": "code",
   "execution_count": 50,
   "metadata": {},
   "outputs": [],
   "source": [
    "train = pd.read_csv('df_movies.csv')"
   ]
  },
  {
   "cell_type": "code",
   "execution_count": 51,
   "metadata": {},
   "outputs": [],
   "source": [
    "feature = 'genre'\n",
    "train[feature]= train[feature].apply(lambda x:[x or []])\n",
    "c = Counter(sum(train[feature], []))\n",
    "most_N = [x[0] for x in c.most_common(30)]"
   ]
  },
  {
   "cell_type": "code",
   "execution_count": 52,
   "metadata": {},
   "outputs": [],
   "source": [
    "train['temp_N'] = train[feature].apply(lambda x: list(set(most_N) & set(x)))\n"
   ]
  },
  {
   "cell_type": "code",
   "execution_count": 53,
   "metadata": {},
   "outputs": [],
   "source": [
    "dummies = pd.get_dummies(train['temp_N'].apply(pd.Series).stack(), prefix = feature).groupby(level=0).sum()"
   ]
  },
  {
   "cell_type": "code",
   "execution_count": 54,
   "metadata": {},
   "outputs": [],
   "source": [
    "N = 30\n",
    "train = train.join(dummies)\n",
    "train.iloc[:,-N:] = train.iloc[:,-N:].fillna(0)"
   ]
  },
  {
   "cell_type": "code",
   "execution_count": 55,
   "metadata": {},
   "outputs": [],
   "source": [
    "train.drop(columns=['temp_N'], inplace=True)\n",
    "\n",
    "train.drop(columns=[feature], inplace=True)"
   ]
  },
  {
   "cell_type": "code",
   "execution_count": 56,
   "metadata": {},
   "outputs": [
    {
     "data": {
      "text/html": [
       "<div>\n",
       "<style scoped>\n",
       "    .dataframe tbody tr th:only-of-type {\n",
       "        vertical-align: middle;\n",
       "    }\n",
       "\n",
       "    .dataframe tbody tr th {\n",
       "        vertical-align: top;\n",
       "    }\n",
       "\n",
       "    .dataframe thead th {\n",
       "        text-align: right;\n",
       "    }\n",
       "</style>\n",
       "<table border=\"1\" class=\"dataframe\">\n",
       "  <thead>\n",
       "    <tr style=\"text-align: right;\">\n",
       "      <th></th>\n",
       "      <th>Unnamed: 0</th>\n",
       "      <th>title_year</th>\n",
       "      <th>titleId</th>\n",
       "      <th>title</th>\n",
       "      <th>rating</th>\n",
       "      <th>region</th>\n",
       "      <th>released</th>\n",
       "      <th>year</th>\n",
       "      <th>month</th>\n",
       "      <th>day</th>\n",
       "      <th>...</th>\n",
       "      <th>genre_Crime</th>\n",
       "      <th>genre_Drama</th>\n",
       "      <th>genre_Family</th>\n",
       "      <th>genre_Fantasy</th>\n",
       "      <th>genre_Horror</th>\n",
       "      <th>genre_Mystery</th>\n",
       "      <th>genre_Romance</th>\n",
       "      <th>genre_Sci-Fi</th>\n",
       "      <th>genre_Thriller</th>\n",
       "      <th>genre_Western</th>\n",
       "    </tr>\n",
       "  </thead>\n",
       "  <tbody>\n",
       "    <tr>\n",
       "      <th>0</th>\n",
       "      <td>0</td>\n",
       "      <td>American Gigolo_1980</td>\n",
       "      <td>['tt0080365' 'tt4257262']</td>\n",
       "      <td>American Gigolo</td>\n",
       "      <td>R</td>\n",
       "      <td>US</td>\n",
       "      <td>1980-02-01</td>\n",
       "      <td>1980</td>\n",
       "      <td>February</td>\n",
       "      <td>1.0</td>\n",
       "      <td>...</td>\n",
       "      <td>1</td>\n",
       "      <td>0</td>\n",
       "      <td>0</td>\n",
       "      <td>0</td>\n",
       "      <td>0</td>\n",
       "      <td>0</td>\n",
       "      <td>0</td>\n",
       "      <td>0</td>\n",
       "      <td>0</td>\n",
       "      <td>0</td>\n",
       "    </tr>\n",
       "    <tr>\n",
       "      <th>1</th>\n",
       "      <td>1</td>\n",
       "      <td>The Fog_1980</td>\n",
       "      <td>['tt0014051' 'tt0058270' 'tt0080749' 'tt043229...</td>\n",
       "      <td>The Fog</td>\n",
       "      <td>R</td>\n",
       "      <td>US</td>\n",
       "      <td>1980-02-08</td>\n",
       "      <td>1980</td>\n",
       "      <td>February</td>\n",
       "      <td>8.0</td>\n",
       "      <td>...</td>\n",
       "      <td>0</td>\n",
       "      <td>0</td>\n",
       "      <td>0</td>\n",
       "      <td>0</td>\n",
       "      <td>1</td>\n",
       "      <td>0</td>\n",
       "      <td>0</td>\n",
       "      <td>0</td>\n",
       "      <td>0</td>\n",
       "      <td>0</td>\n",
       "    </tr>\n",
       "    <tr>\n",
       "      <th>2</th>\n",
       "      <td>2</td>\n",
       "      <td>Cruising_1980</td>\n",
       "      <td>['tt0080569' 'tt3696404' 'tt4828890']</td>\n",
       "      <td>Cruising</td>\n",
       "      <td>R</td>\n",
       "      <td>US</td>\n",
       "      <td>1980-02-15</td>\n",
       "      <td>1980</td>\n",
       "      <td>February</td>\n",
       "      <td>15.0</td>\n",
       "      <td>...</td>\n",
       "      <td>1</td>\n",
       "      <td>0</td>\n",
       "      <td>0</td>\n",
       "      <td>0</td>\n",
       "      <td>0</td>\n",
       "      <td>0</td>\n",
       "      <td>0</td>\n",
       "      <td>0</td>\n",
       "      <td>0</td>\n",
       "      <td>0</td>\n",
       "    </tr>\n",
       "    <tr>\n",
       "      <th>3</th>\n",
       "      <td>3</td>\n",
       "      <td>When Time Ran Out..._1980</td>\n",
       "      <td>['tt0081747']</td>\n",
       "      <td>When Time Ran Out...</td>\n",
       "      <td>PG</td>\n",
       "      <td>US</td>\n",
       "      <td>1980-03-28</td>\n",
       "      <td>1980</td>\n",
       "      <td>March</td>\n",
       "      <td>28.0</td>\n",
       "      <td>...</td>\n",
       "      <td>0</td>\n",
       "      <td>0</td>\n",
       "      <td>0</td>\n",
       "      <td>0</td>\n",
       "      <td>0</td>\n",
       "      <td>0</td>\n",
       "      <td>0</td>\n",
       "      <td>0</td>\n",
       "      <td>0</td>\n",
       "      <td>0</td>\n",
       "    </tr>\n",
       "    <tr>\n",
       "      <th>4</th>\n",
       "      <td>4</td>\n",
       "      <td>Heaven's Gate_1980</td>\n",
       "      <td>['tt0080855' 'tt11210146' 'tt12892296' 'tt1480...</td>\n",
       "      <td>Heaven's Gate</td>\n",
       "      <td>R</td>\n",
       "      <td>US</td>\n",
       "      <td>1980-04-24</td>\n",
       "      <td>1980</td>\n",
       "      <td>April</td>\n",
       "      <td>24.0</td>\n",
       "      <td>...</td>\n",
       "      <td>0</td>\n",
       "      <td>0</td>\n",
       "      <td>0</td>\n",
       "      <td>0</td>\n",
       "      <td>0</td>\n",
       "      <td>0</td>\n",
       "      <td>0</td>\n",
       "      <td>0</td>\n",
       "      <td>0</td>\n",
       "      <td>0</td>\n",
       "    </tr>\n",
       "    <tr>\n",
       "      <th>...</th>\n",
       "      <td>...</td>\n",
       "      <td>...</td>\n",
       "      <td>...</td>\n",
       "      <td>...</td>\n",
       "      <td>...</td>\n",
       "      <td>...</td>\n",
       "      <td>...</td>\n",
       "      <td>...</td>\n",
       "      <td>...</td>\n",
       "      <td>...</td>\n",
       "      <td>...</td>\n",
       "      <td>...</td>\n",
       "      <td>...</td>\n",
       "      <td>...</td>\n",
       "      <td>...</td>\n",
       "      <td>...</td>\n",
       "      <td>...</td>\n",
       "      <td>...</td>\n",
       "      <td>...</td>\n",
       "      <td>...</td>\n",
       "      <td>...</td>\n",
       "    </tr>\n",
       "    <tr>\n",
       "      <th>5299</th>\n",
       "      <td>5299</td>\n",
       "      <td>Penelope_2006</td>\n",
       "      <td>['tt0060818' 'tt0472160' 'tt1119944' 'tt116462...</td>\n",
       "      <td>Penelope</td>\n",
       "      <td>PG</td>\n",
       "      <td>US</td>\n",
       "      <td>NaN</td>\n",
       "      <td>2006</td>\n",
       "      <td>February</td>\n",
       "      <td>29.0</td>\n",
       "      <td>...</td>\n",
       "      <td>0</td>\n",
       "      <td>0</td>\n",
       "      <td>0</td>\n",
       "      <td>0</td>\n",
       "      <td>0</td>\n",
       "      <td>0</td>\n",
       "      <td>0</td>\n",
       "      <td>0</td>\n",
       "      <td>0</td>\n",
       "      <td>0</td>\n",
       "    </tr>\n",
       "    <tr>\n",
       "      <th>5300</th>\n",
       "      <td>5300</td>\n",
       "      <td>Killing Zoe_1994</td>\n",
       "      <td>['tt0110265']</td>\n",
       "      <td>Killing Zoe</td>\n",
       "      <td>R</td>\n",
       "      <td>US</td>\n",
       "      <td>NaN</td>\n",
       "      <td>1994</td>\n",
       "      <td>September</td>\n",
       "      <td>NaN</td>\n",
       "      <td>...</td>\n",
       "      <td>1</td>\n",
       "      <td>0</td>\n",
       "      <td>0</td>\n",
       "      <td>0</td>\n",
       "      <td>0</td>\n",
       "      <td>0</td>\n",
       "      <td>0</td>\n",
       "      <td>0</td>\n",
       "      <td>0</td>\n",
       "      <td>0</td>\n",
       "    </tr>\n",
       "    <tr>\n",
       "      <th>5301</th>\n",
       "      <td>5301</td>\n",
       "      <td>Cronos_1994</td>\n",
       "      <td>['tt0104029' 'tt14811148' 'tt5692086' 'tt60567...</td>\n",
       "      <td>Cronos</td>\n",
       "      <td>R</td>\n",
       "      <td>US</td>\n",
       "      <td>NaN</td>\n",
       "      <td>1994</td>\n",
       "      <td>May</td>\n",
       "      <td>NaN</td>\n",
       "      <td>...</td>\n",
       "      <td>0</td>\n",
       "      <td>0</td>\n",
       "      <td>0</td>\n",
       "      <td>1</td>\n",
       "      <td>0</td>\n",
       "      <td>0</td>\n",
       "      <td>0</td>\n",
       "      <td>0</td>\n",
       "      <td>0</td>\n",
       "      <td>0</td>\n",
       "    </tr>\n",
       "    <tr>\n",
       "      <th>5302</th>\n",
       "      <td>5302</td>\n",
       "      <td>Stormy Monday_1988</td>\n",
       "      <td>['tt0096180']</td>\n",
       "      <td>Stormy Monday</td>\n",
       "      <td>R</td>\n",
       "      <td>US</td>\n",
       "      <td>NaN</td>\n",
       "      <td>1988</td>\n",
       "      <td>May</td>\n",
       "      <td>NaN</td>\n",
       "      <td>...</td>\n",
       "      <td>1</td>\n",
       "      <td>0</td>\n",
       "      <td>0</td>\n",
       "      <td>0</td>\n",
       "      <td>0</td>\n",
       "      <td>0</td>\n",
       "      <td>0</td>\n",
       "      <td>0</td>\n",
       "      <td>0</td>\n",
       "      <td>0</td>\n",
       "    </tr>\n",
       "    <tr>\n",
       "      <th>5303</th>\n",
       "      <td>5303</td>\n",
       "      <td>Come See the Paradise_1991</td>\n",
       "      <td>['tt0099291']</td>\n",
       "      <td>Come See the Paradise</td>\n",
       "      <td>R</td>\n",
       "      <td>US</td>\n",
       "      <td>NaN</td>\n",
       "      <td>1991</td>\n",
       "      <td>January</td>\n",
       "      <td>NaN</td>\n",
       "      <td>...</td>\n",
       "      <td>0</td>\n",
       "      <td>1</td>\n",
       "      <td>0</td>\n",
       "      <td>0</td>\n",
       "      <td>0</td>\n",
       "      <td>0</td>\n",
       "      <td>0</td>\n",
       "      <td>0</td>\n",
       "      <td>0</td>\n",
       "      <td>0</td>\n",
       "    </tr>\n",
       "  </tbody>\n",
       "</table>\n",
       "<p>5304 rows × 42 columns</p>\n",
       "</div>"
      ],
      "text/plain": [
       "      Unnamed: 0                  title_year  \\\n",
       "0              0        American Gigolo_1980   \n",
       "1              1                The Fog_1980   \n",
       "2              2               Cruising_1980   \n",
       "3              3   When Time Ran Out..._1980   \n",
       "4              4          Heaven's Gate_1980   \n",
       "...          ...                         ...   \n",
       "5299        5299               Penelope_2006   \n",
       "5300        5300            Killing Zoe_1994   \n",
       "5301        5301                 Cronos_1994   \n",
       "5302        5302          Stormy Monday_1988   \n",
       "5303        5303  Come See the Paradise_1991   \n",
       "\n",
       "                                                titleId  \\\n",
       "0                             ['tt0080365' 'tt4257262']   \n",
       "1     ['tt0014051' 'tt0058270' 'tt0080749' 'tt043229...   \n",
       "2                 ['tt0080569' 'tt3696404' 'tt4828890']   \n",
       "3                                         ['tt0081747']   \n",
       "4     ['tt0080855' 'tt11210146' 'tt12892296' 'tt1480...   \n",
       "...                                                 ...   \n",
       "5299  ['tt0060818' 'tt0472160' 'tt1119944' 'tt116462...   \n",
       "5300                                      ['tt0110265']   \n",
       "5301  ['tt0104029' 'tt14811148' 'tt5692086' 'tt60567...   \n",
       "5302                                      ['tt0096180']   \n",
       "5303                                      ['tt0099291']   \n",
       "\n",
       "                      title rating region    released  year      month   day  \\\n",
       "0           American Gigolo      R     US  1980-02-01  1980   February   1.0   \n",
       "1                   The Fog      R     US  1980-02-08  1980   February   8.0   \n",
       "2                  Cruising      R     US  1980-02-15  1980   February  15.0   \n",
       "3      When Time Ran Out...     PG     US  1980-03-28  1980      March  28.0   \n",
       "4             Heaven's Gate      R     US  1980-04-24  1980      April  24.0   \n",
       "...                     ...    ...    ...         ...   ...        ...   ...   \n",
       "5299               Penelope     PG     US         NaN  2006   February  29.0   \n",
       "5300            Killing Zoe      R     US         NaN  1994  September   NaN   \n",
       "5301                 Cronos      R     US         NaN  1994        May   NaN   \n",
       "5302          Stormy Monday      R     US         NaN  1988        May   NaN   \n",
       "5303  Come See the Paradise      R     US         NaN  1991    January   NaN   \n",
       "\n",
       "      ...  genre_Crime genre_Drama genre_Family genre_Fantasy genre_Horror  \\\n",
       "0     ...            1           0            0             0            0   \n",
       "1     ...            0           0            0             0            1   \n",
       "2     ...            1           0            0             0            0   \n",
       "3     ...            0           0            0             0            0   \n",
       "4     ...            0           0            0             0            0   \n",
       "...   ...          ...         ...          ...           ...          ...   \n",
       "5299  ...            0           0            0             0            0   \n",
       "5300  ...            1           0            0             0            0   \n",
       "5301  ...            0           0            0             1            0   \n",
       "5302  ...            1           0            0             0            0   \n",
       "5303  ...            0           1            0             0            0   \n",
       "\n",
       "      genre_Mystery  genre_Romance genre_Sci-Fi  genre_Thriller genre_Western  \n",
       "0                 0              0            0               0             0  \n",
       "1                 0              0            0               0             0  \n",
       "2                 0              0            0               0             0  \n",
       "3                 0              0            0               0             0  \n",
       "4                 0              0            0               0             0  \n",
       "...             ...            ...          ...             ...           ...  \n",
       "5299              0              0            0               0             0  \n",
       "5300              0              0            0               0             0  \n",
       "5301              0              0            0               0             0  \n",
       "5302              0              0            0               0             0  \n",
       "5303              0              0            0               0             0  \n",
       "\n",
       "[5304 rows x 42 columns]"
      ]
     },
     "execution_count": 56,
     "metadata": {},
     "output_type": "execute_result"
    }
   ],
   "source": [
    "train"
   ]
  },
  {
   "cell_type": "markdown",
   "metadata": {},
   "source": [
    "## Helper functions"
   ]
  },
  {
   "cell_type": "code",
   "execution_count": 3,
   "metadata": {},
   "outputs": [],
   "source": [
    "import pycountry_convert as pc\n",
    "\n",
    "def country_to_continent(country_name):\n",
    "    country_alpha2 = pc.country_name_to_country_alpha2(country_name)\n",
    "    country_continent_code = pc.country_alpha2_to_continent_code(country_alpha2)\n",
    "    country_continent_name = pc.convert_continent_code_to_continent_name(country_continent_code)\n",
    "    return country_continent_name\n",
    "\n",
    "def duration(x):\n",
    "    if x <= 120:\n",
    "        return 'Short'\n",
    "    else:\n",
    "        return 'Long'\n",
    "    "
   ]
  },
  {
   "cell_type": "code",
   "execution_count": null,
   "metadata": {},
   "outputs": [],
   "source": []
  }
 ],
 "metadata": {
  "interpreter": {
   "hash": "f1d60ef3148d6d6f99d64de6ef09e0267d4db5c62a0823eaf2b9aa582c08f8e5"
  },
  "kernelspec": {
   "display_name": "Python 3.7.6 64-bit ('base': conda)",
   "language": "python",
   "name": "python3"
  },
  "language_info": {
   "codemirror_mode": {
    "name": "ipython",
    "version": 3
   },
   "file_extension": ".py",
   "mimetype": "text/x-python",
   "name": "python",
   "nbconvert_exporter": "python",
   "pygments_lexer": "ipython3",
   "version": "3.7.6"
  },
  "orig_nbformat": 4
 },
 "nbformat": 4,
 "nbformat_minor": 2
}
