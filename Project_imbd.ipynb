{
 "cells": [
  {
   "cell_type": "markdown",
   "metadata": {},
   "source": [
    "## Project Challenge: Exploratory and predictive analytics upon the comprehensive IMDb data of movies released between 1980-2020\n",
    "\n",
    "### **_by Hanlu He (s183909), Mia Hang Knudsen (s183998), Jiafei Xia (s213084), Atefeh Hemmati Golsefidi (s216676)_**\n",
    "---\n",
    "## _Notebook 1/2: Exploratory analysis of data_\n",
    "---\n",
    "## Table of Contents\n",
    "- [Part 1: <u>Introduction</u>](#intro)\n",
    "- [Part 2: <u>Data analysis and visualisation</u>](#datavis)\n",
    "    - [2.1: <u>Load and present basic information of the dataset</u>](#load)\n",
    "    - [2.2: <u>Dicussion of profiler output</u>](#profiler) \n",
    "- [Part 3: <u>Prediction challenge</u>](#prediction)\n",
    "    - [2.1: <u>The expected revenue (gross)</u>](#gross)\n",
    "    - [2.2: <u>IMDb score (score)</u>](#score) \n",
    "- [Part 4: <u>Exploratory component</u>](#explore)\n",
    "    - [4.1: <u>Q1</u>](#q1)\n",
    "    - [4.2: <u>Q2</u>](#q2)\n",
    "- [Part 5: <u>Conclusion</u>](#conc)"
   ]
  },
  {
   "cell_type": "code",
   "execution_count": 1,
   "metadata": {},
   "outputs": [],
   "source": [
    "#data analysis libraries \n",
    "import numpy as np\n",
    "import pandas as pd\n",
    "pd.options.mode.chained_assignment = None\n",
    "\n",
    "from pandas_profiling import ProfileReport\n",
    "\n",
    "#visualization libraries\n",
    "import matplotlib.pyplot as plt\n",
    "import seaborn as sns\n",
    "plt.rcParams['figure.figsize'] = (18, 8)\n",
    "sns.set_theme()\n",
    "from ipywidgets import interact\n",
    "\n",
    "%matplotlib inline"
   ]
  },
  {
   "cell_type": "markdown",
   "metadata": {},
   "source": [
    "---\n",
    "<a id='intro'></a>\n",
    "## Part 1: _<u>Introduction</u>_"
   ]
  },
  {
   "cell_type": "markdown",
   "metadata": {},
   "source": [
    "We will be working with dataset obtained through kaggle called [Comprehensive IMDb Data](https://www.kaggle.com/austinwolff/comprehensive-imdb-data). The dataset contains movies released in the USA between 1980-2020 that has available box office data. The dataset was created with the intention of what features/variables contribute most to the movie's box office success. Below is the features list that are included in the dataset.\n",
    "\n",
    "**Features**\n",
    "\n",
    "* **titleId**: IMDb's relational database ID for \"title\".\n",
    "* **title**: Title of the movie.\n",
    "* **rating**: MPAA (Motion Picture Association of America film rating system ) rating. \n",
    "* **region**: Region. \n",
    "* **genre**: The movie genre.\n",
    "* **released**: Release date of the movie in theaters.\n",
    "* **year**: Year of movie release.\n",
    "* **month**: Month of movie release.\n",
    "* **day**: Day of movie release.\n",
    "* **score**: IMDb score.\n",
    "* **director**: Director of the movie.\n",
    "* **writer**: Writer of the movie.\n",
    "* **star**: Main actor and actress of the movie.\n",
    "* **country**: Main country of the movie.\n",
    "* **budget**: Budget of the movie.\n",
    "* **gross**: Gross revenue (box office) of the movie.\n",
    "* **company**: Production company of the movie.\n",
    "* **runtime**: Runtime of the movie in minutes. \n",
    "* **category**: Type of the credit this person (\"primaryName\") had for working on the movie. \n",
    "* **nconst**: IMDb's relational database ID for \"primaryName\".\n",
    "* **primaryName**: Name of person who worked on the movie.\n",
    "* **knownForTitles**: Top 4 titles an actor (indicated by \"primaryName\") is known for, by titleID. "
   ]
  },
  {
   "cell_type": "markdown",
   "metadata": {},
   "source": [
    "---\n",
    "<a id='datavis'></a>\n",
    "## Part 2: _<u>Data analysis and visualisation</u>_"
   ]
  },
  {
   "cell_type": "markdown",
   "metadata": {},
   "source": [
    "---\n",
    "<a id='prediction'></a>\n",
    "## Part 3: _<u>Prediction challenge</u>_"
   ]
  },
  {
   "cell_type": "markdown",
   "metadata": {},
   "source": [
    "<a id='gross'></a>\n",
    "### 3.1: _<u>The expected revenue (gross)</u>_"
   ]
  },
  {
   "cell_type": "markdown",
   "metadata": {},
   "source": [
    "<a id='score'></a>\n",
    "### 3.2: _<u>IMDb score (score)</u>_"
   ]
  },
  {
   "cell_type": "markdown",
   "metadata": {},
   "source": [
    "---\n",
    "<a id='explore'></a>\n",
    "## Part 4: _<u>Exploratory component</u>_"
   ]
  },
  {
   "cell_type": "markdown",
   "metadata": {},
   "source": [
    "---\n",
    "<a id='conc'></a>\n",
    "## Part 5: _<u>Conclusion</u>_"
   ]
  },
  {
   "cell_type": "markdown",
   "metadata": {},
   "source": [
    "# Appendix"
   ]
  },
  {
   "cell_type": "markdown",
   "metadata": {},
   "source": [
    "## Preprocess function"
   ]
  },
  {
   "cell_type": "code",
   "execution_count": 3,
   "metadata": {},
   "outputs": [],
   "source": [
    "def preprocess(path):\n",
    "    df = pd.read_csv(path)\n",
    "\n",
    "    ## create unique identifier of each movie \n",
    "    df['title_year'] = df['title'] + '_' + df['year'].astype(str)\n",
    "    ## create profit column\n",
    "    df['Profit'] = df['gross'] - df['budget']\n",
    "\n",
    "    #########################################################################################\n",
    "    ## create new compact datarfame\n",
    "    ## extract list of unique movie titles \n",
    "    #titles=list(set(df['title']))\n",
    "    title_year_set = list(set(df['title_year']))\n",
    "\n",
    "    # Create a dataframe where each row is a unique movie \n",
    "    movies={}\n",
    "    for t in title_year_set:\n",
    "        # Create a temperary datframe for subset of with title_year = t\n",
    "        df_temp = df[df.title_year == t]\n",
    "\n",
    "        # Extracting all the unique values for the attributes for the given title_year t\n",
    "        star = np.unique(df_temp['star'])\n",
    "        writer = np.unique(df_temp['writer'])\n",
    "        director = np.unique(df_temp['director'])\n",
    "        title = np.unique(df_temp['title'])\n",
    "        rating = np.unique(df_temp['rating'])\n",
    "        genre =np.unique(df_temp['genre'])\n",
    "        released = np.unique(df_temp['released'])\n",
    "        year = np.unique(df_temp['year'])\n",
    "        month = np.unique(df_temp['month'])\n",
    "        day = np.unique(df_temp['day'])\n",
    "        score = np.unique(df_temp['score'])\n",
    "        country = np.unique(df_temp['country'])\n",
    "        budget = np.unique(df_temp['budget'])\n",
    "        gross = np.unique(df_temp['gross'])\n",
    "        company = np.unique(df_temp['company'])\n",
    "        runtime = np.unique(df_temp['runtime'])\n",
    "        region = np.unique(df_temp['region'])\n",
    "        titleId = np.unique(df_temp['titleId'])\n",
    "        primaryName = np.unique(df_temp['primaryName'])\n",
    "\n",
    "        # Extract attributes which are based on primaryName and then as dictionaries\n",
    "        cat = {}\n",
    "        ncon = {}\n",
    "        prim = {}\n",
    "        known = {}\n",
    "        for index, row in df[df.title_year == t].iterrows():\n",
    "            pN = row['primaryName']\n",
    "            cat[pN] = row['category']\n",
    "            ncon[pN] = row['nconst']\n",
    "            known[pN] = row['knownForTitles']\n",
    "\n",
    "        movie = {'titleId': titleId, 'title':title, 'rating':rating, 'region':region, 'genre': genre, 'released': released, 'year':year,\n",
    "        'month':month, 'day':day, 'score':score, 'director':director, 'writer':writer, 'star':star, 'country':country,\n",
    "        'budget':budget, 'gross':gross, 'company':company, 'runtime': runtime, 'primaryName':primaryName, 'category':cat, 'nconst':ncon, 'knownForTitles':known}\n",
    "        movies[t]=movie\n",
    "    \n",
    "    # Construct dataframe \n",
    "    d=pd.DataFrame(movies)\n",
    "    df2=d.transpose()\n",
    "\n",
    "    df_movies = df2.copy()\n",
    "    # Finding one value for budget for each title_year\n",
    "    df_movies['budget'] = df_movies['budget'].apply(lambda x: x if len(x) == 1 else [np.nanmean(x)])\n",
    "\n",
    "    # Unpack array\n",
    "    col_unpack = ['title', 'rating', 'region', 'genre', 'released', 'year', 'month',\n",
    "        'day', 'score', 'director', 'writer', 'star', 'country', 'budget',\n",
    "        'gross', 'company', 'runtime']\n",
    "        \n",
    "    for col in col_unpack:\n",
    "        df_movies[col] = [i[0] for i in df_movies[col]]\n",
    "\n",
    "    #############################################################################\n",
    "    ## Data cleaning\n",
    "\n",
    "    # Drop missing values in budget\n",
    "    df_movies = df_movies.dropna(subset=['budget'])\n",
    "    # Dealing with missing values in rating\n",
    "    df_movies['rating'].fillna(\"Not Rated\", inplace = True) \n",
    "    df_movies['rating'] = df_movies['rating'].replace(['Unrated'],'Not Rated')\n",
    "    df_movies.fillna({'country':df_movies.country.mode().astype(str)[0],\n",
    "    'company':df_movies.company.mode().astype(str)[0],'runtime':df_movies.runtime.median()},inplace=True)\n",
    "\n",
    "    df_movies = df_movies.dropna(subset=['month'])\n",
    "\n",
    "    df_movies['released'] = pd.to_datetime(df_movies['released'],format='%Y-%m-%d')\n",
    "    df_movies = df_movies.sort_values(by= ['released'])\n",
    "\n",
    "    # Chagne type of month\n",
    "    months = ['January', 'February', 'March', 'April', 'May', 'June', 'July', 'August', 'September', 'October', 'November', 'December']\n",
    "    df_movies['months'] = pd.Categorical(df_movies['month'], categories=months, ordered=True)\n",
    "\n",
    "    # Convert the gross and budget from $ to Million $ \n",
    "    df_movies['gross'] = df_movies['gross']/1000000\n",
    "    df_movies['budget'] = df_movies['budget']/1000000\n",
    "\n",
    "    df_movies = df_movies.reset_index().rename(columns = {'index':'title_year'})\n",
    "\n",
    "    ####################################################################################\n",
    "    ## add new features to df_movies\n",
    "\n",
    "    df_movies['Profit'] = df_movies['gross'] - df_movies['budget']\n",
    "\n",
    "    ## we will create new column called released_2 that only consists of year and month information of movie release\n",
    "    df_movies['released_2'] = str(df_movies['year']) + '_' + str(df_movies['month'])\n",
    "\n",
    "    df_movies['country'] = df_movies['country'].replace(['West Germany'],'Germany')\n",
    "    df_movies['country'] = df_movies['country'].replace(['Yugoslavia'],'Serbia')\n",
    "    df_movies['country'] = df_movies['country'].replace(['Federal Republic of Yugoslavia'],'Serbia')\n",
    "\n",
    "    df_movies['continent'] = df_movies['country'].apply(country_to_continent)\n",
    "\n",
    "    # Create duration column\n",
    "    df_movies['duration'] = df_movies['runtime'].apply(duration)\n",
    "\n",
    "    return df,df_movies\n"
   ]
  },
  {
   "cell_type": "markdown",
   "metadata": {},
   "source": [
    "## Helper functions"
   ]
  },
  {
   "cell_type": "code",
   "execution_count": 2,
   "metadata": {},
   "outputs": [],
   "source": [
    "import pycountry_convert as pc\n",
    "\n",
    "def country_to_continent(country_name):\n",
    "    country_alpha2 = pc.country_name_to_country_alpha2(country_name)\n",
    "    country_continent_code = pc.country_alpha2_to_continent_code(country_alpha2)\n",
    "    country_continent_name = pc.convert_continent_code_to_continent_name(country_continent_code)\n",
    "    return country_continent_name\n",
    "\n",
    "def duration(x):\n",
    "    if x <= 120:\n",
    "        return 'Short'\n",
    "    else:\n",
    "        return 'Long'\n",
    "    "
   ]
  },
  {
   "cell_type": "code",
   "execution_count": null,
   "metadata": {},
   "outputs": [],
   "source": []
  }
 ],
 "metadata": {
  "interpreter": {
   "hash": "f1d60ef3148d6d6f99d64de6ef09e0267d4db5c62a0823eaf2b9aa582c08f8e5"
  },
  "kernelspec": {
   "display_name": "Python 3.7.6 64-bit ('base': conda)",
   "language": "python",
   "name": "python3"
  },
  "language_info": {
   "codemirror_mode": {
    "name": "ipython",
    "version": 3
   },
   "file_extension": ".py",
   "mimetype": "text/x-python",
   "name": "python",
   "nbconvert_exporter": "python",
   "pygments_lexer": "ipython3",
   "version": "3.7.6"
  },
  "orig_nbformat": 4
 },
 "nbformat": 4,
 "nbformat_minor": 2
}
